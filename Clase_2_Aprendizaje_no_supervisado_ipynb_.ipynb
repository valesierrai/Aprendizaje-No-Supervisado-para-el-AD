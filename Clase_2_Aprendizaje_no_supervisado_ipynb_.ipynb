{
  "nbformat": 4,
  "nbformat_minor": 0,
  "metadata": {
    "colab": {
      "provenance": [],
      "include_colab_link": true
    },
    "kernelspec": {
      "name": "python3",
      "display_name": "Python 3"
    },
    "language_info": {
      "name": "python"
    }
  },
  "cells": [
    {
      "cell_type": "markdown",
      "metadata": {
        "id": "view-in-github",
        "colab_type": "text"
      },
      "source": [
        "<a href=\"https://colab.research.google.com/github/valesierrai/Aprendizaje-No-Supervisado-para-el-AD/blob/main/Clase_2_Aprendizaje_no_supervisado_ipynb_.ipynb\" target=\"_parent\"><img src=\"https://colab.research.google.com/assets/colab-badge.svg\" alt=\"Open In Colab\"/></a>"
      ]
    },
    {
      "cell_type": "markdown",
      "source": [
        "\n",
        "* Breve introducción a Python y Colab.\n",
        "    * Bloques de texto.\n",
        "    * Tipos de datos.\n",
        "    * Listas.\n",
        "    * Diccionarios.\n",
        "    * Numpy.\n"
      ],
      "metadata": {
        "id": "4ZASFltvYLW5"
      }
    },
    {
      "cell_type": "code",
      "source": [
        "x= 10 # Variable int\n",
        "y= 3.14 # Variable float\n",
        "z= \"Manzana\" # Variable str\n",
        "w=True # bool"
      ],
      "metadata": {
        "id": "KUJ3CuleaIyy"
      },
      "execution_count": null,
      "outputs": []
    },
    {
      "cell_type": "code",
      "source": [
        "True\n",
        "False"
      ],
      "metadata": {
        "colab": {
          "base_uri": "https://localhost:8080/"
        },
        "id": "9fgQiXllaMYK",
        "outputId": "72c0174a-eca6-4148-a62b-65783cf2a15b"
      },
      "execution_count": null,
      "outputs": [
        {
          "output_type": "execute_result",
          "data": {
            "text/plain": [
              "False"
            ]
          },
          "metadata": {},
          "execution_count": 3
        }
      ]
    },
    {
      "cell_type": "code",
      "source": [
        "print(type(x))\n",
        "print(type(y))\n",
        "print(type(z))\n",
        "print(type(w))"
      ],
      "metadata": {
        "colab": {
          "base_uri": "https://localhost:8080/"
        },
        "id": "JuBHlo3gaSWw",
        "outputId": "02e1e6e1-56c2-4bd3-968b-7078ef437fbc"
      },
      "execution_count": null,
      "outputs": [
        {
          "output_type": "stream",
          "name": "stdout",
          "text": [
            "<class 'int'>\n",
            "<class 'float'>\n",
            "<class 'str'>\n",
            "<class 'bool'>\n"
          ]
        }
      ]
    },
    {
      "cell_type": "markdown",
      "source": [
        "# Listas\n",
        "\n",
        "En python, las listas con una colección de variables en python, también son un tipo de variables en python. Para crear una lista se utilizan []."
      ],
      "metadata": {
        "id": "traDNUsH21Pk"
      }
    },
    {
      "cell_type": "code",
      "source": [
        "lista1= [1,2,5] # Lista de núemros enteros\n",
        "lista2=[ \"Manzana\", \"Naranja\"] # Lista de caracteres\n",
        "lista3 = [33.14,5.4,6.5] # lista de número float\n",
        "lista4 = [True, False, True] # Lista de  bool\n",
        "print(lista1)\n",
        "print(lista2)\n",
        "print(lista3)\n",
        "print(lista4)"
      ],
      "metadata": {
        "id": "TtKaBPGG9WtY",
        "colab": {
          "base_uri": "https://localhost:8080/"
        },
        "outputId": "0caf08b5-12fe-4ecc-ecd6-e0f55330d643"
      },
      "execution_count": null,
      "outputs": [
        {
          "output_type": "stream",
          "name": "stdout",
          "text": [
            "[1, 2, 5]\n",
            "['Manzana', 'Naranja']\n",
            "[33.14, 5.4, 6.5]\n",
            "[True, False, True]\n"
          ]
        }
      ]
    },
    {
      "cell_type": "markdown",
      "source": [
        "Las listas permiten guardar cualquier tipo de variable en python, independiente del tipo.\n",
        "\n",
        "Para acceder a un elemento de la lista debes especificar la posición con []\n",
        "\n",
        "\n",
        "```python\n",
        "lista[posición]\n",
        "```\n",
        "\n",
        "Las posiciones en python empiezan desde 0."
      ],
      "metadata": {
        "id": "oyGjjwSKbRDp"
      }
    },
    {
      "cell_type": "code",
      "source": [
        "lista5 = [True, 3.4, \"Manzana\" ]\n",
        "lista5"
      ],
      "metadata": {
        "colab": {
          "base_uri": "https://localhost:8080/"
        },
        "id": "xr9N9obGnRqm",
        "outputId": "9ba9c738-a4b3-43ac-8702-54b1bf7989e8"
      },
      "execution_count": null,
      "outputs": [
        {
          "output_type": "execute_result",
          "data": {
            "text/plain": [
              "[True, 3.4, 'Manzana']"
            ]
          },
          "metadata": {},
          "execution_count": 6
        }
      ]
    },
    {
      "cell_type": "markdown",
      "source": [
        "Este también es un tipo de variable en python."
      ],
      "metadata": {
        "id": "eW5h3_rArCPG"
      }
    },
    {
      "cell_type": "code",
      "source": [
        "type(lista1)"
      ],
      "metadata": {
        "colab": {
          "base_uri": "https://localhost:8080/"
        },
        "id": "nIr-lA8jrFy4",
        "outputId": "1d6337e7-bf3e-49ab-f8d3-9a2dc0c0e785"
      },
      "execution_count": null,
      "outputs": [
        {
          "output_type": "execute_result",
          "data": {
            "text/plain": [
              "list"
            ]
          },
          "metadata": {},
          "execution_count": 7
        }
      ]
    },
    {
      "cell_type": "markdown",
      "source": [
        "Las listas tienen multiples operaciones, se mensionan las siguientes."
      ],
      "metadata": {
        "id": "waohCxL3rayK"
      }
    },
    {
      "cell_type": "code",
      "source": [
        "lista1.append( 4) # Añadir un elemento en la última posición\n",
        "print(\"Tamaño de la lista\",len( lista1))  # Cantidad de elementos en una lista\n",
        "print(lista1)"
      ],
      "metadata": {
        "colab": {
          "base_uri": "https://localhost:8080/"
        },
        "id": "U9rQt2mMrmod",
        "outputId": "367f1995-74be-4635-e8ab-7cd2c16df21b"
      },
      "execution_count": null,
      "outputs": [
        {
          "output_type": "stream",
          "name": "stdout",
          "text": [
            "Tamaño de la lista 4\n",
            "[1, 2, 5, 4]\n"
          ]
        }
      ]
    },
    {
      "cell_type": "markdown",
      "source": [
        "Una lista puede tener lista de listas."
      ],
      "metadata": {
        "id": "c9oUxgEot1AS"
      }
    },
    {
      "cell_type": "code",
      "source": [
        "listas= [lista1,lista2,lista3,lista4] # Lista de todas las listas\n",
        "print(len(listas))\n",
        "print(listas)"
      ],
      "metadata": {
        "colab": {
          "base_uri": "https://localhost:8080/"
        },
        "id": "dJsR4auJt5Qk",
        "outputId": "3bd46c84-6d87-45c0-dfcb-917b1c4cc45b"
      },
      "execution_count": null,
      "outputs": [
        {
          "output_type": "stream",
          "name": "stdout",
          "text": [
            "4\n",
            "[[1, 2, 5, 4], ['Manzana', 'Naranja'], [33.14, 5.4, 6.5], [True, False, True]]\n"
          ]
        }
      ]
    },
    {
      "cell_type": "markdown",
      "source": [
        "Para acceder a un rango se desde un posición a otra, la primera posición hasta la tercera posición."
      ],
      "metadata": {
        "id": "q-WD4joFb8vp"
      }
    },
    {
      "cell_type": "code",
      "source": [
        "lista1[0:3] # desde la posición 1 hasta la posición 2"
      ],
      "metadata": {
        "colab": {
          "base_uri": "https://localhost:8080/"
        },
        "id": "rtNv94UWwnpJ",
        "outputId": "3ae1961e-ec34-4585-8aab-8e02ce202455"
      },
      "execution_count": null,
      "outputs": [
        {
          "output_type": "execute_result",
          "data": {
            "text/plain": [
              "[1, 2, 5]"
            ]
          },
          "metadata": {},
          "execution_count": 12
        }
      ]
    },
    {
      "cell_type": "code",
      "source": [
        "lista1+lista2 #Une los elementos"
      ],
      "metadata": {
        "colab": {
          "base_uri": "https://localhost:8080/"
        },
        "id": "zq-XWFJo0z0t",
        "outputId": "dfceda84-c4b6-405e-b49b-777aaee0c6a7"
      },
      "execution_count": null,
      "outputs": [
        {
          "output_type": "execute_result",
          "data": {
            "text/plain": [
              "[1, 2, 5, 4, 'Manzana', 'Naranja']"
            ]
          },
          "metadata": {},
          "execution_count": 14
        }
      ]
    },
    {
      "cell_type": "code",
      "source": [
        "lista2"
      ],
      "metadata": {
        "colab": {
          "base_uri": "https://localhost:8080/"
        },
        "id": "Ue-Oy0RovJ6U",
        "outputId": "66163205-bf78-465e-977c-aa5ed2c31734"
      },
      "execution_count": null,
      "outputs": [
        {
          "output_type": "execute_result",
          "data": {
            "text/plain": [
              "['Manzana', 'Naranja']"
            ]
          },
          "metadata": {},
          "execution_count": 11
        }
      ]
    },
    {
      "cell_type": "code",
      "source": [
        "listas"
      ],
      "metadata": {
        "colab": {
          "base_uri": "https://localhost:8080/"
        },
        "id": "lCINSN9T7jcb",
        "outputId": "6b25646e-f31e-46b4-c2ea-877ce2c1123e"
      },
      "execution_count": null,
      "outputs": [
        {
          "output_type": "execute_result",
          "data": {
            "text/plain": [
              "[[1, 2, 5, 4], ['Manzana', 'Naranja'], [33.14, 5.4, 6.5], [True, False, True]]"
            ]
          },
          "metadata": {},
          "execution_count": 15
        }
      ]
    },
    {
      "cell_type": "markdown",
      "source": [
        "# Operadores logicos\n",
        "\n",
        "| **Operador** | **Descripción** | **Ejemplo** |\n",
        "|--------------|----------------|-------------|\n",
        "| ==           | Devuelve True si ambos operandos son iguales, de lo contrario, devuelve False. | `1 == 2` devuelve `False` |\n",
        "| !=           | Devuelve True si ambos operandos son diferentes, de lo contrario, devuelve False. | `1 != 2` devuelve `True` |\n",
        "| >            | Devuelve True si el operando izquierdo es mayor que el operando derecho, de lo contrario, devuelve False. | `2 > 1` devuelve `True` |\n",
        "| <            | Devuelve True si el operando izquierdo es menor que el operando derecho, de lo contrario, devuelve False. | `2 < 1` devuelve `False` |\n",
        "| >=/<=  | Devuelve True si el operando izquierdo es mayor o igual/menos o igual que el operando derecho, de lo contrario, devuelve False. | `2 >= 2` devuelve `True` |\n",
        "| in           | Devuelve True si el primer operando es un miembro del segundo operando, de lo contrario, devuelve False. | `1 in [1, 2, 3]` devuelve `True` |\n",
        "| & (and)           | Devuelve True si ambos operandos son verdaderos, de lo contrario, devuelve False. | `True & False` devuelve `False` |\n",
        "| \\|  (or)         | Devuelve True si al menos uno de los operandos es verdadero, de lo contrario, devuelve False. | `True \\| False` devuelve `True` |\n",
        "| not          | Devuelve False si el operando es verdadero, de lo contrario, devuelve True. | `not True` devuelve `False` |\n",
        "\n",
        "\n"
      ],
      "metadata": {
        "id": "F3NW3t6b_DwI"
      }
    },
    {
      "cell_type": "code",
      "source": [
        "# Operadores lógicos en Python\n",
        "a = True\n",
        "b = False\n",
        "c = True\n",
        "d = False\n",
        "# &\n",
        "print(a &  b)  # False\n",
        "# or\n",
        "print(a | b)  # True\n",
        "# not\n",
        "print(not a)  # False\n",
        "# ==\n",
        "print(1 == 2)  # False\n",
        "# !=\n",
        "print(1 != 2)  # True\n",
        "# in\n",
        "print(1 in [1, 2, 3])  # True\n",
        "# &\n",
        "print(True & False)  # False\n",
        "# |\n",
        "print(True | False)  # True\n",
        "# >=\n",
        "print(2 >= 2)  # True"
      ],
      "metadata": {
        "colab": {
          "base_uri": "https://localhost:8080/"
        },
        "id": "B8guY2v6_aBL",
        "outputId": "71ffa641-9da8-4803-cf65-c7bd6d821185"
      },
      "execution_count": null,
      "outputs": [
        {
          "output_type": "stream",
          "name": "stdout",
          "text": [
            "False\n",
            "True\n",
            "False\n",
            "False\n",
            "True\n",
            "True\n",
            "False\n",
            "True\n",
            "True\n"
          ]
        }
      ]
    },
    {
      "cell_type": "markdown",
      "source": [
        "Adicionalmente, las variables de tipo bool tienen una particularidad. Se puede realizar suma entre bool, donde True=1 y False =0"
      ],
      "metadata": {
        "id": "K8XPPH_CUxlx"
      }
    },
    {
      "cell_type": "code",
      "source": [
        "True +True"
      ],
      "metadata": {
        "colab": {
          "base_uri": "https://localhost:8080/"
        },
        "id": "O07gro4uU6OJ",
        "outputId": "d7934504-39e6-40a5-9103-f558703272f1"
      },
      "execution_count": null,
      "outputs": [
        {
          "output_type": "execute_result",
          "data": {
            "text/plain": [
              "2"
            ]
          },
          "metadata": {},
          "execution_count": 17
        }
      ]
    },
    {
      "cell_type": "markdown",
      "source": [
        "# Diccionario\n",
        "Los diccionarios sirven para almacenar variables, donde se cuenta con una clave para cada variable.\n",
        "\n"
      ],
      "metadata": {
        "id": "9TN5DXav6DAr"
      }
    },
    {
      "cell_type": "code",
      "source": [
        "diccionario = { \"Juan\":[ 14, 5], # Lista\n",
        "               \"Andres\": 14, # Número\n",
        "                \"Esteban\": \"Salazar\" # Caracter\n",
        "                }\n",
        "diccionario"
      ],
      "metadata": {
        "colab": {
          "base_uri": "https://localhost:8080/"
        },
        "id": "WMEHaDWu6h2Y",
        "outputId": "47dd8c8a-4346-45f5-a030-27b8c32c9743"
      },
      "execution_count": null,
      "outputs": [
        {
          "output_type": "execute_result",
          "data": {
            "text/plain": [
              "{'Juan': [14, 5], 'Andres': 14, 'Esteban': 'Salazar'}"
            ]
          },
          "metadata": {},
          "execution_count": 18
        }
      ]
    },
    {
      "cell_type": "code",
      "source": [
        "diccionario.keys() # Llaves para cualquier información"
      ],
      "metadata": {
        "colab": {
          "base_uri": "https://localhost:8080/"
        },
        "id": "O212pex3G-r5",
        "outputId": "a5d3e5ec-0723-4776-c18d-042fc5e27657"
      },
      "execution_count": null,
      "outputs": [
        {
          "output_type": "execute_result",
          "data": {
            "text/plain": [
              "dict_keys(['Juan', 'Andres', 'Esteban'])"
            ]
          },
          "metadata": {},
          "execution_count": 19
        }
      ]
    },
    {
      "cell_type": "code",
      "source": [
        "diccionario[\"Andres\"] # Extraer el elemento de las llaves."
      ],
      "metadata": {
        "colab": {
          "base_uri": "https://localhost:8080/"
        },
        "id": "f5-KduqJHEvE",
        "outputId": "47b2a3a8-6340-4176-9787-eebd2821e4f1"
      },
      "execution_count": null,
      "outputs": [
        {
          "output_type": "execute_result",
          "data": {
            "text/plain": [
              "14"
            ]
          },
          "metadata": {},
          "execution_count": 20
        }
      ]
    },
    {
      "cell_type": "code",
      "source": [
        "diccionario.values() # Valores sin llaves"
      ],
      "metadata": {
        "colab": {
          "base_uri": "https://localhost:8080/"
        },
        "id": "AV_mYjTyHWeg",
        "outputId": "1a71934d-394c-479e-a02b-5061d99522fa"
      },
      "execution_count": null,
      "outputs": [
        {
          "output_type": "execute_result",
          "data": {
            "text/plain": [
              "dict_values([[14, 5], 14, 'Salazar'])"
            ]
          },
          "metadata": {},
          "execution_count": 21
        }
      ]
    },
    {
      "cell_type": "code",
      "source": [
        "diccionario.update({\"Sebastian\":[True,False] } ) # Unir diccionarios\n",
        "diccionario"
      ],
      "metadata": {
        "colab": {
          "base_uri": "https://localhost:8080/"
        },
        "id": "M42iEVbiHbEu",
        "outputId": "5363ca70-b0d8-41ea-cb87-0aa175704a61"
      },
      "execution_count": null,
      "outputs": [
        {
          "output_type": "execute_result",
          "data": {
            "text/plain": [
              "{'Juan': [14, 5],\n",
              " 'Andres': 14,\n",
              " 'Esteban': 'Salazar',\n",
              " 'Sebastian': [True, False]}"
            ]
          },
          "metadata": {},
          "execution_count": 22
        }
      ]
    },
    {
      "cell_type": "code",
      "source": [
        "diccionario.pop(\"Andres\") # Remover un elemento, utilizando la llave"
      ],
      "metadata": {
        "colab": {
          "base_uri": "https://localhost:8080/"
        },
        "id": "dqM2l87dLGjo",
        "outputId": "b14592a5-ef6d-4f00-886e-99ef9aab05cc"
      },
      "execution_count": null,
      "outputs": [
        {
          "output_type": "execute_result",
          "data": {
            "text/plain": [
              "14"
            ]
          },
          "metadata": {},
          "execution_count": 23
        }
      ]
    },
    {
      "cell_type": "code",
      "source": [
        "diccionario"
      ],
      "metadata": {
        "colab": {
          "base_uri": "https://localhost:8080/"
        },
        "id": "ccvyRdHMLQEt",
        "outputId": "c143088b-1dbe-4f68-ba91-111b212878f3"
      },
      "execution_count": null,
      "outputs": [
        {
          "output_type": "execute_result",
          "data": {
            "text/plain": [
              "{'Juan': [14, 5], 'Esteban': 'Salazar', 'Sebastian': [True, False]}"
            ]
          },
          "metadata": {},
          "execution_count": 24
        }
      ]
    },
    {
      "cell_type": "markdown",
      "source": [
        "# Numpy\n",
        "\n",
        "Numpy es una librería que se utiliza para crear matrices y vectores en Python. Para crear matrices y vectores se utilizan listas."
      ],
      "metadata": {
        "id": "GPtC9tcB8HKX"
      }
    },
    {
      "cell_type": "code",
      "source": [
        "x= [1,2,3]\n",
        "y= [ 2,3,6]\n",
        "x+y"
      ],
      "metadata": {
        "colab": {
          "base_uri": "https://localhost:8080/"
        },
        "id": "RSX-O93E14MR",
        "outputId": "4b19275f-ce50-4865-c234-168bc577264d"
      },
      "execution_count": null,
      "outputs": [
        {
          "output_type": "execute_result",
          "data": {
            "text/plain": [
              "[1, 2, 3, 2, 3, 6]"
            ]
          },
          "metadata": {},
          "execution_count": 26
        }
      ]
    },
    {
      "cell_type": "code",
      "source": [
        "import numpy as np"
      ],
      "metadata": {
        "id": "rhUa17mV92Pw"
      },
      "execution_count": null,
      "outputs": []
    },
    {
      "cell_type": "code",
      "source": [
        "X= np.array( [ 1,0,2] ) # Vector\n",
        "Y=np.array( [ 0,2,5])\n",
        "X"
      ],
      "metadata": {
        "colab": {
          "base_uri": "https://localhost:8080/"
        },
        "id": "_jwSyQyiLoxB",
        "outputId": "fc274ac1-c5d7-4461-ef45-b25b94b0713b"
      },
      "execution_count": null,
      "outputs": [
        {
          "output_type": "execute_result",
          "data": {
            "text/plain": [
              "array([1, 0, 2])"
            ]
          },
          "metadata": {},
          "execution_count": 27
        }
      ]
    },
    {
      "cell_type": "code",
      "source": [
        "X+Y"
      ],
      "metadata": {
        "colab": {
          "base_uri": "https://localhost:8080/"
        },
        "id": "rVibNjc92zI6",
        "outputId": "569601ac-2f00-4362-c54d-93c82d93c68d"
      },
      "execution_count": null,
      "outputs": [
        {
          "output_type": "execute_result",
          "data": {
            "text/plain": [
              "array([1, 2, 7])"
            ]
          },
          "metadata": {},
          "execution_count": 28
        }
      ]
    },
    {
      "cell_type": "markdown",
      "source": [
        "Para los vectores, se considera que solo tienen una dimensión, en este caso si transformamos una lista se elementos numericos, se tendra un vector y si dimensión solo contiene el número de filas."
      ],
      "metadata": {
        "id": "h2gVcOwiLwbq"
      }
    },
    {
      "cell_type": "code",
      "source": [
        "X.shape # Dimensiones en numpy"
      ],
      "metadata": {
        "colab": {
          "base_uri": "https://localhost:8080/"
        },
        "id": "TUESMB61Luj1",
        "outputId": "e0525976-4cf6-4675-c958-bfb7b037a3a1"
      },
      "execution_count": null,
      "outputs": [
        {
          "output_type": "execute_result",
          "data": {
            "text/plain": [
              "(3,)"
            ]
          },
          "metadata": {},
          "execution_count": 29
        }
      ]
    },
    {
      "cell_type": "markdown",
      "source": [
        "Para crear una matriz, se crea una lista de listas, sin embargo, las listas deben ser de la misma dimensión."
      ],
      "metadata": {
        "id": "cgaoTCAaMBtR"
      }
    },
    {
      "cell_type": "code",
      "source": [
        "A= np.array([ [1,2,3 ], # Fila 1\n",
        "              [4,5,6 ], # Fila 2\n",
        "              [ 7,8,9], # Fila 3\n",
        "              [ 10,11,12] # Fila 4\n",
        "              ] )\n",
        "B= np.array([ [5,6,7 ], # Fila 1\n",
        "              [ 9,3,5], # Fila 2\n",
        "              [8,1,3] # Fila 3\n",
        "              ])\n",
        "C= np.array([ [1,6,3 ], # Fila 1\n",
        "              [8,9,5], # Fila 2\n",
        "              [10,10,12 ] # Fila 3\n",
        "              ])"
      ],
      "metadata": {
        "id": "7li76ryYMSlf"
      },
      "execution_count": null,
      "outputs": []
    },
    {
      "cell_type": "code",
      "source": [
        "A"
      ],
      "metadata": {
        "colab": {
          "base_uri": "https://localhost:8080/"
        },
        "id": "6GhwwlVjMoMa",
        "outputId": "d5adb4e7-418f-481b-c9a6-1e943f8c6d9b"
      },
      "execution_count": null,
      "outputs": [
        {
          "output_type": "execute_result",
          "data": {
            "text/plain": [
              "array([[ 1,  2,  3],\n",
              "       [ 4,  5,  6],\n",
              "       [ 7,  8,  9],\n",
              "       [10, 11, 12]])"
            ]
          },
          "metadata": {},
          "execution_count": 31
        }
      ]
    },
    {
      "cell_type": "code",
      "source": [
        "print(A.shape) # (Número filas, número de columnas)\n",
        "print(B.shape )"
      ],
      "metadata": {
        "colab": {
          "base_uri": "https://localhost:8080/"
        },
        "id": "OESrfY5CMprC",
        "outputId": "4c49711c-d9fc-450b-dd0b-fa3a3d991f76"
      },
      "execution_count": null,
      "outputs": [
        {
          "output_type": "stream",
          "name": "stdout",
          "text": [
            "(4, 3)\n",
            "(3, 3)\n"
          ]
        }
      ]
    },
    {
      "cell_type": "code",
      "source": [
        "A"
      ],
      "metadata": {
        "colab": {
          "base_uri": "https://localhost:8080/"
        },
        "id": "vyoRclJK4XS4",
        "outputId": "fc1c064a-5b9e-4034-b782-b32f797b6038"
      },
      "execution_count": null,
      "outputs": [
        {
          "output_type": "execute_result",
          "data": {
            "text/plain": [
              "array([[ 1,  2,  3],\n",
              "       [ 4,  5,  6],\n",
              "       [ 7,  8,  9],\n",
              "       [10, 11, 12]])"
            ]
          },
          "metadata": {},
          "execution_count": 33
        }
      ]
    },
    {
      "cell_type": "code",
      "source": [
        "A*A # Multiplicar elemento por elemento"
      ],
      "metadata": {
        "colab": {
          "base_uri": "https://localhost:8080/"
        },
        "id": "TL1YrJXDOCT_",
        "outputId": "22635d0b-ce9c-456c-8020-087e0f54a827"
      },
      "execution_count": null,
      "outputs": [
        {
          "output_type": "execute_result",
          "data": {
            "text/plain": [
              "array([[  1,   4,   9],\n",
              "       [ 16,  25,  36],\n",
              "       [ 49,  64,  81],\n",
              "       [100, 121, 144]])"
            ]
          },
          "metadata": {},
          "execution_count": 34
        }
      ]
    },
    {
      "cell_type": "code",
      "source": [
        "A + A # Suma de matrices"
      ],
      "metadata": {
        "colab": {
          "base_uri": "https://localhost:8080/"
        },
        "id": "lLIUPubvNU93",
        "outputId": "92556e84-ebc2-4805-b1df-d44ba36e294c"
      },
      "execution_count": null,
      "outputs": [
        {
          "output_type": "execute_result",
          "data": {
            "text/plain": [
              "array([[ 2,  4,  6],\n",
              "       [ 8, 10, 12],\n",
              "       [14, 16, 18],\n",
              "       [20, 22, 24]])"
            ]
          },
          "metadata": {},
          "execution_count": 35
        }
      ]
    },
    {
      "cell_type": "markdown",
      "source": [
        "Condicionales con matrices, si dos matrices tienen la misma dimensión es posible hacer comparativas entre elementos uno a uno."
      ],
      "metadata": {
        "id": "z7lN6zPcQxal"
      }
    },
    {
      "cell_type": "code",
      "source": [
        "E=B==C # Multiples comparativas igualdad\n",
        "E"
      ],
      "metadata": {
        "colab": {
          "base_uri": "https://localhost:8080/"
        },
        "id": "V72G5mYhRQIl",
        "outputId": "5291265e-a9fa-4676-afc7-88e130e20ba9"
      },
      "execution_count": null,
      "outputs": [
        {
          "output_type": "execute_result",
          "data": {
            "text/plain": [
              "array([[False,  True, False],\n",
              "       [False, False,  True],\n",
              "       [False, False, False]])"
            ]
          },
          "metadata": {},
          "execution_count": 36
        }
      ]
    },
    {
      "cell_type": "code",
      "source": [
        "B>C # Mayor"
      ],
      "metadata": {
        "colab": {
          "base_uri": "https://localhost:8080/"
        },
        "id": "tofqm5AjUKNx",
        "outputId": "01ddea45-1555-4e1c-dafb-2538c1d75beb"
      },
      "execution_count": null,
      "outputs": [
        {
          "output_type": "execute_result",
          "data": {
            "text/plain": [
              "array([[ True, False,  True],\n",
              "       [ True, False, False],\n",
              "       [False, False, False]])"
            ]
          },
          "metadata": {},
          "execution_count": 37
        }
      ]
    },
    {
      "cell_type": "markdown",
      "source": [
        "Selección de elementos en numpy, se utiliza similar a las listas, sin embargo, para las matrices se debe especificar las dos dimensiones."
      ],
      "metadata": {
        "id": "ooSp3xcUXjNT"
      }
    },
    {
      "cell_type": "code",
      "source": [
        "A[1, # Posición de la fila\n",
        "  1 # posisción de la columna\n",
        "  ]"
      ],
      "metadata": {
        "colab": {
          "base_uri": "https://localhost:8080/"
        },
        "id": "MZOxeidjXsTt",
        "outputId": "b16bb5ee-9c9f-4c63-d0a8-37ffdf1e06c6"
      },
      "execution_count": null,
      "outputs": [
        {
          "output_type": "execute_result",
          "data": {
            "text/plain": [
              "5"
            ]
          },
          "metadata": {},
          "execution_count": 38
        }
      ]
    },
    {
      "cell_type": "code",
      "source": [
        "A[0:3,0:3]"
      ],
      "metadata": {
        "colab": {
          "base_uri": "https://localhost:8080/"
        },
        "id": "VlEdgXXf3V_R",
        "outputId": "4d888d7c-8e9d-415d-9310-7217325d58f7"
      },
      "execution_count": null,
      "outputs": [
        {
          "output_type": "execute_result",
          "data": {
            "text/plain": [
              "array([[1, 2, 3],\n",
              "       [4, 5, 6],\n",
              "       [7, 8, 9]])"
            ]
          },
          "metadata": {},
          "execution_count": 41
        }
      ]
    },
    {
      "cell_type": "markdown",
      "source": [
        "# Análisis descriptivo\n",
        "\n",
        "Para el desarrollo de este notebook, se utilizó una base de datos proveniente de [kaggle](https://www.kaggle.com/datasets/imakash3011/customer-personality-analysis) que contiene información de\n",
        "\n",
        "\n",
        "\n",
        "* People\n",
        "\n",
        "  -  ID: Customer's unique identifier\n",
        "  -  Year_Birth: Customer's birth year\n",
        "  -  Education: Customer's education level\n",
        "  -  Marital_Status: Customer's marital status\n",
        "  -  Income: Customer's yearly household income\n",
        "  -  Kidhome: Number of children in customer's household\n",
        "  -  Teenhome: Number of teenagers in customer's household\n",
        "  -  Dt_Customer: Date of customer's enrollment with the company\n",
        "  -  Recency: Number of days since customer's last purchase\n",
        "  -  Complain: 1 if the customer complained in the last 2 years, 0 otherwise\n",
        "\n",
        "* Products\n",
        "\n",
        "  - MntWines: Amount spent on wine in last 2 years\n",
        "\n",
        "  - MntFruits: Amount spent on fruits in last 2 years\n",
        "\n",
        "  - MntMeatProducts: Amount spent on meat in last 2 years\n",
        "\n",
        "  - MntFishProducts: Amount spent on fish in last 2 years\n",
        "\n",
        "  - MntSweetProducts: Amount spent on sweets in last 2 years\n",
        "  \n",
        "  - MntGoldProds: Amount spent on gold in last 2 years\n",
        "\n",
        "* Promotion\n",
        "  \n",
        "  - NumDealsPurchases: Number of purchases made with a discount\n",
        "  \n",
        "  - AcceptedCmp1: 1 if customer accepted the offer in the 1st campaign, 0 otherwise\n",
        "\n",
        "  - AcceptedCmp2: 1 if customer accepted the offer in the 2nd campaign, 0 otherwise\n",
        "\n",
        "  - AcceptedCmp3: 1 if customer accepted the offer in the 3rd campaign, 0 otherwise\n",
        "\n",
        "  - AcceptedCmp4: 1 if customer accepted the offer in the 4th campaign, 0 otherwise\n",
        "\n",
        "  - AcceptedCmp5: 1 if customer accepted the offer in the 5th campaign, 0 otherwise\n",
        "\n",
        "  - Response: 1 if customer accepted the offer in the last campaign, 0 otherwise\n",
        "\n",
        "* Place\n",
        "  - NumWebPurchases: Number of purchases made through the company’s website\n",
        "  - NumCatalogPurchases: Number of purchases made using a catalogue\n",
        "  - NumStorePurchases: Number of purchases made directly in stores\n",
        "  - NumWebVisitsMonth: Number of visits to company’s website in the last month"
      ],
      "metadata": {
        "id": "yyMAHQANj4Xk"
      }
    },
    {
      "cell_type": "code",
      "source": [
        "from google.colab import drive\n",
        "drive.mount('/content/drive')"
      ],
      "metadata": {
        "colab": {
          "base_uri": "https://localhost:8080/"
        },
        "id": "-bCGJ6drWwob",
        "outputId": "0ed4a542-1de7-4b1a-eff1-0dbfc96af9ad"
      },
      "execution_count": null,
      "outputs": [
        {
          "output_type": "stream",
          "name": "stdout",
          "text": [
            "Drive already mounted at /content/drive; to attempt to forcibly remount, call drive.mount(\"/content/drive\", force_remount=True).\n"
          ]
        }
      ]
    },
    {
      "cell_type": "code",
      "source": [
        "import pandas as pd # manejo de Data Frame en Python\n",
        "pd.set_option('display.max_columns', 50) # Aumenta el número de columnas\n",
        "import numpy as np\n",
        "# Librería de gráficos\n",
        "import seaborn as sns\n",
        "import matplotlib.pyplot as plt\n",
        "import plotly.express as px"
      ],
      "metadata": {
        "id": "Rvp52GZsj0om"
      },
      "execution_count": null,
      "outputs": []
    },
    {
      "cell_type": "code",
      "source": [
        "path= \"/content/drive/MyDrive/Colab Notebooks/Aprendizaje No Supervisado/marketing_campaign.csv\" # Colocar la ubicación del archivo\n",
        "datos= pd.read_csv(path,sep=\"\\t\")\n",
        "datos.shape"
      ],
      "metadata": {
        "colab": {
          "base_uri": "https://localhost:8080/"
        },
        "id": "f0GDrDxykeht",
        "outputId": "1fc8282f-b447-4e79-8df1-b97a2a2fdf88"
      },
      "execution_count": null,
      "outputs": [
        {
          "output_type": "execute_result",
          "data": {
            "text/plain": [
              "(2240, 29)"
            ]
          },
          "metadata": {},
          "execution_count": 44
        }
      ]
    },
    {
      "cell_type": "code",
      "source": [
        "datos.isna().sum() # Cantidad de registros faltantes por columna"
      ],
      "metadata": {
        "colab": {
          "base_uri": "https://localhost:8080/"
        },
        "id": "uZWTnZQ6kgwA",
        "outputId": "62c913be-62e3-421f-bd67-4665507d415c"
      },
      "execution_count": null,
      "outputs": [
        {
          "output_type": "execute_result",
          "data": {
            "text/plain": [
              "ID                      0\n",
              "Year_Birth              0\n",
              "Education               0\n",
              "Marital_Status          0\n",
              "Income                 24\n",
              "Kidhome                 0\n",
              "Teenhome                0\n",
              "Dt_Customer             0\n",
              "Recency                 0\n",
              "MntWines                0\n",
              "MntFruits               0\n",
              "MntMeatProducts         0\n",
              "MntFishProducts         0\n",
              "MntSweetProducts        0\n",
              "MntGoldProds            0\n",
              "NumDealsPurchases       0\n",
              "NumWebPurchases         0\n",
              "NumCatalogPurchases     0\n",
              "NumStorePurchases       0\n",
              "NumWebVisitsMonth       0\n",
              "AcceptedCmp3            0\n",
              "AcceptedCmp4            0\n",
              "AcceptedCmp5            0\n",
              "AcceptedCmp1            0\n",
              "AcceptedCmp2            0\n",
              "Complain                0\n",
              "Z_CostContact           0\n",
              "Z_Revenue               0\n",
              "Response                0\n",
              "dtype: int64"
            ]
          },
          "metadata": {},
          "execution_count": 45
        }
      ]
    },
    {
      "cell_type": "code",
      "source": [
        "datos= datos.dropna() # Elimina registros que contengan al menos un NA"
      ],
      "metadata": {
        "id": "MYo9LPx4kqXB"
      },
      "execution_count": null,
      "outputs": []
    },
    {
      "cell_type": "markdown",
      "source": [
        "- .drop() eliminar filas o columnas.\n",
        "- .loc[]  Seleccionar filas y columnas.\n",
        "- [] Seleccionar columnas o crear una buena columna.\n",
        "- .sum() Sumar por filas o por columnas.\n"
      ],
      "metadata": {
        "id": "P6s-thy-ED18"
      }
    },
    {
      "cell_type": "markdown",
      "source": [
        "¿Cuántos datos faltantes se eliminaron?\n",
        "\n",
        "¿Cuántos registros quedan?"
      ],
      "metadata": {
        "id": "p37wCfxPkvZW"
      }
    },
    {
      "cell_type": "markdown",
      "source": [
        "¿Qué variables se necesitan?\n",
        "\n",
        "Crear nuevas variables:\n",
        "\n",
        "- Edad.\n",
        "- Número de campañas aceptadas.\n",
        "\n",
        "\n",
        "Eliminar variables\n",
        "\n",
        "¿Qué variables se podrían eliminar?\n",
        "\n",
        "\n"
      ],
      "metadata": {
        "id": "8p3A5WKYlmWX"
      }
    },
    {
      "cell_type": "code",
      "source": [
        "data=datos.copy()\n",
        "data.columns"
      ],
      "metadata": {
        "colab": {
          "base_uri": "https://localhost:8080/"
        },
        "id": "JhjndZGg7ABj",
        "outputId": "0a636a9d-15ec-477a-abc1-5c0bcc4ef328"
      },
      "execution_count": null,
      "outputs": [
        {
          "output_type": "execute_result",
          "data": {
            "text/plain": [
              "Index(['ID', 'Year_Birth', 'Education', 'Marital_Status', 'Income', 'Kidhome',\n",
              "       'Teenhome', 'Dt_Customer', 'Recency', 'MntWines', 'MntFruits',\n",
              "       'MntMeatProducts', 'MntFishProducts', 'MntSweetProducts',\n",
              "       'MntGoldProds', 'NumDealsPurchases', 'NumWebPurchases',\n",
              "       'NumCatalogPurchases', 'NumStorePurchases', 'NumWebVisitsMonth',\n",
              "       'AcceptedCmp3', 'AcceptedCmp4', 'AcceptedCmp5', 'AcceptedCmp1',\n",
              "       'AcceptedCmp2', 'Complain', 'Z_CostContact', 'Z_Revenue', 'Response'],\n",
              "      dtype='object')"
            ]
          },
          "metadata": {},
          "execution_count": 52
        }
      ]
    },
    {
      "cell_type": "code",
      "source": [
        "data['Age']=2024- data[\"Year_Birth\"]\n",
        "\n",
        "#Poner la variable Age en la posición que yo quiera (No me queda guardada en ninguna parte, solo para mostrarlo)\n",
        "data[['ID', 'Age', 'Education', 'Marital_Status', 'Income', 'Kidhome',\n",
        "       'Teenhome', 'Dt_Customer', 'Recency', 'MntWines', 'MntFruits',\n",
        "       'MntMeatProducts', 'MntFishProducts', 'MntSweetProducts',\n",
        "       'MntGoldProds', 'NumDealsPurchases', 'NumWebPurchases',\n",
        "       'NumCatalogPurchases', 'NumStorePurchases', 'NumWebVisitsMonth',\n",
        "       'AcceptedCmp3', 'AcceptedCmp4', 'AcceptedCmp5', 'AcceptedCmp1',\n",
        "       'AcceptedCmp2', 'Complain', 'Z_CostContact', 'Z_Revenue', 'Response']]"
      ],
      "metadata": {
        "colab": {
          "base_uri": "https://localhost:8080/"
        },
        "collapsed": true,
        "id": "XEda5Hy68fEF",
        "outputId": "ec9c1bb1-a0ce-4007-fcdf-e33d9de7bab5"
      },
      "execution_count": null,
      "outputs": [
        {
          "output_type": "execute_result",
          "data": {
            "text/plain": [
              "         ID  Age   Education Marital_Status   Income  Kidhome  Teenhome  \\\n",
              "0      5524   67  Graduation         Single  58138.0        0         0   \n",
              "1      2174   70  Graduation         Single  46344.0        1         1   \n",
              "2      4141   59  Graduation       Together  71613.0        0         0   \n",
              "3      6182   40  Graduation       Together  26646.0        1         0   \n",
              "4      5324   43         PhD        Married  58293.0        1         0   \n",
              "...     ...  ...         ...            ...      ...      ...       ...   \n",
              "2235  10870   57  Graduation        Married  61223.0        0         1   \n",
              "2236   4001   78         PhD       Together  64014.0        2         1   \n",
              "2237   7270   43  Graduation       Divorced  56981.0        0         0   \n",
              "2238   8235   68      Master       Together  69245.0        0         1   \n",
              "2239   9405   70         PhD        Married  52869.0        1         1   \n",
              "\n",
              "     Dt_Customer  Recency  MntWines  MntFruits  MntMeatProducts  \\\n",
              "0     04-09-2012       58       635         88              546   \n",
              "1     08-03-2014       38        11          1                6   \n",
              "2     21-08-2013       26       426         49              127   \n",
              "3     10-02-2014       26        11          4               20   \n",
              "4     19-01-2014       94       173         43              118   \n",
              "...          ...      ...       ...        ...              ...   \n",
              "2235  13-06-2013       46       709         43              182   \n",
              "2236  10-06-2014       56       406          0               30   \n",
              "2237  25-01-2014       91       908         48              217   \n",
              "2238  24-01-2014        8       428         30              214   \n",
              "2239  15-10-2012       40        84          3               61   \n",
              "\n",
              "      MntFishProducts  MntSweetProducts  MntGoldProds  NumDealsPurchases  \\\n",
              "0                 172                88            88                  3   \n",
              "1                   2                 1             6                  2   \n",
              "2                 111                21            42                  1   \n",
              "3                  10                 3             5                  2   \n",
              "4                  46                27            15                  5   \n",
              "...               ...               ...           ...                ...   \n",
              "2235               42               118           247                  2   \n",
              "2236                0                 0             8                  7   \n",
              "2237               32                12            24                  1   \n",
              "2238               80                30            61                  2   \n",
              "2239                2                 1            21                  3   \n",
              "\n",
              "      NumWebPurchases  NumCatalogPurchases  NumStorePurchases  \\\n",
              "0                   8                   10                  4   \n",
              "1                   1                    1                  2   \n",
              "2                   8                    2                 10   \n",
              "3                   2                    0                  4   \n",
              "4                   5                    3                  6   \n",
              "...               ...                  ...                ...   \n",
              "2235                9                    3                  4   \n",
              "2236                8                    2                  5   \n",
              "2237                2                    3                 13   \n",
              "2238                6                    5                 10   \n",
              "2239                3                    1                  4   \n",
              "\n",
              "      NumWebVisitsMonth  AcceptedCmp3  AcceptedCmp4  AcceptedCmp5  \\\n",
              "0                     7             0             0             0   \n",
              "1                     5             0             0             0   \n",
              "2                     4             0             0             0   \n",
              "3                     6             0             0             0   \n",
              "4                     5             0             0             0   \n",
              "...                 ...           ...           ...           ...   \n",
              "2235                  5             0             0             0   \n",
              "2236                  7             0             0             0   \n",
              "2237                  6             0             1             0   \n",
              "2238                  3             0             0             0   \n",
              "2239                  7             0             0             0   \n",
              "\n",
              "      AcceptedCmp1  AcceptedCmp2  Complain  Z_CostContact  Z_Revenue  Response  \n",
              "0                0             0         0              3         11         1  \n",
              "1                0             0         0              3         11         0  \n",
              "2                0             0         0              3         11         0  \n",
              "3                0             0         0              3         11         0  \n",
              "4                0             0         0              3         11         0  \n",
              "...            ...           ...       ...            ...        ...       ...  \n",
              "2235             0             0         0              3         11         0  \n",
              "2236             1             0         0              3         11         0  \n",
              "2237             0             0         0              3         11         0  \n",
              "2238             0             0         0              3         11         0  \n",
              "2239             0             0         0              3         11         1  \n",
              "\n",
              "[2216 rows x 29 columns]"
            ],
            "text/html": [
              "\n",
              "  <div id=\"df-43e0411e-9e62-4aef-b667-6e45c8ae66d9\" class=\"colab-df-container\">\n",
              "    <div>\n",
              "<style scoped>\n",
              "    .dataframe tbody tr th:only-of-type {\n",
              "        vertical-align: middle;\n",
              "    }\n",
              "\n",
              "    .dataframe tbody tr th {\n",
              "        vertical-align: top;\n",
              "    }\n",
              "\n",
              "    .dataframe thead th {\n",
              "        text-align: right;\n",
              "    }\n",
              "</style>\n",
              "<table border=\"1\" class=\"dataframe\">\n",
              "  <thead>\n",
              "    <tr style=\"text-align: right;\">\n",
              "      <th></th>\n",
              "      <th>ID</th>\n",
              "      <th>Age</th>\n",
              "      <th>Education</th>\n",
              "      <th>Marital_Status</th>\n",
              "      <th>Income</th>\n",
              "      <th>Kidhome</th>\n",
              "      <th>Teenhome</th>\n",
              "      <th>Dt_Customer</th>\n",
              "      <th>Recency</th>\n",
              "      <th>MntWines</th>\n",
              "      <th>MntFruits</th>\n",
              "      <th>MntMeatProducts</th>\n",
              "      <th>MntFishProducts</th>\n",
              "      <th>MntSweetProducts</th>\n",
              "      <th>MntGoldProds</th>\n",
              "      <th>NumDealsPurchases</th>\n",
              "      <th>NumWebPurchases</th>\n",
              "      <th>NumCatalogPurchases</th>\n",
              "      <th>NumStorePurchases</th>\n",
              "      <th>NumWebVisitsMonth</th>\n",
              "      <th>AcceptedCmp3</th>\n",
              "      <th>AcceptedCmp4</th>\n",
              "      <th>AcceptedCmp5</th>\n",
              "      <th>AcceptedCmp1</th>\n",
              "      <th>AcceptedCmp2</th>\n",
              "      <th>Complain</th>\n",
              "      <th>Z_CostContact</th>\n",
              "      <th>Z_Revenue</th>\n",
              "      <th>Response</th>\n",
              "    </tr>\n",
              "  </thead>\n",
              "  <tbody>\n",
              "    <tr>\n",
              "      <th>0</th>\n",
              "      <td>5524</td>\n",
              "      <td>67</td>\n",
              "      <td>Graduation</td>\n",
              "      <td>Single</td>\n",
              "      <td>58138.0</td>\n",
              "      <td>0</td>\n",
              "      <td>0</td>\n",
              "      <td>04-09-2012</td>\n",
              "      <td>58</td>\n",
              "      <td>635</td>\n",
              "      <td>88</td>\n",
              "      <td>546</td>\n",
              "      <td>172</td>\n",
              "      <td>88</td>\n",
              "      <td>88</td>\n",
              "      <td>3</td>\n",
              "      <td>8</td>\n",
              "      <td>10</td>\n",
              "      <td>4</td>\n",
              "      <td>7</td>\n",
              "      <td>0</td>\n",
              "      <td>0</td>\n",
              "      <td>0</td>\n",
              "      <td>0</td>\n",
              "      <td>0</td>\n",
              "      <td>0</td>\n",
              "      <td>3</td>\n",
              "      <td>11</td>\n",
              "      <td>1</td>\n",
              "    </tr>\n",
              "    <tr>\n",
              "      <th>1</th>\n",
              "      <td>2174</td>\n",
              "      <td>70</td>\n",
              "      <td>Graduation</td>\n",
              "      <td>Single</td>\n",
              "      <td>46344.0</td>\n",
              "      <td>1</td>\n",
              "      <td>1</td>\n",
              "      <td>08-03-2014</td>\n",
              "      <td>38</td>\n",
              "      <td>11</td>\n",
              "      <td>1</td>\n",
              "      <td>6</td>\n",
              "      <td>2</td>\n",
              "      <td>1</td>\n",
              "      <td>6</td>\n",
              "      <td>2</td>\n",
              "      <td>1</td>\n",
              "      <td>1</td>\n",
              "      <td>2</td>\n",
              "      <td>5</td>\n",
              "      <td>0</td>\n",
              "      <td>0</td>\n",
              "      <td>0</td>\n",
              "      <td>0</td>\n",
              "      <td>0</td>\n",
              "      <td>0</td>\n",
              "      <td>3</td>\n",
              "      <td>11</td>\n",
              "      <td>0</td>\n",
              "    </tr>\n",
              "    <tr>\n",
              "      <th>2</th>\n",
              "      <td>4141</td>\n",
              "      <td>59</td>\n",
              "      <td>Graduation</td>\n",
              "      <td>Together</td>\n",
              "      <td>71613.0</td>\n",
              "      <td>0</td>\n",
              "      <td>0</td>\n",
              "      <td>21-08-2013</td>\n",
              "      <td>26</td>\n",
              "      <td>426</td>\n",
              "      <td>49</td>\n",
              "      <td>127</td>\n",
              "      <td>111</td>\n",
              "      <td>21</td>\n",
              "      <td>42</td>\n",
              "      <td>1</td>\n",
              "      <td>8</td>\n",
              "      <td>2</td>\n",
              "      <td>10</td>\n",
              "      <td>4</td>\n",
              "      <td>0</td>\n",
              "      <td>0</td>\n",
              "      <td>0</td>\n",
              "      <td>0</td>\n",
              "      <td>0</td>\n",
              "      <td>0</td>\n",
              "      <td>3</td>\n",
              "      <td>11</td>\n",
              "      <td>0</td>\n",
              "    </tr>\n",
              "    <tr>\n",
              "      <th>3</th>\n",
              "      <td>6182</td>\n",
              "      <td>40</td>\n",
              "      <td>Graduation</td>\n",
              "      <td>Together</td>\n",
              "      <td>26646.0</td>\n",
              "      <td>1</td>\n",
              "      <td>0</td>\n",
              "      <td>10-02-2014</td>\n",
              "      <td>26</td>\n",
              "      <td>11</td>\n",
              "      <td>4</td>\n",
              "      <td>20</td>\n",
              "      <td>10</td>\n",
              "      <td>3</td>\n",
              "      <td>5</td>\n",
              "      <td>2</td>\n",
              "      <td>2</td>\n",
              "      <td>0</td>\n",
              "      <td>4</td>\n",
              "      <td>6</td>\n",
              "      <td>0</td>\n",
              "      <td>0</td>\n",
              "      <td>0</td>\n",
              "      <td>0</td>\n",
              "      <td>0</td>\n",
              "      <td>0</td>\n",
              "      <td>3</td>\n",
              "      <td>11</td>\n",
              "      <td>0</td>\n",
              "    </tr>\n",
              "    <tr>\n",
              "      <th>4</th>\n",
              "      <td>5324</td>\n",
              "      <td>43</td>\n",
              "      <td>PhD</td>\n",
              "      <td>Married</td>\n",
              "      <td>58293.0</td>\n",
              "      <td>1</td>\n",
              "      <td>0</td>\n",
              "      <td>19-01-2014</td>\n",
              "      <td>94</td>\n",
              "      <td>173</td>\n",
              "      <td>43</td>\n",
              "      <td>118</td>\n",
              "      <td>46</td>\n",
              "      <td>27</td>\n",
              "      <td>15</td>\n",
              "      <td>5</td>\n",
              "      <td>5</td>\n",
              "      <td>3</td>\n",
              "      <td>6</td>\n",
              "      <td>5</td>\n",
              "      <td>0</td>\n",
              "      <td>0</td>\n",
              "      <td>0</td>\n",
              "      <td>0</td>\n",
              "      <td>0</td>\n",
              "      <td>0</td>\n",
              "      <td>3</td>\n",
              "      <td>11</td>\n",
              "      <td>0</td>\n",
              "    </tr>\n",
              "    <tr>\n",
              "      <th>...</th>\n",
              "      <td>...</td>\n",
              "      <td>...</td>\n",
              "      <td>...</td>\n",
              "      <td>...</td>\n",
              "      <td>...</td>\n",
              "      <td>...</td>\n",
              "      <td>...</td>\n",
              "      <td>...</td>\n",
              "      <td>...</td>\n",
              "      <td>...</td>\n",
              "      <td>...</td>\n",
              "      <td>...</td>\n",
              "      <td>...</td>\n",
              "      <td>...</td>\n",
              "      <td>...</td>\n",
              "      <td>...</td>\n",
              "      <td>...</td>\n",
              "      <td>...</td>\n",
              "      <td>...</td>\n",
              "      <td>...</td>\n",
              "      <td>...</td>\n",
              "      <td>...</td>\n",
              "      <td>...</td>\n",
              "      <td>...</td>\n",
              "      <td>...</td>\n",
              "      <td>...</td>\n",
              "      <td>...</td>\n",
              "      <td>...</td>\n",
              "      <td>...</td>\n",
              "    </tr>\n",
              "    <tr>\n",
              "      <th>2235</th>\n",
              "      <td>10870</td>\n",
              "      <td>57</td>\n",
              "      <td>Graduation</td>\n",
              "      <td>Married</td>\n",
              "      <td>61223.0</td>\n",
              "      <td>0</td>\n",
              "      <td>1</td>\n",
              "      <td>13-06-2013</td>\n",
              "      <td>46</td>\n",
              "      <td>709</td>\n",
              "      <td>43</td>\n",
              "      <td>182</td>\n",
              "      <td>42</td>\n",
              "      <td>118</td>\n",
              "      <td>247</td>\n",
              "      <td>2</td>\n",
              "      <td>9</td>\n",
              "      <td>3</td>\n",
              "      <td>4</td>\n",
              "      <td>5</td>\n",
              "      <td>0</td>\n",
              "      <td>0</td>\n",
              "      <td>0</td>\n",
              "      <td>0</td>\n",
              "      <td>0</td>\n",
              "      <td>0</td>\n",
              "      <td>3</td>\n",
              "      <td>11</td>\n",
              "      <td>0</td>\n",
              "    </tr>\n",
              "    <tr>\n",
              "      <th>2236</th>\n",
              "      <td>4001</td>\n",
              "      <td>78</td>\n",
              "      <td>PhD</td>\n",
              "      <td>Together</td>\n",
              "      <td>64014.0</td>\n",
              "      <td>2</td>\n",
              "      <td>1</td>\n",
              "      <td>10-06-2014</td>\n",
              "      <td>56</td>\n",
              "      <td>406</td>\n",
              "      <td>0</td>\n",
              "      <td>30</td>\n",
              "      <td>0</td>\n",
              "      <td>0</td>\n",
              "      <td>8</td>\n",
              "      <td>7</td>\n",
              "      <td>8</td>\n",
              "      <td>2</td>\n",
              "      <td>5</td>\n",
              "      <td>7</td>\n",
              "      <td>0</td>\n",
              "      <td>0</td>\n",
              "      <td>0</td>\n",
              "      <td>1</td>\n",
              "      <td>0</td>\n",
              "      <td>0</td>\n",
              "      <td>3</td>\n",
              "      <td>11</td>\n",
              "      <td>0</td>\n",
              "    </tr>\n",
              "    <tr>\n",
              "      <th>2237</th>\n",
              "      <td>7270</td>\n",
              "      <td>43</td>\n",
              "      <td>Graduation</td>\n",
              "      <td>Divorced</td>\n",
              "      <td>56981.0</td>\n",
              "      <td>0</td>\n",
              "      <td>0</td>\n",
              "      <td>25-01-2014</td>\n",
              "      <td>91</td>\n",
              "      <td>908</td>\n",
              "      <td>48</td>\n",
              "      <td>217</td>\n",
              "      <td>32</td>\n",
              "      <td>12</td>\n",
              "      <td>24</td>\n",
              "      <td>1</td>\n",
              "      <td>2</td>\n",
              "      <td>3</td>\n",
              "      <td>13</td>\n",
              "      <td>6</td>\n",
              "      <td>0</td>\n",
              "      <td>1</td>\n",
              "      <td>0</td>\n",
              "      <td>0</td>\n",
              "      <td>0</td>\n",
              "      <td>0</td>\n",
              "      <td>3</td>\n",
              "      <td>11</td>\n",
              "      <td>0</td>\n",
              "    </tr>\n",
              "    <tr>\n",
              "      <th>2238</th>\n",
              "      <td>8235</td>\n",
              "      <td>68</td>\n",
              "      <td>Master</td>\n",
              "      <td>Together</td>\n",
              "      <td>69245.0</td>\n",
              "      <td>0</td>\n",
              "      <td>1</td>\n",
              "      <td>24-01-2014</td>\n",
              "      <td>8</td>\n",
              "      <td>428</td>\n",
              "      <td>30</td>\n",
              "      <td>214</td>\n",
              "      <td>80</td>\n",
              "      <td>30</td>\n",
              "      <td>61</td>\n",
              "      <td>2</td>\n",
              "      <td>6</td>\n",
              "      <td>5</td>\n",
              "      <td>10</td>\n",
              "      <td>3</td>\n",
              "      <td>0</td>\n",
              "      <td>0</td>\n",
              "      <td>0</td>\n",
              "      <td>0</td>\n",
              "      <td>0</td>\n",
              "      <td>0</td>\n",
              "      <td>3</td>\n",
              "      <td>11</td>\n",
              "      <td>0</td>\n",
              "    </tr>\n",
              "    <tr>\n",
              "      <th>2239</th>\n",
              "      <td>9405</td>\n",
              "      <td>70</td>\n",
              "      <td>PhD</td>\n",
              "      <td>Married</td>\n",
              "      <td>52869.0</td>\n",
              "      <td>1</td>\n",
              "      <td>1</td>\n",
              "      <td>15-10-2012</td>\n",
              "      <td>40</td>\n",
              "      <td>84</td>\n",
              "      <td>3</td>\n",
              "      <td>61</td>\n",
              "      <td>2</td>\n",
              "      <td>1</td>\n",
              "      <td>21</td>\n",
              "      <td>3</td>\n",
              "      <td>3</td>\n",
              "      <td>1</td>\n",
              "      <td>4</td>\n",
              "      <td>7</td>\n",
              "      <td>0</td>\n",
              "      <td>0</td>\n",
              "      <td>0</td>\n",
              "      <td>0</td>\n",
              "      <td>0</td>\n",
              "      <td>0</td>\n",
              "      <td>3</td>\n",
              "      <td>11</td>\n",
              "      <td>1</td>\n",
              "    </tr>\n",
              "  </tbody>\n",
              "</table>\n",
              "<p>2216 rows × 29 columns</p>\n",
              "</div>\n",
              "    <div class=\"colab-df-buttons\">\n",
              "\n",
              "  <div class=\"colab-df-container\">\n",
              "    <button class=\"colab-df-convert\" onclick=\"convertToInteractive('df-43e0411e-9e62-4aef-b667-6e45c8ae66d9')\"\n",
              "            title=\"Convert this dataframe to an interactive table.\"\n",
              "            style=\"display:none;\">\n",
              "\n",
              "  <svg xmlns=\"http://www.w3.org/2000/svg\" height=\"24px\" viewBox=\"0 -960 960 960\">\n",
              "    <path d=\"M120-120v-720h720v720H120Zm60-500h600v-160H180v160Zm220 220h160v-160H400v160Zm0 220h160v-160H400v160ZM180-400h160v-160H180v160Zm440 0h160v-160H620v160ZM180-180h160v-160H180v160Zm440 0h160v-160H620v160Z\"/>\n",
              "  </svg>\n",
              "    </button>\n",
              "\n",
              "  <style>\n",
              "    .colab-df-container {\n",
              "      display:flex;\n",
              "      gap: 12px;\n",
              "    }\n",
              "\n",
              "    .colab-df-convert {\n",
              "      background-color: #E8F0FE;\n",
              "      border: none;\n",
              "      border-radius: 50%;\n",
              "      cursor: pointer;\n",
              "      display: none;\n",
              "      fill: #1967D2;\n",
              "      height: 32px;\n",
              "      padding: 0 0 0 0;\n",
              "      width: 32px;\n",
              "    }\n",
              "\n",
              "    .colab-df-convert:hover {\n",
              "      background-color: #E2EBFA;\n",
              "      box-shadow: 0px 1px 2px rgba(60, 64, 67, 0.3), 0px 1px 3px 1px rgba(60, 64, 67, 0.15);\n",
              "      fill: #174EA6;\n",
              "    }\n",
              "\n",
              "    .colab-df-buttons div {\n",
              "      margin-bottom: 4px;\n",
              "    }\n",
              "\n",
              "    [theme=dark] .colab-df-convert {\n",
              "      background-color: #3B4455;\n",
              "      fill: #D2E3FC;\n",
              "    }\n",
              "\n",
              "    [theme=dark] .colab-df-convert:hover {\n",
              "      background-color: #434B5C;\n",
              "      box-shadow: 0px 1px 3px 1px rgba(0, 0, 0, 0.15);\n",
              "      filter: drop-shadow(0px 1px 2px rgba(0, 0, 0, 0.3));\n",
              "      fill: #FFFFFF;\n",
              "    }\n",
              "  </style>\n",
              "\n",
              "    <script>\n",
              "      const buttonEl =\n",
              "        document.querySelector('#df-43e0411e-9e62-4aef-b667-6e45c8ae66d9 button.colab-df-convert');\n",
              "      buttonEl.style.display =\n",
              "        google.colab.kernel.accessAllowed ? 'block' : 'none';\n",
              "\n",
              "      async function convertToInteractive(key) {\n",
              "        const element = document.querySelector('#df-43e0411e-9e62-4aef-b667-6e45c8ae66d9');\n",
              "        const dataTable =\n",
              "          await google.colab.kernel.invokeFunction('convertToInteractive',\n",
              "                                                    [key], {});\n",
              "        if (!dataTable) return;\n",
              "\n",
              "        const docLinkHtml = 'Like what you see? Visit the ' +\n",
              "          '<a target=\"_blank\" href=https://colab.research.google.com/notebooks/data_table.ipynb>data table notebook</a>'\n",
              "          + ' to learn more about interactive tables.';\n",
              "        element.innerHTML = '';\n",
              "        dataTable['output_type'] = 'display_data';\n",
              "        await google.colab.output.renderOutput(dataTable, element);\n",
              "        const docLink = document.createElement('div');\n",
              "        docLink.innerHTML = docLinkHtml;\n",
              "        element.appendChild(docLink);\n",
              "      }\n",
              "    </script>\n",
              "  </div>\n",
              "\n",
              "\n",
              "<div id=\"df-bca41159-61fc-454f-b468-78529a5ce5f4\">\n",
              "  <button class=\"colab-df-quickchart\" onclick=\"quickchart('df-bca41159-61fc-454f-b468-78529a5ce5f4')\"\n",
              "            title=\"Suggest charts\"\n",
              "            style=\"display:none;\">\n",
              "\n",
              "<svg xmlns=\"http://www.w3.org/2000/svg\" height=\"24px\"viewBox=\"0 0 24 24\"\n",
              "     width=\"24px\">\n",
              "    <g>\n",
              "        <path d=\"M19 3H5c-1.1 0-2 .9-2 2v14c0 1.1.9 2 2 2h14c1.1 0 2-.9 2-2V5c0-1.1-.9-2-2-2zM9 17H7v-7h2v7zm4 0h-2V7h2v10zm4 0h-2v-4h2v4z\"/>\n",
              "    </g>\n",
              "</svg>\n",
              "  </button>\n",
              "\n",
              "<style>\n",
              "  .colab-df-quickchart {\n",
              "      --bg-color: #E8F0FE;\n",
              "      --fill-color: #1967D2;\n",
              "      --hover-bg-color: #E2EBFA;\n",
              "      --hover-fill-color: #174EA6;\n",
              "      --disabled-fill-color: #AAA;\n",
              "      --disabled-bg-color: #DDD;\n",
              "  }\n",
              "\n",
              "  [theme=dark] .colab-df-quickchart {\n",
              "      --bg-color: #3B4455;\n",
              "      --fill-color: #D2E3FC;\n",
              "      --hover-bg-color: #434B5C;\n",
              "      --hover-fill-color: #FFFFFF;\n",
              "      --disabled-bg-color: #3B4455;\n",
              "      --disabled-fill-color: #666;\n",
              "  }\n",
              "\n",
              "  .colab-df-quickchart {\n",
              "    background-color: var(--bg-color);\n",
              "    border: none;\n",
              "    border-radius: 50%;\n",
              "    cursor: pointer;\n",
              "    display: none;\n",
              "    fill: var(--fill-color);\n",
              "    height: 32px;\n",
              "    padding: 0;\n",
              "    width: 32px;\n",
              "  }\n",
              "\n",
              "  .colab-df-quickchart:hover {\n",
              "    background-color: var(--hover-bg-color);\n",
              "    box-shadow: 0 1px 2px rgba(60, 64, 67, 0.3), 0 1px 3px 1px rgba(60, 64, 67, 0.15);\n",
              "    fill: var(--button-hover-fill-color);\n",
              "  }\n",
              "\n",
              "  .colab-df-quickchart-complete:disabled,\n",
              "  .colab-df-quickchart-complete:disabled:hover {\n",
              "    background-color: var(--disabled-bg-color);\n",
              "    fill: var(--disabled-fill-color);\n",
              "    box-shadow: none;\n",
              "  }\n",
              "\n",
              "  .colab-df-spinner {\n",
              "    border: 2px solid var(--fill-color);\n",
              "    border-color: transparent;\n",
              "    border-bottom-color: var(--fill-color);\n",
              "    animation:\n",
              "      spin 1s steps(1) infinite;\n",
              "  }\n",
              "\n",
              "  @keyframes spin {\n",
              "    0% {\n",
              "      border-color: transparent;\n",
              "      border-bottom-color: var(--fill-color);\n",
              "      border-left-color: var(--fill-color);\n",
              "    }\n",
              "    20% {\n",
              "      border-color: transparent;\n",
              "      border-left-color: var(--fill-color);\n",
              "      border-top-color: var(--fill-color);\n",
              "    }\n",
              "    30% {\n",
              "      border-color: transparent;\n",
              "      border-left-color: var(--fill-color);\n",
              "      border-top-color: var(--fill-color);\n",
              "      border-right-color: var(--fill-color);\n",
              "    }\n",
              "    40% {\n",
              "      border-color: transparent;\n",
              "      border-right-color: var(--fill-color);\n",
              "      border-top-color: var(--fill-color);\n",
              "    }\n",
              "    60% {\n",
              "      border-color: transparent;\n",
              "      border-right-color: var(--fill-color);\n",
              "    }\n",
              "    80% {\n",
              "      border-color: transparent;\n",
              "      border-right-color: var(--fill-color);\n",
              "      border-bottom-color: var(--fill-color);\n",
              "    }\n",
              "    90% {\n",
              "      border-color: transparent;\n",
              "      border-bottom-color: var(--fill-color);\n",
              "    }\n",
              "  }\n",
              "</style>\n",
              "\n",
              "  <script>\n",
              "    async function quickchart(key) {\n",
              "      const quickchartButtonEl =\n",
              "        document.querySelector('#' + key + ' button');\n",
              "      quickchartButtonEl.disabled = true;  // To prevent multiple clicks.\n",
              "      quickchartButtonEl.classList.add('colab-df-spinner');\n",
              "      try {\n",
              "        const charts = await google.colab.kernel.invokeFunction(\n",
              "            'suggestCharts', [key], {});\n",
              "      } catch (error) {\n",
              "        console.error('Error during call to suggestCharts:', error);\n",
              "      }\n",
              "      quickchartButtonEl.classList.remove('colab-df-spinner');\n",
              "      quickchartButtonEl.classList.add('colab-df-quickchart-complete');\n",
              "    }\n",
              "    (() => {\n",
              "      let quickchartButtonEl =\n",
              "        document.querySelector('#df-bca41159-61fc-454f-b468-78529a5ce5f4 button');\n",
              "      quickchartButtonEl.style.display =\n",
              "        google.colab.kernel.accessAllowed ? 'block' : 'none';\n",
              "    })();\n",
              "  </script>\n",
              "</div>\n",
              "\n",
              "    </div>\n",
              "  </div>\n"
            ],
            "application/vnd.google.colaboratory.intrinsic+json": {
              "type": "dataframe"
            }
          },
          "metadata": {},
          "execution_count": 57
        }
      ]
    },
    {
      "cell_type": "code",
      "source": [
        "data[\"Numcmp\"] = data['AcceptedCmp1']+ data['AcceptedCmp2']+ data['AcceptedCmp3']+ data['AcceptedCmp4']+ data['AcceptedCmp5'] +data['Response']\n",
        "data[\"Numcmp\"]\n",
        "\n",
        "#Otra Opción\n",
        "data[['AcceptedCmp1', 'AcceptedCmp2', 'AcceptedCmp3', 'AcceptedCmp4', 'AcceptedCmp5', 'Response']].sum(axis=1)"
      ],
      "metadata": {
        "colab": {
          "base_uri": "https://localhost:8080/"
        },
        "id": "Wx3ElTt6-CLm",
        "outputId": "ebcd3e9b-7e70-4aca-8ba3-ea5e512fca35"
      },
      "execution_count": null,
      "outputs": [
        {
          "output_type": "execute_result",
          "data": {
            "text/plain": [
              "0       1\n",
              "1       0\n",
              "2       0\n",
              "3       0\n",
              "4       0\n",
              "       ..\n",
              "2235    0\n",
              "2236    1\n",
              "2237    1\n",
              "2238    0\n",
              "2239    1\n",
              "Length: 2216, dtype: int64"
            ]
          },
          "metadata": {},
          "execution_count": 62
        }
      ]
    },
    {
      "cell_type": "code",
      "source": [
        "#Cuantas personas aceptan la campaña\n",
        "data[['AcceptedCmp1', 'AcceptedCmp2', 'AcceptedCmp3', 'AcceptedCmp4', 'AcceptedCmp5', 'Response']].sum(axis=0)"
      ],
      "metadata": {
        "colab": {
          "base_uri": "https://localhost:8080/"
        },
        "id": "PBO3cv1B_uNB",
        "outputId": "b678f3dd-f939-421d-ba90-7b816172b543"
      },
      "execution_count": null,
      "outputs": [
        {
          "output_type": "execute_result",
          "data": {
            "text/plain": [
              "AcceptedCmp1    142\n",
              "AcceptedCmp2     30\n",
              "AcceptedCmp3    163\n",
              "AcceptedCmp4    164\n",
              "AcceptedCmp5    162\n",
              "Response        333\n",
              "dtype: int64"
            ]
          },
          "metadata": {},
          "execution_count": 63
        }
      ]
    },
    {
      "cell_type": "code",
      "source": [
        "#Varibales con las que se va a trabajar\n",
        "data1= data.drop(labels=['Year_Birth','AcceptedCmp1', 'AcceptedCmp2', 'AcceptedCmp3', 'AcceptedCmp4', 'AcceptedCmp5', 'Response', 'ID'], axis=1)"
      ],
      "metadata": {
        "colab": {
          "base_uri": "https://localhost:8080/"
        },
        "id": "W7Cr8d0vAMVu",
        "outputId": "695f8e19-e1a4-49b3-fce0-9a36d824f098"
      },
      "execution_count": null,
      "outputs": [
        {
          "output_type": "execute_result",
          "data": {
            "text/plain": [
              "       Education Marital_Status   Income  Kidhome  Teenhome Dt_Customer  \\\n",
              "0     Graduation         Single  58138.0        0         0  04-09-2012   \n",
              "1     Graduation         Single  46344.0        1         1  08-03-2014   \n",
              "2     Graduation       Together  71613.0        0         0  21-08-2013   \n",
              "3     Graduation       Together  26646.0        1         0  10-02-2014   \n",
              "4            PhD        Married  58293.0        1         0  19-01-2014   \n",
              "...          ...            ...      ...      ...       ...         ...   \n",
              "2235  Graduation        Married  61223.0        0         1  13-06-2013   \n",
              "2236         PhD       Together  64014.0        2         1  10-06-2014   \n",
              "2237  Graduation       Divorced  56981.0        0         0  25-01-2014   \n",
              "2238      Master       Together  69245.0        0         1  24-01-2014   \n",
              "2239         PhD        Married  52869.0        1         1  15-10-2012   \n",
              "\n",
              "      Recency  MntWines  MntFruits  MntMeatProducts  MntFishProducts  \\\n",
              "0          58       635         88              546              172   \n",
              "1          38        11          1                6                2   \n",
              "2          26       426         49              127              111   \n",
              "3          26        11          4               20               10   \n",
              "4          94       173         43              118               46   \n",
              "...       ...       ...        ...              ...              ...   \n",
              "2235       46       709         43              182               42   \n",
              "2236       56       406          0               30                0   \n",
              "2237       91       908         48              217               32   \n",
              "2238        8       428         30              214               80   \n",
              "2239       40        84          3               61                2   \n",
              "\n",
              "      MntSweetProducts  MntGoldProds  NumDealsPurchases  NumWebPurchases  \\\n",
              "0                   88            88                  3                8   \n",
              "1                    1             6                  2                1   \n",
              "2                   21            42                  1                8   \n",
              "3                    3             5                  2                2   \n",
              "4                   27            15                  5                5   \n",
              "...                ...           ...                ...              ...   \n",
              "2235               118           247                  2                9   \n",
              "2236                 0             8                  7                8   \n",
              "2237                12            24                  1                2   \n",
              "2238                30            61                  2                6   \n",
              "2239                 1            21                  3                3   \n",
              "\n",
              "      NumCatalogPurchases  NumStorePurchases  NumWebVisitsMonth  Complain  \\\n",
              "0                      10                  4                  7         0   \n",
              "1                       1                  2                  5         0   \n",
              "2                       2                 10                  4         0   \n",
              "3                       0                  4                  6         0   \n",
              "4                       3                  6                  5         0   \n",
              "...                   ...                ...                ...       ...   \n",
              "2235                    3                  4                  5         0   \n",
              "2236                    2                  5                  7         0   \n",
              "2237                    3                 13                  6         0   \n",
              "2238                    5                 10                  3         0   \n",
              "2239                    1                  4                  7         0   \n",
              "\n",
              "      Z_CostContact  Z_Revenue  Age  Numcmp  \n",
              "0                 3         11   67       1  \n",
              "1                 3         11   70       0  \n",
              "2                 3         11   59       0  \n",
              "3                 3         11   40       0  \n",
              "4                 3         11   43       0  \n",
              "...             ...        ...  ...     ...  \n",
              "2235              3         11   57       0  \n",
              "2236              3         11   78       1  \n",
              "2237              3         11   43       1  \n",
              "2238              3         11   68       0  \n",
              "2239              3         11   70       1  \n",
              "\n",
              "[2216 rows x 23 columns]"
            ],
            "text/html": [
              "\n",
              "  <div id=\"df-127d5075-6744-41b3-a6d2-a16cc3d62ab8\" class=\"colab-df-container\">\n",
              "    <div>\n",
              "<style scoped>\n",
              "    .dataframe tbody tr th:only-of-type {\n",
              "        vertical-align: middle;\n",
              "    }\n",
              "\n",
              "    .dataframe tbody tr th {\n",
              "        vertical-align: top;\n",
              "    }\n",
              "\n",
              "    .dataframe thead th {\n",
              "        text-align: right;\n",
              "    }\n",
              "</style>\n",
              "<table border=\"1\" class=\"dataframe\">\n",
              "  <thead>\n",
              "    <tr style=\"text-align: right;\">\n",
              "      <th></th>\n",
              "      <th>Education</th>\n",
              "      <th>Marital_Status</th>\n",
              "      <th>Income</th>\n",
              "      <th>Kidhome</th>\n",
              "      <th>Teenhome</th>\n",
              "      <th>Dt_Customer</th>\n",
              "      <th>Recency</th>\n",
              "      <th>MntWines</th>\n",
              "      <th>MntFruits</th>\n",
              "      <th>MntMeatProducts</th>\n",
              "      <th>MntFishProducts</th>\n",
              "      <th>MntSweetProducts</th>\n",
              "      <th>MntGoldProds</th>\n",
              "      <th>NumDealsPurchases</th>\n",
              "      <th>NumWebPurchases</th>\n",
              "      <th>NumCatalogPurchases</th>\n",
              "      <th>NumStorePurchases</th>\n",
              "      <th>NumWebVisitsMonth</th>\n",
              "      <th>Complain</th>\n",
              "      <th>Z_CostContact</th>\n",
              "      <th>Z_Revenue</th>\n",
              "      <th>Age</th>\n",
              "      <th>Numcmp</th>\n",
              "    </tr>\n",
              "  </thead>\n",
              "  <tbody>\n",
              "    <tr>\n",
              "      <th>0</th>\n",
              "      <td>Graduation</td>\n",
              "      <td>Single</td>\n",
              "      <td>58138.0</td>\n",
              "      <td>0</td>\n",
              "      <td>0</td>\n",
              "      <td>04-09-2012</td>\n",
              "      <td>58</td>\n",
              "      <td>635</td>\n",
              "      <td>88</td>\n",
              "      <td>546</td>\n",
              "      <td>172</td>\n",
              "      <td>88</td>\n",
              "      <td>88</td>\n",
              "      <td>3</td>\n",
              "      <td>8</td>\n",
              "      <td>10</td>\n",
              "      <td>4</td>\n",
              "      <td>7</td>\n",
              "      <td>0</td>\n",
              "      <td>3</td>\n",
              "      <td>11</td>\n",
              "      <td>67</td>\n",
              "      <td>1</td>\n",
              "    </tr>\n",
              "    <tr>\n",
              "      <th>1</th>\n",
              "      <td>Graduation</td>\n",
              "      <td>Single</td>\n",
              "      <td>46344.0</td>\n",
              "      <td>1</td>\n",
              "      <td>1</td>\n",
              "      <td>08-03-2014</td>\n",
              "      <td>38</td>\n",
              "      <td>11</td>\n",
              "      <td>1</td>\n",
              "      <td>6</td>\n",
              "      <td>2</td>\n",
              "      <td>1</td>\n",
              "      <td>6</td>\n",
              "      <td>2</td>\n",
              "      <td>1</td>\n",
              "      <td>1</td>\n",
              "      <td>2</td>\n",
              "      <td>5</td>\n",
              "      <td>0</td>\n",
              "      <td>3</td>\n",
              "      <td>11</td>\n",
              "      <td>70</td>\n",
              "      <td>0</td>\n",
              "    </tr>\n",
              "    <tr>\n",
              "      <th>2</th>\n",
              "      <td>Graduation</td>\n",
              "      <td>Together</td>\n",
              "      <td>71613.0</td>\n",
              "      <td>0</td>\n",
              "      <td>0</td>\n",
              "      <td>21-08-2013</td>\n",
              "      <td>26</td>\n",
              "      <td>426</td>\n",
              "      <td>49</td>\n",
              "      <td>127</td>\n",
              "      <td>111</td>\n",
              "      <td>21</td>\n",
              "      <td>42</td>\n",
              "      <td>1</td>\n",
              "      <td>8</td>\n",
              "      <td>2</td>\n",
              "      <td>10</td>\n",
              "      <td>4</td>\n",
              "      <td>0</td>\n",
              "      <td>3</td>\n",
              "      <td>11</td>\n",
              "      <td>59</td>\n",
              "      <td>0</td>\n",
              "    </tr>\n",
              "    <tr>\n",
              "      <th>3</th>\n",
              "      <td>Graduation</td>\n",
              "      <td>Together</td>\n",
              "      <td>26646.0</td>\n",
              "      <td>1</td>\n",
              "      <td>0</td>\n",
              "      <td>10-02-2014</td>\n",
              "      <td>26</td>\n",
              "      <td>11</td>\n",
              "      <td>4</td>\n",
              "      <td>20</td>\n",
              "      <td>10</td>\n",
              "      <td>3</td>\n",
              "      <td>5</td>\n",
              "      <td>2</td>\n",
              "      <td>2</td>\n",
              "      <td>0</td>\n",
              "      <td>4</td>\n",
              "      <td>6</td>\n",
              "      <td>0</td>\n",
              "      <td>3</td>\n",
              "      <td>11</td>\n",
              "      <td>40</td>\n",
              "      <td>0</td>\n",
              "    </tr>\n",
              "    <tr>\n",
              "      <th>4</th>\n",
              "      <td>PhD</td>\n",
              "      <td>Married</td>\n",
              "      <td>58293.0</td>\n",
              "      <td>1</td>\n",
              "      <td>0</td>\n",
              "      <td>19-01-2014</td>\n",
              "      <td>94</td>\n",
              "      <td>173</td>\n",
              "      <td>43</td>\n",
              "      <td>118</td>\n",
              "      <td>46</td>\n",
              "      <td>27</td>\n",
              "      <td>15</td>\n",
              "      <td>5</td>\n",
              "      <td>5</td>\n",
              "      <td>3</td>\n",
              "      <td>6</td>\n",
              "      <td>5</td>\n",
              "      <td>0</td>\n",
              "      <td>3</td>\n",
              "      <td>11</td>\n",
              "      <td>43</td>\n",
              "      <td>0</td>\n",
              "    </tr>\n",
              "    <tr>\n",
              "      <th>...</th>\n",
              "      <td>...</td>\n",
              "      <td>...</td>\n",
              "      <td>...</td>\n",
              "      <td>...</td>\n",
              "      <td>...</td>\n",
              "      <td>...</td>\n",
              "      <td>...</td>\n",
              "      <td>...</td>\n",
              "      <td>...</td>\n",
              "      <td>...</td>\n",
              "      <td>...</td>\n",
              "      <td>...</td>\n",
              "      <td>...</td>\n",
              "      <td>...</td>\n",
              "      <td>...</td>\n",
              "      <td>...</td>\n",
              "      <td>...</td>\n",
              "      <td>...</td>\n",
              "      <td>...</td>\n",
              "      <td>...</td>\n",
              "      <td>...</td>\n",
              "      <td>...</td>\n",
              "      <td>...</td>\n",
              "    </tr>\n",
              "    <tr>\n",
              "      <th>2235</th>\n",
              "      <td>Graduation</td>\n",
              "      <td>Married</td>\n",
              "      <td>61223.0</td>\n",
              "      <td>0</td>\n",
              "      <td>1</td>\n",
              "      <td>13-06-2013</td>\n",
              "      <td>46</td>\n",
              "      <td>709</td>\n",
              "      <td>43</td>\n",
              "      <td>182</td>\n",
              "      <td>42</td>\n",
              "      <td>118</td>\n",
              "      <td>247</td>\n",
              "      <td>2</td>\n",
              "      <td>9</td>\n",
              "      <td>3</td>\n",
              "      <td>4</td>\n",
              "      <td>5</td>\n",
              "      <td>0</td>\n",
              "      <td>3</td>\n",
              "      <td>11</td>\n",
              "      <td>57</td>\n",
              "      <td>0</td>\n",
              "    </tr>\n",
              "    <tr>\n",
              "      <th>2236</th>\n",
              "      <td>PhD</td>\n",
              "      <td>Together</td>\n",
              "      <td>64014.0</td>\n",
              "      <td>2</td>\n",
              "      <td>1</td>\n",
              "      <td>10-06-2014</td>\n",
              "      <td>56</td>\n",
              "      <td>406</td>\n",
              "      <td>0</td>\n",
              "      <td>30</td>\n",
              "      <td>0</td>\n",
              "      <td>0</td>\n",
              "      <td>8</td>\n",
              "      <td>7</td>\n",
              "      <td>8</td>\n",
              "      <td>2</td>\n",
              "      <td>5</td>\n",
              "      <td>7</td>\n",
              "      <td>0</td>\n",
              "      <td>3</td>\n",
              "      <td>11</td>\n",
              "      <td>78</td>\n",
              "      <td>1</td>\n",
              "    </tr>\n",
              "    <tr>\n",
              "      <th>2237</th>\n",
              "      <td>Graduation</td>\n",
              "      <td>Divorced</td>\n",
              "      <td>56981.0</td>\n",
              "      <td>0</td>\n",
              "      <td>0</td>\n",
              "      <td>25-01-2014</td>\n",
              "      <td>91</td>\n",
              "      <td>908</td>\n",
              "      <td>48</td>\n",
              "      <td>217</td>\n",
              "      <td>32</td>\n",
              "      <td>12</td>\n",
              "      <td>24</td>\n",
              "      <td>1</td>\n",
              "      <td>2</td>\n",
              "      <td>3</td>\n",
              "      <td>13</td>\n",
              "      <td>6</td>\n",
              "      <td>0</td>\n",
              "      <td>3</td>\n",
              "      <td>11</td>\n",
              "      <td>43</td>\n",
              "      <td>1</td>\n",
              "    </tr>\n",
              "    <tr>\n",
              "      <th>2238</th>\n",
              "      <td>Master</td>\n",
              "      <td>Together</td>\n",
              "      <td>69245.0</td>\n",
              "      <td>0</td>\n",
              "      <td>1</td>\n",
              "      <td>24-01-2014</td>\n",
              "      <td>8</td>\n",
              "      <td>428</td>\n",
              "      <td>30</td>\n",
              "      <td>214</td>\n",
              "      <td>80</td>\n",
              "      <td>30</td>\n",
              "      <td>61</td>\n",
              "      <td>2</td>\n",
              "      <td>6</td>\n",
              "      <td>5</td>\n",
              "      <td>10</td>\n",
              "      <td>3</td>\n",
              "      <td>0</td>\n",
              "      <td>3</td>\n",
              "      <td>11</td>\n",
              "      <td>68</td>\n",
              "      <td>0</td>\n",
              "    </tr>\n",
              "    <tr>\n",
              "      <th>2239</th>\n",
              "      <td>PhD</td>\n",
              "      <td>Married</td>\n",
              "      <td>52869.0</td>\n",
              "      <td>1</td>\n",
              "      <td>1</td>\n",
              "      <td>15-10-2012</td>\n",
              "      <td>40</td>\n",
              "      <td>84</td>\n",
              "      <td>3</td>\n",
              "      <td>61</td>\n",
              "      <td>2</td>\n",
              "      <td>1</td>\n",
              "      <td>21</td>\n",
              "      <td>3</td>\n",
              "      <td>3</td>\n",
              "      <td>1</td>\n",
              "      <td>4</td>\n",
              "      <td>7</td>\n",
              "      <td>0</td>\n",
              "      <td>3</td>\n",
              "      <td>11</td>\n",
              "      <td>70</td>\n",
              "      <td>1</td>\n",
              "    </tr>\n",
              "  </tbody>\n",
              "</table>\n",
              "<p>2216 rows × 23 columns</p>\n",
              "</div>\n",
              "    <div class=\"colab-df-buttons\">\n",
              "\n",
              "  <div class=\"colab-df-container\">\n",
              "    <button class=\"colab-df-convert\" onclick=\"convertToInteractive('df-127d5075-6744-41b3-a6d2-a16cc3d62ab8')\"\n",
              "            title=\"Convert this dataframe to an interactive table.\"\n",
              "            style=\"display:none;\">\n",
              "\n",
              "  <svg xmlns=\"http://www.w3.org/2000/svg\" height=\"24px\" viewBox=\"0 -960 960 960\">\n",
              "    <path d=\"M120-120v-720h720v720H120Zm60-500h600v-160H180v160Zm220 220h160v-160H400v160Zm0 220h160v-160H400v160ZM180-400h160v-160H180v160Zm440 0h160v-160H620v160ZM180-180h160v-160H180v160Zm440 0h160v-160H620v160Z\"/>\n",
              "  </svg>\n",
              "    </button>\n",
              "\n",
              "  <style>\n",
              "    .colab-df-container {\n",
              "      display:flex;\n",
              "      gap: 12px;\n",
              "    }\n",
              "\n",
              "    .colab-df-convert {\n",
              "      background-color: #E8F0FE;\n",
              "      border: none;\n",
              "      border-radius: 50%;\n",
              "      cursor: pointer;\n",
              "      display: none;\n",
              "      fill: #1967D2;\n",
              "      height: 32px;\n",
              "      padding: 0 0 0 0;\n",
              "      width: 32px;\n",
              "    }\n",
              "\n",
              "    .colab-df-convert:hover {\n",
              "      background-color: #E2EBFA;\n",
              "      box-shadow: 0px 1px 2px rgba(60, 64, 67, 0.3), 0px 1px 3px 1px rgba(60, 64, 67, 0.15);\n",
              "      fill: #174EA6;\n",
              "    }\n",
              "\n",
              "    .colab-df-buttons div {\n",
              "      margin-bottom: 4px;\n",
              "    }\n",
              "\n",
              "    [theme=dark] .colab-df-convert {\n",
              "      background-color: #3B4455;\n",
              "      fill: #D2E3FC;\n",
              "    }\n",
              "\n",
              "    [theme=dark] .colab-df-convert:hover {\n",
              "      background-color: #434B5C;\n",
              "      box-shadow: 0px 1px 3px 1px rgba(0, 0, 0, 0.15);\n",
              "      filter: drop-shadow(0px 1px 2px rgba(0, 0, 0, 0.3));\n",
              "      fill: #FFFFFF;\n",
              "    }\n",
              "  </style>\n",
              "\n",
              "    <script>\n",
              "      const buttonEl =\n",
              "        document.querySelector('#df-127d5075-6744-41b3-a6d2-a16cc3d62ab8 button.colab-df-convert');\n",
              "      buttonEl.style.display =\n",
              "        google.colab.kernel.accessAllowed ? 'block' : 'none';\n",
              "\n",
              "      async function convertToInteractive(key) {\n",
              "        const element = document.querySelector('#df-127d5075-6744-41b3-a6d2-a16cc3d62ab8');\n",
              "        const dataTable =\n",
              "          await google.colab.kernel.invokeFunction('convertToInteractive',\n",
              "                                                    [key], {});\n",
              "        if (!dataTable) return;\n",
              "\n",
              "        const docLinkHtml = 'Like what you see? Visit the ' +\n",
              "          '<a target=\"_blank\" href=https://colab.research.google.com/notebooks/data_table.ipynb>data table notebook</a>'\n",
              "          + ' to learn more about interactive tables.';\n",
              "        element.innerHTML = '';\n",
              "        dataTable['output_type'] = 'display_data';\n",
              "        await google.colab.output.renderOutput(dataTable, element);\n",
              "        const docLink = document.createElement('div');\n",
              "        docLink.innerHTML = docLinkHtml;\n",
              "        element.appendChild(docLink);\n",
              "      }\n",
              "    </script>\n",
              "  </div>\n",
              "\n",
              "\n",
              "<div id=\"df-321d5498-a8a0-432d-89f6-2025476bf9fe\">\n",
              "  <button class=\"colab-df-quickchart\" onclick=\"quickchart('df-321d5498-a8a0-432d-89f6-2025476bf9fe')\"\n",
              "            title=\"Suggest charts\"\n",
              "            style=\"display:none;\">\n",
              "\n",
              "<svg xmlns=\"http://www.w3.org/2000/svg\" height=\"24px\"viewBox=\"0 0 24 24\"\n",
              "     width=\"24px\">\n",
              "    <g>\n",
              "        <path d=\"M19 3H5c-1.1 0-2 .9-2 2v14c0 1.1.9 2 2 2h14c1.1 0 2-.9 2-2V5c0-1.1-.9-2-2-2zM9 17H7v-7h2v7zm4 0h-2V7h2v10zm4 0h-2v-4h2v4z\"/>\n",
              "    </g>\n",
              "</svg>\n",
              "  </button>\n",
              "\n",
              "<style>\n",
              "  .colab-df-quickchart {\n",
              "      --bg-color: #E8F0FE;\n",
              "      --fill-color: #1967D2;\n",
              "      --hover-bg-color: #E2EBFA;\n",
              "      --hover-fill-color: #174EA6;\n",
              "      --disabled-fill-color: #AAA;\n",
              "      --disabled-bg-color: #DDD;\n",
              "  }\n",
              "\n",
              "  [theme=dark] .colab-df-quickchart {\n",
              "      --bg-color: #3B4455;\n",
              "      --fill-color: #D2E3FC;\n",
              "      --hover-bg-color: #434B5C;\n",
              "      --hover-fill-color: #FFFFFF;\n",
              "      --disabled-bg-color: #3B4455;\n",
              "      --disabled-fill-color: #666;\n",
              "  }\n",
              "\n",
              "  .colab-df-quickchart {\n",
              "    background-color: var(--bg-color);\n",
              "    border: none;\n",
              "    border-radius: 50%;\n",
              "    cursor: pointer;\n",
              "    display: none;\n",
              "    fill: var(--fill-color);\n",
              "    height: 32px;\n",
              "    padding: 0;\n",
              "    width: 32px;\n",
              "  }\n",
              "\n",
              "  .colab-df-quickchart:hover {\n",
              "    background-color: var(--hover-bg-color);\n",
              "    box-shadow: 0 1px 2px rgba(60, 64, 67, 0.3), 0 1px 3px 1px rgba(60, 64, 67, 0.15);\n",
              "    fill: var(--button-hover-fill-color);\n",
              "  }\n",
              "\n",
              "  .colab-df-quickchart-complete:disabled,\n",
              "  .colab-df-quickchart-complete:disabled:hover {\n",
              "    background-color: var(--disabled-bg-color);\n",
              "    fill: var(--disabled-fill-color);\n",
              "    box-shadow: none;\n",
              "  }\n",
              "\n",
              "  .colab-df-spinner {\n",
              "    border: 2px solid var(--fill-color);\n",
              "    border-color: transparent;\n",
              "    border-bottom-color: var(--fill-color);\n",
              "    animation:\n",
              "      spin 1s steps(1) infinite;\n",
              "  }\n",
              "\n",
              "  @keyframes spin {\n",
              "    0% {\n",
              "      border-color: transparent;\n",
              "      border-bottom-color: var(--fill-color);\n",
              "      border-left-color: var(--fill-color);\n",
              "    }\n",
              "    20% {\n",
              "      border-color: transparent;\n",
              "      border-left-color: var(--fill-color);\n",
              "      border-top-color: var(--fill-color);\n",
              "    }\n",
              "    30% {\n",
              "      border-color: transparent;\n",
              "      border-left-color: var(--fill-color);\n",
              "      border-top-color: var(--fill-color);\n",
              "      border-right-color: var(--fill-color);\n",
              "    }\n",
              "    40% {\n",
              "      border-color: transparent;\n",
              "      border-right-color: var(--fill-color);\n",
              "      border-top-color: var(--fill-color);\n",
              "    }\n",
              "    60% {\n",
              "      border-color: transparent;\n",
              "      border-right-color: var(--fill-color);\n",
              "    }\n",
              "    80% {\n",
              "      border-color: transparent;\n",
              "      border-right-color: var(--fill-color);\n",
              "      border-bottom-color: var(--fill-color);\n",
              "    }\n",
              "    90% {\n",
              "      border-color: transparent;\n",
              "      border-bottom-color: var(--fill-color);\n",
              "    }\n",
              "  }\n",
              "</style>\n",
              "\n",
              "  <script>\n",
              "    async function quickchart(key) {\n",
              "      const quickchartButtonEl =\n",
              "        document.querySelector('#' + key + ' button');\n",
              "      quickchartButtonEl.disabled = true;  // To prevent multiple clicks.\n",
              "      quickchartButtonEl.classList.add('colab-df-spinner');\n",
              "      try {\n",
              "        const charts = await google.colab.kernel.invokeFunction(\n",
              "            'suggestCharts', [key], {});\n",
              "      } catch (error) {\n",
              "        console.error('Error during call to suggestCharts:', error);\n",
              "      }\n",
              "      quickchartButtonEl.classList.remove('colab-df-spinner');\n",
              "      quickchartButtonEl.classList.add('colab-df-quickchart-complete');\n",
              "    }\n",
              "    (() => {\n",
              "      let quickchartButtonEl =\n",
              "        document.querySelector('#df-321d5498-a8a0-432d-89f6-2025476bf9fe button');\n",
              "      quickchartButtonEl.style.display =\n",
              "        google.colab.kernel.accessAllowed ? 'block' : 'none';\n",
              "    })();\n",
              "  </script>\n",
              "</div>\n",
              "\n",
              "  <div id=\"id_c9d0238f-ac47-4c8b-a912-8e232904cc4a\">\n",
              "    <style>\n",
              "      .colab-df-generate {\n",
              "        background-color: #E8F0FE;\n",
              "        border: none;\n",
              "        border-radius: 50%;\n",
              "        cursor: pointer;\n",
              "        display: none;\n",
              "        fill: #1967D2;\n",
              "        height: 32px;\n",
              "        padding: 0 0 0 0;\n",
              "        width: 32px;\n",
              "      }\n",
              "\n",
              "      .colab-df-generate:hover {\n",
              "        background-color: #E2EBFA;\n",
              "        box-shadow: 0px 1px 2px rgba(60, 64, 67, 0.3), 0px 1px 3px 1px rgba(60, 64, 67, 0.15);\n",
              "        fill: #174EA6;\n",
              "      }\n",
              "\n",
              "      [theme=dark] .colab-df-generate {\n",
              "        background-color: #3B4455;\n",
              "        fill: #D2E3FC;\n",
              "      }\n",
              "\n",
              "      [theme=dark] .colab-df-generate:hover {\n",
              "        background-color: #434B5C;\n",
              "        box-shadow: 0px 1px 3px 1px rgba(0, 0, 0, 0.15);\n",
              "        filter: drop-shadow(0px 1px 2px rgba(0, 0, 0, 0.3));\n",
              "        fill: #FFFFFF;\n",
              "      }\n",
              "    </style>\n",
              "    <button class=\"colab-df-generate\" onclick=\"generateWithVariable('data1')\"\n",
              "            title=\"Generate code using this dataframe.\"\n",
              "            style=\"display:none;\">\n",
              "\n",
              "  <svg xmlns=\"http://www.w3.org/2000/svg\" height=\"24px\"viewBox=\"0 0 24 24\"\n",
              "       width=\"24px\">\n",
              "    <path d=\"M7,19H8.4L18.45,9,17,7.55,7,17.6ZM5,21V16.75L18.45,3.32a2,2,0,0,1,2.83,0l1.4,1.43a1.91,1.91,0,0,1,.58,1.4,1.91,1.91,0,0,1-.58,1.4L9.25,21ZM18.45,9,17,7.55Zm-12,3A5.31,5.31,0,0,0,4.9,8.1,5.31,5.31,0,0,0,1,6.5,5.31,5.31,0,0,0,4.9,4.9,5.31,5.31,0,0,0,6.5,1,5.31,5.31,0,0,0,8.1,4.9,5.31,5.31,0,0,0,12,6.5,5.46,5.46,0,0,0,6.5,12Z\"/>\n",
              "  </svg>\n",
              "    </button>\n",
              "    <script>\n",
              "      (() => {\n",
              "      const buttonEl =\n",
              "        document.querySelector('#id_c9d0238f-ac47-4c8b-a912-8e232904cc4a button.colab-df-generate');\n",
              "      buttonEl.style.display =\n",
              "        google.colab.kernel.accessAllowed ? 'block' : 'none';\n",
              "\n",
              "      buttonEl.onclick = () => {\n",
              "        google.colab.notebook.generateWithVariable('data1');\n",
              "      }\n",
              "      })();\n",
              "    </script>\n",
              "  </div>\n",
              "\n",
              "    </div>\n",
              "  </div>\n"
            ],
            "application/vnd.google.colaboratory.intrinsic+json": {
              "type": "dataframe",
              "variable_name": "data1"
            }
          },
          "metadata": {},
          "execution_count": 65
        }
      ]
    },
    {
      "cell_type": "code",
      "source": [
        "data1.describe()"
      ],
      "metadata": {
        "colab": {
          "base_uri": "https://localhost:8080/",
          "height": 320
        },
        "id": "9ICdKjsmB8a1",
        "outputId": "9de44cff-c40c-419d-93f4-3b0025c585d4"
      },
      "execution_count": null,
      "outputs": [
        {
          "output_type": "execute_result",
          "data": {
            "text/plain": [
              "              Income      Kidhome     Teenhome      Recency     MntWines  \\\n",
              "count    2216.000000  2216.000000  2216.000000  2216.000000  2216.000000   \n",
              "mean    52247.251354     0.441787     0.505415    49.012635   305.091606   \n",
              "std     25173.076661     0.536896     0.544181    28.948352   337.327920   \n",
              "min      1730.000000     0.000000     0.000000     0.000000     0.000000   \n",
              "25%     35303.000000     0.000000     0.000000    24.000000    24.000000   \n",
              "50%     51381.500000     0.000000     0.000000    49.000000   174.500000   \n",
              "75%     68522.000000     1.000000     1.000000    74.000000   505.000000   \n",
              "max    666666.000000     2.000000     2.000000    99.000000  1493.000000   \n",
              "\n",
              "         MntFruits  MntMeatProducts  MntFishProducts  MntSweetProducts  \\\n",
              "count  2216.000000      2216.000000      2216.000000       2216.000000   \n",
              "mean     26.356047       166.995939        37.637635         27.028881   \n",
              "std      39.793917       224.283273        54.752082         41.072046   \n",
              "min       0.000000         0.000000         0.000000          0.000000   \n",
              "25%       2.000000        16.000000         3.000000          1.000000   \n",
              "50%       8.000000        68.000000        12.000000          8.000000   \n",
              "75%      33.000000       232.250000        50.000000         33.000000   \n",
              "max     199.000000      1725.000000       259.000000        262.000000   \n",
              "\n",
              "       MntGoldProds  NumDealsPurchases  NumWebPurchases  NumCatalogPurchases  \\\n",
              "count   2216.000000        2216.000000      2216.000000          2216.000000   \n",
              "mean      43.965253           2.323556         4.085289             2.671029   \n",
              "std       51.815414           1.923716         2.740951             2.926734   \n",
              "min        0.000000           0.000000         0.000000             0.000000   \n",
              "25%        9.000000           1.000000         2.000000             0.000000   \n",
              "50%       24.500000           2.000000         4.000000             2.000000   \n",
              "75%       56.000000           3.000000         6.000000             4.000000   \n",
              "max      321.000000          15.000000        27.000000            28.000000   \n",
              "\n",
              "       NumStorePurchases  NumWebVisitsMonth     Complain  Z_CostContact  \\\n",
              "count        2216.000000        2216.000000  2216.000000         2216.0   \n",
              "mean            5.800993           5.319043     0.009477            3.0   \n",
              "std             3.250785           2.425359     0.096907            0.0   \n",
              "min             0.000000           0.000000     0.000000            3.0   \n",
              "25%             3.000000           3.000000     0.000000            3.0   \n",
              "50%             5.000000           6.000000     0.000000            3.0   \n",
              "75%             8.000000           7.000000     0.000000            3.0   \n",
              "max            13.000000          20.000000     1.000000            3.0   \n",
              "\n",
              "       Z_Revenue          Age       Numcmp  \n",
              "count     2216.0  2216.000000  2216.000000  \n",
              "mean        11.0    55.179603     0.448556  \n",
              "std          0.0    11.985554     0.892440  \n",
              "min         11.0    28.000000     0.000000  \n",
              "25%         11.0    47.000000     0.000000  \n",
              "50%         11.0    54.000000     0.000000  \n",
              "75%         11.0    65.000000     1.000000  \n",
              "max         11.0   131.000000     5.000000  "
            ],
            "text/html": [
              "\n",
              "  <div id=\"df-401cb218-73f3-41e5-b26c-0d22c60b7916\" class=\"colab-df-container\">\n",
              "    <div>\n",
              "<style scoped>\n",
              "    .dataframe tbody tr th:only-of-type {\n",
              "        vertical-align: middle;\n",
              "    }\n",
              "\n",
              "    .dataframe tbody tr th {\n",
              "        vertical-align: top;\n",
              "    }\n",
              "\n",
              "    .dataframe thead th {\n",
              "        text-align: right;\n",
              "    }\n",
              "</style>\n",
              "<table border=\"1\" class=\"dataframe\">\n",
              "  <thead>\n",
              "    <tr style=\"text-align: right;\">\n",
              "      <th></th>\n",
              "      <th>Income</th>\n",
              "      <th>Kidhome</th>\n",
              "      <th>Teenhome</th>\n",
              "      <th>Recency</th>\n",
              "      <th>MntWines</th>\n",
              "      <th>MntFruits</th>\n",
              "      <th>MntMeatProducts</th>\n",
              "      <th>MntFishProducts</th>\n",
              "      <th>MntSweetProducts</th>\n",
              "      <th>MntGoldProds</th>\n",
              "      <th>NumDealsPurchases</th>\n",
              "      <th>NumWebPurchases</th>\n",
              "      <th>NumCatalogPurchases</th>\n",
              "      <th>NumStorePurchases</th>\n",
              "      <th>NumWebVisitsMonth</th>\n",
              "      <th>Complain</th>\n",
              "      <th>Z_CostContact</th>\n",
              "      <th>Z_Revenue</th>\n",
              "      <th>Age</th>\n",
              "      <th>Numcmp</th>\n",
              "    </tr>\n",
              "  </thead>\n",
              "  <tbody>\n",
              "    <tr>\n",
              "      <th>count</th>\n",
              "      <td>2216.000000</td>\n",
              "      <td>2216.000000</td>\n",
              "      <td>2216.000000</td>\n",
              "      <td>2216.000000</td>\n",
              "      <td>2216.000000</td>\n",
              "      <td>2216.000000</td>\n",
              "      <td>2216.000000</td>\n",
              "      <td>2216.000000</td>\n",
              "      <td>2216.000000</td>\n",
              "      <td>2216.000000</td>\n",
              "      <td>2216.000000</td>\n",
              "      <td>2216.000000</td>\n",
              "      <td>2216.000000</td>\n",
              "      <td>2216.000000</td>\n",
              "      <td>2216.000000</td>\n",
              "      <td>2216.000000</td>\n",
              "      <td>2216.0</td>\n",
              "      <td>2216.0</td>\n",
              "      <td>2216.000000</td>\n",
              "      <td>2216.000000</td>\n",
              "    </tr>\n",
              "    <tr>\n",
              "      <th>mean</th>\n",
              "      <td>52247.251354</td>\n",
              "      <td>0.441787</td>\n",
              "      <td>0.505415</td>\n",
              "      <td>49.012635</td>\n",
              "      <td>305.091606</td>\n",
              "      <td>26.356047</td>\n",
              "      <td>166.995939</td>\n",
              "      <td>37.637635</td>\n",
              "      <td>27.028881</td>\n",
              "      <td>43.965253</td>\n",
              "      <td>2.323556</td>\n",
              "      <td>4.085289</td>\n",
              "      <td>2.671029</td>\n",
              "      <td>5.800993</td>\n",
              "      <td>5.319043</td>\n",
              "      <td>0.009477</td>\n",
              "      <td>3.0</td>\n",
              "      <td>11.0</td>\n",
              "      <td>55.179603</td>\n",
              "      <td>0.448556</td>\n",
              "    </tr>\n",
              "    <tr>\n",
              "      <th>std</th>\n",
              "      <td>25173.076661</td>\n",
              "      <td>0.536896</td>\n",
              "      <td>0.544181</td>\n",
              "      <td>28.948352</td>\n",
              "      <td>337.327920</td>\n",
              "      <td>39.793917</td>\n",
              "      <td>224.283273</td>\n",
              "      <td>54.752082</td>\n",
              "      <td>41.072046</td>\n",
              "      <td>51.815414</td>\n",
              "      <td>1.923716</td>\n",
              "      <td>2.740951</td>\n",
              "      <td>2.926734</td>\n",
              "      <td>3.250785</td>\n",
              "      <td>2.425359</td>\n",
              "      <td>0.096907</td>\n",
              "      <td>0.0</td>\n",
              "      <td>0.0</td>\n",
              "      <td>11.985554</td>\n",
              "      <td>0.892440</td>\n",
              "    </tr>\n",
              "    <tr>\n",
              "      <th>min</th>\n",
              "      <td>1730.000000</td>\n",
              "      <td>0.000000</td>\n",
              "      <td>0.000000</td>\n",
              "      <td>0.000000</td>\n",
              "      <td>0.000000</td>\n",
              "      <td>0.000000</td>\n",
              "      <td>0.000000</td>\n",
              "      <td>0.000000</td>\n",
              "      <td>0.000000</td>\n",
              "      <td>0.000000</td>\n",
              "      <td>0.000000</td>\n",
              "      <td>0.000000</td>\n",
              "      <td>0.000000</td>\n",
              "      <td>0.000000</td>\n",
              "      <td>0.000000</td>\n",
              "      <td>0.000000</td>\n",
              "      <td>3.0</td>\n",
              "      <td>11.0</td>\n",
              "      <td>28.000000</td>\n",
              "      <td>0.000000</td>\n",
              "    </tr>\n",
              "    <tr>\n",
              "      <th>25%</th>\n",
              "      <td>35303.000000</td>\n",
              "      <td>0.000000</td>\n",
              "      <td>0.000000</td>\n",
              "      <td>24.000000</td>\n",
              "      <td>24.000000</td>\n",
              "      <td>2.000000</td>\n",
              "      <td>16.000000</td>\n",
              "      <td>3.000000</td>\n",
              "      <td>1.000000</td>\n",
              "      <td>9.000000</td>\n",
              "      <td>1.000000</td>\n",
              "      <td>2.000000</td>\n",
              "      <td>0.000000</td>\n",
              "      <td>3.000000</td>\n",
              "      <td>3.000000</td>\n",
              "      <td>0.000000</td>\n",
              "      <td>3.0</td>\n",
              "      <td>11.0</td>\n",
              "      <td>47.000000</td>\n",
              "      <td>0.000000</td>\n",
              "    </tr>\n",
              "    <tr>\n",
              "      <th>50%</th>\n",
              "      <td>51381.500000</td>\n",
              "      <td>0.000000</td>\n",
              "      <td>0.000000</td>\n",
              "      <td>49.000000</td>\n",
              "      <td>174.500000</td>\n",
              "      <td>8.000000</td>\n",
              "      <td>68.000000</td>\n",
              "      <td>12.000000</td>\n",
              "      <td>8.000000</td>\n",
              "      <td>24.500000</td>\n",
              "      <td>2.000000</td>\n",
              "      <td>4.000000</td>\n",
              "      <td>2.000000</td>\n",
              "      <td>5.000000</td>\n",
              "      <td>6.000000</td>\n",
              "      <td>0.000000</td>\n",
              "      <td>3.0</td>\n",
              "      <td>11.0</td>\n",
              "      <td>54.000000</td>\n",
              "      <td>0.000000</td>\n",
              "    </tr>\n",
              "    <tr>\n",
              "      <th>75%</th>\n",
              "      <td>68522.000000</td>\n",
              "      <td>1.000000</td>\n",
              "      <td>1.000000</td>\n",
              "      <td>74.000000</td>\n",
              "      <td>505.000000</td>\n",
              "      <td>33.000000</td>\n",
              "      <td>232.250000</td>\n",
              "      <td>50.000000</td>\n",
              "      <td>33.000000</td>\n",
              "      <td>56.000000</td>\n",
              "      <td>3.000000</td>\n",
              "      <td>6.000000</td>\n",
              "      <td>4.000000</td>\n",
              "      <td>8.000000</td>\n",
              "      <td>7.000000</td>\n",
              "      <td>0.000000</td>\n",
              "      <td>3.0</td>\n",
              "      <td>11.0</td>\n",
              "      <td>65.000000</td>\n",
              "      <td>1.000000</td>\n",
              "    </tr>\n",
              "    <tr>\n",
              "      <th>max</th>\n",
              "      <td>666666.000000</td>\n",
              "      <td>2.000000</td>\n",
              "      <td>2.000000</td>\n",
              "      <td>99.000000</td>\n",
              "      <td>1493.000000</td>\n",
              "      <td>199.000000</td>\n",
              "      <td>1725.000000</td>\n",
              "      <td>259.000000</td>\n",
              "      <td>262.000000</td>\n",
              "      <td>321.000000</td>\n",
              "      <td>15.000000</td>\n",
              "      <td>27.000000</td>\n",
              "      <td>28.000000</td>\n",
              "      <td>13.000000</td>\n",
              "      <td>20.000000</td>\n",
              "      <td>1.000000</td>\n",
              "      <td>3.0</td>\n",
              "      <td>11.0</td>\n",
              "      <td>131.000000</td>\n",
              "      <td>5.000000</td>\n",
              "    </tr>\n",
              "  </tbody>\n",
              "</table>\n",
              "</div>\n",
              "    <div class=\"colab-df-buttons\">\n",
              "\n",
              "  <div class=\"colab-df-container\">\n",
              "    <button class=\"colab-df-convert\" onclick=\"convertToInteractive('df-401cb218-73f3-41e5-b26c-0d22c60b7916')\"\n",
              "            title=\"Convert this dataframe to an interactive table.\"\n",
              "            style=\"display:none;\">\n",
              "\n",
              "  <svg xmlns=\"http://www.w3.org/2000/svg\" height=\"24px\" viewBox=\"0 -960 960 960\">\n",
              "    <path d=\"M120-120v-720h720v720H120Zm60-500h600v-160H180v160Zm220 220h160v-160H400v160Zm0 220h160v-160H400v160ZM180-400h160v-160H180v160Zm440 0h160v-160H620v160ZM180-180h160v-160H180v160Zm440 0h160v-160H620v160Z\"/>\n",
              "  </svg>\n",
              "    </button>\n",
              "\n",
              "  <style>\n",
              "    .colab-df-container {\n",
              "      display:flex;\n",
              "      gap: 12px;\n",
              "    }\n",
              "\n",
              "    .colab-df-convert {\n",
              "      background-color: #E8F0FE;\n",
              "      border: none;\n",
              "      border-radius: 50%;\n",
              "      cursor: pointer;\n",
              "      display: none;\n",
              "      fill: #1967D2;\n",
              "      height: 32px;\n",
              "      padding: 0 0 0 0;\n",
              "      width: 32px;\n",
              "    }\n",
              "\n",
              "    .colab-df-convert:hover {\n",
              "      background-color: #E2EBFA;\n",
              "      box-shadow: 0px 1px 2px rgba(60, 64, 67, 0.3), 0px 1px 3px 1px rgba(60, 64, 67, 0.15);\n",
              "      fill: #174EA6;\n",
              "    }\n",
              "\n",
              "    .colab-df-buttons div {\n",
              "      margin-bottom: 4px;\n",
              "    }\n",
              "\n",
              "    [theme=dark] .colab-df-convert {\n",
              "      background-color: #3B4455;\n",
              "      fill: #D2E3FC;\n",
              "    }\n",
              "\n",
              "    [theme=dark] .colab-df-convert:hover {\n",
              "      background-color: #434B5C;\n",
              "      box-shadow: 0px 1px 3px 1px rgba(0, 0, 0, 0.15);\n",
              "      filter: drop-shadow(0px 1px 2px rgba(0, 0, 0, 0.3));\n",
              "      fill: #FFFFFF;\n",
              "    }\n",
              "  </style>\n",
              "\n",
              "    <script>\n",
              "      const buttonEl =\n",
              "        document.querySelector('#df-401cb218-73f3-41e5-b26c-0d22c60b7916 button.colab-df-convert');\n",
              "      buttonEl.style.display =\n",
              "        google.colab.kernel.accessAllowed ? 'block' : 'none';\n",
              "\n",
              "      async function convertToInteractive(key) {\n",
              "        const element = document.querySelector('#df-401cb218-73f3-41e5-b26c-0d22c60b7916');\n",
              "        const dataTable =\n",
              "          await google.colab.kernel.invokeFunction('convertToInteractive',\n",
              "                                                    [key], {});\n",
              "        if (!dataTable) return;\n",
              "\n",
              "        const docLinkHtml = 'Like what you see? Visit the ' +\n",
              "          '<a target=\"_blank\" href=https://colab.research.google.com/notebooks/data_table.ipynb>data table notebook</a>'\n",
              "          + ' to learn more about interactive tables.';\n",
              "        element.innerHTML = '';\n",
              "        dataTable['output_type'] = 'display_data';\n",
              "        await google.colab.output.renderOutput(dataTable, element);\n",
              "        const docLink = document.createElement('div');\n",
              "        docLink.innerHTML = docLinkHtml;\n",
              "        element.appendChild(docLink);\n",
              "      }\n",
              "    </script>\n",
              "  </div>\n",
              "\n",
              "\n",
              "<div id=\"df-37cda029-7a5c-42a5-8ca1-9e5d518d59a4\">\n",
              "  <button class=\"colab-df-quickchart\" onclick=\"quickchart('df-37cda029-7a5c-42a5-8ca1-9e5d518d59a4')\"\n",
              "            title=\"Suggest charts\"\n",
              "            style=\"display:none;\">\n",
              "\n",
              "<svg xmlns=\"http://www.w3.org/2000/svg\" height=\"24px\"viewBox=\"0 0 24 24\"\n",
              "     width=\"24px\">\n",
              "    <g>\n",
              "        <path d=\"M19 3H5c-1.1 0-2 .9-2 2v14c0 1.1.9 2 2 2h14c1.1 0 2-.9 2-2V5c0-1.1-.9-2-2-2zM9 17H7v-7h2v7zm4 0h-2V7h2v10zm4 0h-2v-4h2v4z\"/>\n",
              "    </g>\n",
              "</svg>\n",
              "  </button>\n",
              "\n",
              "<style>\n",
              "  .colab-df-quickchart {\n",
              "      --bg-color: #E8F0FE;\n",
              "      --fill-color: #1967D2;\n",
              "      --hover-bg-color: #E2EBFA;\n",
              "      --hover-fill-color: #174EA6;\n",
              "      --disabled-fill-color: #AAA;\n",
              "      --disabled-bg-color: #DDD;\n",
              "  }\n",
              "\n",
              "  [theme=dark] .colab-df-quickchart {\n",
              "      --bg-color: #3B4455;\n",
              "      --fill-color: #D2E3FC;\n",
              "      --hover-bg-color: #434B5C;\n",
              "      --hover-fill-color: #FFFFFF;\n",
              "      --disabled-bg-color: #3B4455;\n",
              "      --disabled-fill-color: #666;\n",
              "  }\n",
              "\n",
              "  .colab-df-quickchart {\n",
              "    background-color: var(--bg-color);\n",
              "    border: none;\n",
              "    border-radius: 50%;\n",
              "    cursor: pointer;\n",
              "    display: none;\n",
              "    fill: var(--fill-color);\n",
              "    height: 32px;\n",
              "    padding: 0;\n",
              "    width: 32px;\n",
              "  }\n",
              "\n",
              "  .colab-df-quickchart:hover {\n",
              "    background-color: var(--hover-bg-color);\n",
              "    box-shadow: 0 1px 2px rgba(60, 64, 67, 0.3), 0 1px 3px 1px rgba(60, 64, 67, 0.15);\n",
              "    fill: var(--button-hover-fill-color);\n",
              "  }\n",
              "\n",
              "  .colab-df-quickchart-complete:disabled,\n",
              "  .colab-df-quickchart-complete:disabled:hover {\n",
              "    background-color: var(--disabled-bg-color);\n",
              "    fill: var(--disabled-fill-color);\n",
              "    box-shadow: none;\n",
              "  }\n",
              "\n",
              "  .colab-df-spinner {\n",
              "    border: 2px solid var(--fill-color);\n",
              "    border-color: transparent;\n",
              "    border-bottom-color: var(--fill-color);\n",
              "    animation:\n",
              "      spin 1s steps(1) infinite;\n",
              "  }\n",
              "\n",
              "  @keyframes spin {\n",
              "    0% {\n",
              "      border-color: transparent;\n",
              "      border-bottom-color: var(--fill-color);\n",
              "      border-left-color: var(--fill-color);\n",
              "    }\n",
              "    20% {\n",
              "      border-color: transparent;\n",
              "      border-left-color: var(--fill-color);\n",
              "      border-top-color: var(--fill-color);\n",
              "    }\n",
              "    30% {\n",
              "      border-color: transparent;\n",
              "      border-left-color: var(--fill-color);\n",
              "      border-top-color: var(--fill-color);\n",
              "      border-right-color: var(--fill-color);\n",
              "    }\n",
              "    40% {\n",
              "      border-color: transparent;\n",
              "      border-right-color: var(--fill-color);\n",
              "      border-top-color: var(--fill-color);\n",
              "    }\n",
              "    60% {\n",
              "      border-color: transparent;\n",
              "      border-right-color: var(--fill-color);\n",
              "    }\n",
              "    80% {\n",
              "      border-color: transparent;\n",
              "      border-right-color: var(--fill-color);\n",
              "      border-bottom-color: var(--fill-color);\n",
              "    }\n",
              "    90% {\n",
              "      border-color: transparent;\n",
              "      border-bottom-color: var(--fill-color);\n",
              "    }\n",
              "  }\n",
              "</style>\n",
              "\n",
              "  <script>\n",
              "    async function quickchart(key) {\n",
              "      const quickchartButtonEl =\n",
              "        document.querySelector('#' + key + ' button');\n",
              "      quickchartButtonEl.disabled = true;  // To prevent multiple clicks.\n",
              "      quickchartButtonEl.classList.add('colab-df-spinner');\n",
              "      try {\n",
              "        const charts = await google.colab.kernel.invokeFunction(\n",
              "            'suggestCharts', [key], {});\n",
              "      } catch (error) {\n",
              "        console.error('Error during call to suggestCharts:', error);\n",
              "      }\n",
              "      quickchartButtonEl.classList.remove('colab-df-spinner');\n",
              "      quickchartButtonEl.classList.add('colab-df-quickchart-complete');\n",
              "    }\n",
              "    (() => {\n",
              "      let quickchartButtonEl =\n",
              "        document.querySelector('#df-37cda029-7a5c-42a5-8ca1-9e5d518d59a4 button');\n",
              "      quickchartButtonEl.style.display =\n",
              "        google.colab.kernel.accessAllowed ? 'block' : 'none';\n",
              "    })();\n",
              "  </script>\n",
              "</div>\n",
              "\n",
              "    </div>\n",
              "  </div>\n"
            ],
            "application/vnd.google.colaboratory.intrinsic+json": {
              "type": "dataframe",
              "summary": "{\n  \"name\": \"data1\",\n  \"rows\": 8,\n  \"fields\": [\n    {\n      \"column\": \"Income\",\n      \"properties\": {\n        \"dtype\": \"number\",\n        \"std\": 225013.17277492964,\n        \"min\": 1730.0,\n        \"max\": 666666.0,\n        \"num_unique_values\": 8,\n        \"samples\": [\n          52247.25135379061,\n          51381.5,\n          2216.0\n        ],\n        \"semantic_type\": \"\",\n        \"description\": \"\"\n      }\n    },\n    {\n      \"column\": \"Kidhome\",\n      \"properties\": {\n        \"dtype\": \"number\",\n        \"std\": 783.2736535278669,\n        \"min\": 0.0,\n        \"max\": 2216.0,\n        \"num_unique_values\": 6,\n        \"samples\": [\n          2216.0,\n          0.4417870036101083,\n          2.0\n        ],\n        \"semantic_type\": \"\",\n        \"description\": \"\"\n      }\n    },\n    {\n      \"column\": \"Teenhome\",\n      \"properties\": {\n        \"dtype\": \"number\",\n        \"std\": 783.2700706728203,\n        \"min\": 0.0,\n        \"max\": 2216.0,\n        \"num_unique_values\": 6,\n        \"samples\": [\n          2216.0,\n          0.5054151624548736,\n          2.0\n        ],\n        \"semantic_type\": \"\",\n        \"description\": \"\"\n      }\n    },\n    {\n      \"column\": \"Recency\",\n      \"properties\": {\n        \"dtype\": \"number\",\n        \"std\": 767.7169324442599,\n        \"min\": 0.0,\n        \"max\": 2216.0,\n        \"num_unique_values\": 8,\n        \"samples\": [\n          49.01263537906137,\n          49.0,\n          2216.0\n        ],\n        \"semantic_type\": \"\",\n        \"description\": \"\"\n      }\n    },\n    {\n      \"column\": \"MntWines\",\n      \"properties\": {\n        \"dtype\": \"number\",\n        \"std\": 796.2950670338275,\n        \"min\": 0.0,\n        \"max\": 2216.0,\n        \"num_unique_values\": 8,\n        \"samples\": [\n          305.09160649819495,\n          174.5,\n          2216.0\n        ],\n        \"semantic_type\": \"\",\n        \"description\": \"\"\n      }\n    },\n    {\n      \"column\": \"MntFruits\",\n      \"properties\": {\n        \"dtype\": \"number\",\n        \"std\": 770.6468124943447,\n        \"min\": 0.0,\n        \"max\": 2216.0,\n        \"num_unique_values\": 8,\n        \"samples\": [\n          26.356046931407942,\n          8.0,\n          2216.0\n        ],\n        \"semantic_type\": \"\",\n        \"description\": \"\"\n      }\n    },\n    {\n      \"column\": \"MntMeatProducts\",\n      \"properties\": {\n        \"dtype\": \"number\",\n        \"std\": 871.9591007625002,\n        \"min\": 0.0,\n        \"max\": 2216.0,\n        \"num_unique_values\": 8,\n        \"samples\": [\n          166.99593862815885,\n          68.0,\n          2216.0\n        ],\n        \"semantic_type\": \"\",\n        \"description\": \"\"\n      }\n    },\n    {\n      \"column\": \"MntFishProducts\",\n      \"properties\": {\n        \"dtype\": \"number\",\n        \"std\": 767.0555883033977,\n        \"min\": 0.0,\n        \"max\": 2216.0,\n        \"num_unique_values\": 8,\n        \"samples\": [\n          37.63763537906137,\n          12.0,\n          2216.0\n        ],\n        \"semantic_type\": \"\",\n        \"description\": \"\"\n      }\n    },\n    {\n      \"column\": \"MntSweetProducts\",\n      \"properties\": {\n        \"dtype\": \"number\",\n        \"std\": 769.5627861320977,\n        \"min\": 0.0,\n        \"max\": 2216.0,\n        \"num_unique_values\": 8,\n        \"samples\": [\n          27.028880866425993,\n          8.0,\n          2216.0\n        ],\n        \"semantic_type\": \"\",\n        \"description\": \"\"\n      }\n    },\n    {\n      \"column\": \"MntGoldProds\",\n      \"properties\": {\n        \"dtype\": \"number\",\n        \"std\": 764.9258159004095,\n        \"min\": 0.0,\n        \"max\": 2216.0,\n        \"num_unique_values\": 8,\n        \"samples\": [\n          43.96525270758123,\n          24.5,\n          2216.0\n        ],\n        \"semantic_type\": \"\",\n        \"description\": \"\"\n      }\n    },\n    {\n      \"column\": \"NumDealsPurchases\",\n      \"properties\": {\n        \"dtype\": \"number\",\n        \"std\": 782.2134740626261,\n        \"min\": 0.0,\n        \"max\": 2216.0,\n        \"num_unique_values\": 8,\n        \"samples\": [\n          2.3235559566787005,\n          2.0,\n          2216.0\n        ],\n        \"semantic_type\": \"\",\n        \"description\": \"\"\n      }\n    },\n    {\n      \"column\": \"NumWebPurchases\",\n      \"properties\": {\n        \"dtype\": \"number\",\n        \"std\": 781.2062979745576,\n        \"min\": 0.0,\n        \"max\": 2216.0,\n        \"num_unique_values\": 8,\n        \"samples\": [\n          4.08528880866426,\n          4.0,\n          2216.0\n        ],\n        \"semantic_type\": \"\",\n        \"description\": \"\"\n      }\n    },\n    {\n      \"column\": \"NumCatalogPurchases\",\n      \"properties\": {\n        \"dtype\": \"number\",\n        \"std\": 781.5287712354154,\n        \"min\": 0.0,\n        \"max\": 2216.0,\n        \"num_unique_values\": 7,\n        \"samples\": [\n          2216.0,\n          2.671028880866426,\n          4.0\n        ],\n        \"semantic_type\": \"\",\n        \"description\": \"\"\n      }\n    },\n    {\n      \"column\": \"NumStorePurchases\",\n      \"properties\": {\n        \"dtype\": \"number\",\n        \"std\": 781.5619472866687,\n        \"min\": 0.0,\n        \"max\": 2216.0,\n        \"num_unique_values\": 8,\n        \"samples\": [\n          5.800992779783393,\n          5.0,\n          2216.0\n        ],\n        \"semantic_type\": \"\",\n        \"description\": \"\"\n      }\n    },\n    {\n      \"column\": \"NumWebVisitsMonth\",\n      \"properties\": {\n        \"dtype\": \"number\",\n        \"std\": 781.2881834662205,\n        \"min\": 0.0,\n        \"max\": 2216.0,\n        \"num_unique_values\": 8,\n        \"samples\": [\n          5.319043321299639,\n          6.0,\n          2216.0\n        ],\n        \"semantic_type\": \"\",\n        \"description\": \"\"\n      }\n    },\n    {\n      \"column\": \"Complain\",\n      \"properties\": {\n        \"dtype\": \"number\",\n        \"std\": 783.4185088435056,\n        \"min\": 0.0,\n        \"max\": 2216.0,\n        \"num_unique_values\": 5,\n        \"samples\": [\n          0.00947653429602888,\n          1.0,\n          0.09690700384872121\n        ],\n        \"semantic_type\": \"\",\n        \"description\": \"\"\n      }\n    },\n    {\n      \"column\": \"Z_CostContact\",\n      \"properties\": {\n        \"dtype\": \"number\",\n        \"std\": 782.5658803850683,\n        \"min\": 0.0,\n        \"max\": 2216.0,\n        \"num_unique_values\": 3,\n        \"samples\": [\n          2216.0,\n          3.0,\n          0.0\n        ],\n        \"semantic_type\": \"\",\n        \"description\": \"\"\n      }\n    },\n    {\n      \"column\": \"Z_Revenue\",\n      \"properties\": {\n        \"dtype\": \"number\",\n        \"std\": 780.1503060308314,\n        \"min\": 0.0,\n        \"max\": 2216.0,\n        \"num_unique_values\": 3,\n        \"samples\": [\n          2216.0,\n          11.0,\n          0.0\n        ],\n        \"semantic_type\": \"\",\n        \"description\": \"\"\n      }\n    },\n    {\n      \"column\": \"Age\",\n      \"properties\": {\n        \"dtype\": \"number\",\n        \"std\": 764.4628138501477,\n        \"min\": 11.985554097352384,\n        \"max\": 2216.0,\n        \"num_unique_values\": 8,\n        \"samples\": [\n          55.17960288808664,\n          54.0,\n          2216.0\n        ],\n        \"semantic_type\": \"\",\n        \"description\": \"\"\n      }\n    },\n    {\n      \"column\": \"Numcmp\",\n      \"properties\": {\n        \"dtype\": \"number\",\n        \"std\": 783.105297567072,\n        \"min\": 0.0,\n        \"max\": 2216.0,\n        \"num_unique_values\": 6,\n        \"samples\": [\n          2216.0,\n          0.44855595667870035,\n          5.0\n        ],\n        \"semantic_type\": \"\",\n        \"description\": \"\"\n      }\n    }\n  ]\n}"
            }
          },
          "metadata": {},
          "execution_count": 67
        }
      ]
    },
    {
      "cell_type": "code",
      "source": [
        "data1['Kidhome'].value_counts()"
      ],
      "metadata": {
        "colab": {
          "base_uri": "https://localhost:8080/"
        },
        "id": "FO6fOqxPCsyT",
        "outputId": "33aa3a54-a664-4e24-93dd-6de640efd64c"
      },
      "execution_count": null,
      "outputs": [
        {
          "output_type": "execute_result",
          "data": {
            "text/plain": [
              "Kidhome\n",
              "0    1283\n",
              "1     887\n",
              "2      46\n",
              "Name: count, dtype: int64"
            ]
          },
          "metadata": {},
          "execution_count": 70
        }
      ]
    },
    {
      "cell_type": "code",
      "source": [
        "data1['NumChild']= data1['Kidhome']+data1['Teenhome']\n",
        "data1['NumChild']\n",
        "\n",
        "data1['NumChild'].value_counts()"
      ],
      "metadata": {
        "colab": {
          "base_uri": "https://localhost:8080/"
        },
        "id": "z6bGJ_3pDDZ1",
        "outputId": "94b307e3-aa3e-4209-a1f4-1b2d72950aba"
      },
      "execution_count": null,
      "outputs": [
        {
          "output_type": "execute_result",
          "data": {
            "text/plain": [
              "NumChild\n",
              "1    1117\n",
              "0     633\n",
              "2     416\n",
              "3      50\n",
              "Name: count, dtype: int64"
            ]
          },
          "metadata": {},
          "execution_count": 83
        }
      ]
    },
    {
      "cell_type": "code",
      "source": [
        "#Filtrar datos de los que NO tienen hijos\n",
        "data1.loc[data1['NumChild']==0, 'NumChild']"
      ],
      "metadata": {
        "colab": {
          "base_uri": "https://localhost:8080/"
        },
        "id": "Pv9VB_ESFBiS",
        "outputId": "6e14ff4a-d194-4127-cdbe-22706c76461c"
      },
      "execution_count": null,
      "outputs": [
        {
          "output_type": "execute_result",
          "data": {
            "text/plain": [
              "0       0\n",
              "2       0\n",
              "11      0\n",
              "12      0\n",
              "14      0\n",
              "       ..\n",
              "2217    0\n",
              "2221    0\n",
              "2231    0\n",
              "2232    0\n",
              "2237    0\n",
              "Name: NumChild, Length: 633, dtype: int64"
            ]
          },
          "metadata": {},
          "execution_count": 84
        }
      ]
    },
    {
      "cell_type": "code",
      "source": [
        "#Filtro\n",
        "data1.loc[data1['NumChild']==0, 'Tiene Hijos']= \"NO\"\n",
        "data1.loc[data1['NumChild']!=0, 'Tiene Hijos']= \"SI\"\n",
        "\n",
        "data1['Tiene Hijos']\n",
        "\n",
        "#Otra manera de filtrar\n",
        "data1['Tiene Hijos']= np.where(data1['NumChild']==0, \"NO\", \"SI\")"
      ],
      "metadata": {
        "colab": {
          "base_uri": "https://localhost:8080/"
        },
        "id": "zqTZGaqeGL3i",
        "outputId": "95f3b924-99a2-4adc-adc1-3966d63f59a1"
      },
      "execution_count": null,
      "outputs": [
        {
          "output_type": "execute_result",
          "data": {
            "text/plain": [
              "0       NO\n",
              "1       SI\n",
              "2       NO\n",
              "3       SI\n",
              "4       SI\n",
              "        ..\n",
              "2235    SI\n",
              "2236    SI\n",
              "2237    NO\n",
              "2238    SI\n",
              "2239    SI\n",
              "Name: Tiene Hijos, Length: 2216, dtype: object"
            ]
          },
          "metadata": {},
          "execution_count": 89
        }
      ]
    },
    {
      "cell_type": "markdown",
      "source": [
        "# Gráficos\n",
        "\n",
        "\n",
        "## Matplolib\n",
        "\n",
        "Colores, se pueden utilizar los códigos hexagonal de RGB para los colores de nuestros gráficos, por ejemplo #2AA498.\n",
        " [códigos RGB](https://www.rapidtables.org/web/color/RGB_Color.html)"
      ],
      "metadata": {
        "id": "4zBaO6fxlOCZ"
      }
    },
    {
      "cell_type": "markdown",
      "source": [
        "Gráfico de barras"
      ],
      "metadata": {
        "id": "EzMQ5bcJp8pA"
      }
    },
    {
      "cell_type": "code",
      "source": [
        "tabla_frecuencia= datos[\"Marital_Status\"].value_counts( )\n",
        "plt.bar(x=tabla_frecuencia.index,height =tabla_frecuencia, color= \"#C070F6\" )\n",
        "plt.xlabel(\"Estado civil\") # Etiqueta del eje x\n",
        "plt.ylabel(\"Frecuencia\") # Etiqueta del eje y\n",
        "plt.title(\"Frecuencia de estado civil\") # Etiqueta del titulo\n",
        "plt.show()"
      ],
      "metadata": {
        "colab": {
          "base_uri": "https://localhost:8080/",
          "height": 472
        },
        "id": "4spoK6Bqp6Eg",
        "outputId": "f7072c02-f32c-4056-ed0a-5e4f834f9955"
      },
      "execution_count": null,
      "outputs": [
        {
          "output_type": "display_data",
          "data": {
            "text/plain": [
              "<Figure size 640x480 with 1 Axes>"
            ],
            "image/png": "[encoded data removed]"
          },
          "metadata": {}
        }
      ]
    },
    {
      "cell_type": "code",
      "source": [
        "plt.pie(tabla_frecuencia,labels=tabla_frecuencia.index)\n",
        "plt.xlabel(\"Estado civil\")"
      ],
      "metadata": {
        "colab": {
          "base_uri": "https://localhost:8080/",
          "height": 443
        },
        "id": "otQ-Zk3cvXDB",
        "outputId": "5cc8aa07-6472-42ce-a95f-109996f74373"
      },
      "execution_count": null,
      "outputs": [
        {
          "output_type": "execute_result",
          "data": {
            "text/plain": [
              "Text(0.5, 0, 'Estado civil')"
            ]
          },
          "metadata": {},
          "execution_count": 93
        },
        {
          "output_type": "display_data",
          "data": {
            "text/plain": [
              "<Figure size 640x480 with 1 Axes>"
            ],
            "image/png": "[encoded data removed]"
          },
          "metadata": {}
        }
      ]
    },
    {
      "cell_type": "markdown",
      "source": [
        "Histograma"
      ],
      "metadata": {
        "id": "hBmfmKdfqgPz"
      }
    },
    {
      "cell_type": "code",
      "source": [
        "Income_Filtro=datos.loc[datos['Income'] <200000, 'Income']\n",
        "plt.hist([Income_Filtro])\n",
        "plt.show()"
      ],
      "metadata": {
        "colab": {
          "base_uri": "https://localhost:8080/",
          "height": 430
        },
        "id": "F40VRlTYqmE_",
        "outputId": "bb81fb01-6d2b-40b9-fdfe-65c2ce0ac081"
      },
      "execution_count": null,
      "outputs": [
        {
          "output_type": "display_data",
          "data": {
            "text/plain": [
              "<Figure size 640x480 with 1 Axes>"
            ],
            "image/png": "[encoded data removed]"
          },
          "metadata": {}
        }
      ]
    },
    {
      "cell_type": "markdown",
      "source": [
        "Box-plot"
      ],
      "metadata": {
        "id": "6Oy0qc7Iq5F1"
      }
    },
    {
      "cell_type": "code",
      "source": [
        "plt.boxplot(x=datos[\"Income\"].dropna())\n",
        "plt.show()"
      ],
      "metadata": {
        "colab": {
          "base_uri": "https://localhost:8080/",
          "height": 430
        },
        "id": "-x8TXtvvq7Bh",
        "outputId": "b982379b-fc1d-469b-85f8-24a190da54ad"
      },
      "execution_count": null,
      "outputs": [
        {
          "output_type": "display_data",
          "data": {
            "text/plain": [
              "<Figure size 640x480 with 1 Axes>"
            ],
            "image/png": "[encoded data removed]"
          },
          "metadata": {}
        }
      ]
    },
    {
      "cell_type": "code",
      "source": [
        "Income_Filtro=datos.loc[datos['Income'] <200000, ['Income','MntWines']]\n",
        "plt.scatter(x=Income_Filtro[\"Income\"],y=Income_Filtro[\"MntWines\"])\n",
        "plt.xlabel(\"Income\")\n",
        "plt.ylabel(\"MntWines\")\n",
        "plt.title(\"Income vs MntWines\")\n",
        "plt.show()"
      ],
      "metadata": {
        "colab": {
          "base_uri": "https://localhost:8080/",
          "height": 472
        },
        "id": "qXPdBtHYrgvR",
        "outputId": "17618fcd-9eaa-41ba-e27d-3944acb2eeef"
      },
      "execution_count": null,
      "outputs": [
        {
          "output_type": "display_data",
          "data": {
            "text/plain": [
              "<Figure size 640x480 with 1 Axes>"
            ],
            "image/png": "[encoded data removed]"
          },
          "metadata": {}
        }
      ]
    },
    {
      "cell_type": "markdown",
      "source": [
        "# Seaborn\n",
        "\n",
        "Seaborn permite distinguir por categoría en sus gráficos con el argumento hue.\n",
        "\n",
        "Gráfico de barras"
      ],
      "metadata": {
        "id": "BluYMz0Yrydr"
      }
    },
    {
      "cell_type": "code",
      "source": [
        "sns.barplot(data=datos[\"Marital_Status\"].value_counts())"
      ],
      "metadata": {
        "colab": {
          "base_uri": "https://localhost:8080/",
          "height": 467
        },
        "id": "9jn4zFwLr0in",
        "outputId": "bdf7a0a6-667d-40ef-aa0b-b6e08cdb3698"
      },
      "execution_count": null,
      "outputs": [
        {
          "output_type": "execute_result",
          "data": {
            "text/plain": [
              "<Axes: xlabel='Marital_Status', ylabel='count'>"
            ]
          },
          "metadata": {},
          "execution_count": 113
        },
        {
          "output_type": "display_data",
          "data": {
            "text/plain": [
              "<Figure size 640x480 with 1 Axes>"
            ],
            "image/png": "[encoded data removed]"
          },
          "metadata": {}
        }
      ]
    },
    {
      "cell_type": "markdown",
      "source": [
        "Box-plot"
      ],
      "metadata": {
        "id": "OeMaLbeQsKXE"
      }
    },
    {
      "cell_type": "code",
      "source": [
        "sns.boxplot(data=datos,x=\"Marital_Status\", y=\"Income\"  )\n",
        "plt.xlabel(\"Estado civil\") # Etiqueta del eje x\n",
        "plt.ylabel(\"Frecuencia\") # Etiqueta del eje y\n",
        "plt.title(\"Frecuencia de estado civil\") # Etiqueta del titulo\n",
        "plt.show()"
      ],
      "metadata": {
        "colab": {
          "base_uri": "https://localhost:8080/",
          "height": 472
        },
        "id": "t8jAnQgtsMWz",
        "outputId": "2e83240d-722a-44db-aeee-799e1db2e463"
      },
      "execution_count": null,
      "outputs": [
        {
          "output_type": "display_data",
          "data": {
            "text/plain": [
              "<Figure size 640x480 with 1 Axes>"
            ],
            "image/png": "[encoded data removed]"
          },
          "metadata": {}
        }
      ]
    },
    {
      "cell_type": "markdown",
      "source": [
        "Dispersión"
      ],
      "metadata": {
        "id": "0iHb6YJgsZJr"
      }
    },
    {
      "cell_type": "code",
      "source": [
        "sns.scatterplot(data=datos,x=\"Income\",y=\"MntWines\", hue=\"Marital_Status\")"
      ],
      "metadata": {
        "colab": {
          "base_uri": "https://localhost:8080/",
          "height": 466
        },
        "id": "V6KldPhBsYPt",
        "outputId": "baaba314-4df8-4ea0-beb1-4049bf6a1e4b"
      },
      "execution_count": null,
      "outputs": [
        {
          "output_type": "execute_result",
          "data": {
            "text/plain": [
              "<Axes: xlabel='Income', ylabel='MntWines'>"
            ]
          },
          "metadata": {},
          "execution_count": 115
        },
        {
          "output_type": "display_data",
          "data": {
            "text/plain": [
              "<Figure size 640x480 with 1 Axes>"
            ],
            "image/png": "[encoded data removed]"
          },
          "metadata": {}
        }
      ]
    },
    {
      "cell_type": "code",
      "source": [
        "tabla_frecuencia_relacion= datos.groupby('Marital_Status')['Education'].value_counts(normalize=True)\n",
        "sns.barplot(data=tabla_frecuencia_relacion.reset_index(), x='Marital_Status', y='proportion', hue='Education')\n",
        "plt.show()"
      ],
      "metadata": {
        "colab": {
          "base_uri": "https://localhost:8080/",
          "height": 450
        },
        "id": "gc9yHv9Js7Kl",
        "outputId": "9eef9e62-dc0f-423f-bd46-4548f3b96c3a"
      },
      "execution_count": null,
      "outputs": [
        {
          "output_type": "display_data",
          "data": {
            "text/plain": [
              "<Figure size 640x480 with 1 Axes>"
            ],
            "image/png": "[encoded data removed]"
          },
          "metadata": {}
        }
      ]
    },
    {
      "cell_type": "markdown",
      "source": [
        "# Plotly"
      ],
      "metadata": {
        "id": "_Bm911ViuY5F"
      }
    },
    {
      "cell_type": "code",
      "source": [
        "px.bar(datos[\"Marital_Status\"].value_counts(),\n",
        "       labels={\"Marital_Status\":\"Estado civil\",\"value\":\"Frecuencia\"},\n",
        "       title=\"Frecuencia de estado civil\"\n",
        "       )"
      ],
      "metadata": {
        "colab": {
          "base_uri": "https://localhost:8080/",
          "height": 542
        },
        "id": "WBWS1ti9uaqZ",
        "outputId": "62f686ef-1a74-4d24-b1d2-c7807042e0c1"
      },
      "execution_count": null,
      "outputs": [
        {
          "output_type": "display_data",
          "data": {
            "text/html": [
              "<html>\n",
              "<head><meta charset=\"utf-8\" /></head>\n",
              "<body>\n",
              "    <div>            <script src=\"https://cdnjs.cloudflare.com/ajax/libs/mathjax/2.7.5/MathJax.js?config=TeX-AMS-MML_SVG\"></script><script type=\"text/javascript\">if (window.MathJax && window.MathJax.Hub && window.MathJax.Hub.Config) {window.MathJax.Hub.Config({SVG: {font: \"STIX-Web\"}});}</script>                <script type=\"text/javascript\">window.PlotlyConfig = {MathJaxConfig: 'local'};</script>\n",
              "        <script charset=\"utf-8\" src=\"https://cdn.plot.ly/plotly-2.24.1.min.js\"></script>                <div id=\"e89d87b5-c2d1-4c38-ac32-aad0f0ee62a2\" class=\"plotly-graph-div\" style=\"height:525px; width:100%;\"></div>            <script type=\"text/javascript\">                                    window.PLOTLYENV=window.PLOTLYENV || {};                                    if (document.getElementById(\"e89d87b5-c2d1-4c38-ac32-aad0f0ee62a2\")) {                    Plotly.newPlot(                        \"e89d87b5-c2d1-4c38-ac32-aad0f0ee62a2\",                        [{\"alignmentgroup\":\"True\",\"hovertemplate\":\"variable=count\\u003cbr\\u003eEstado civil=%{x}\\u003cbr\\u003eFrecuencia=%{y}\\u003cextra\\u003e\\u003c\\u002fextra\\u003e\",\"legendgroup\":\"count\",\"marker\":{\"color\":\"#636efa\",\"pattern\":{\"shape\":\"\"}},\"name\":\"count\",\"offsetgroup\":\"count\",\"orientation\":\"v\",\"showlegend\":true,\"textposition\":\"auto\",\"x\":[\"Married\",\"Together\",\"Single\",\"Divorced\",\"Widow\",\"Alone\",\"Absurd\",\"YOLO\"],\"xaxis\":\"x\",\"y\":[857,573,471,232,76,3,2,2],\"yaxis\":\"y\",\"type\":\"bar\"}],                        {\"template\":{\"data\":{\"histogram2dcontour\":[{\"type\":\"histogram2dcontour\",\"colorbar\":{\"outlinewidth\":0,\"ticks\":\"\"},\"colorscale\":[[0.0,\"#0d0887\"],[0.1111111111111111,\"#46039f\"],[0.2222222222222222,\"#7201a8\"],[0.3333333333333333,\"#9c179e\"],[0.4444444444444444,\"#bd3786\"],[0.5555555555555556,\"#d8576b\"],[0.6666666666666666,\"#ed7953\"],[0.7777777777777778,\"#fb9f3a\"],[0.8888888888888888,\"#fdca26\"],[1.0,\"#f0f921\"]]}],\"choropleth\":[{\"type\":\"choropleth\",\"colorbar\":{\"outlinewidth\":0,\"ticks\":\"\"}}],\"histogram2d\":[{\"type\":\"histogram2d\",\"colorbar\":{\"outlinewidth\":0,\"ticks\":\"\"},\"colorscale\":[[0.0,\"#0d0887\"],[0.1111111111111111,\"#46039f\"],[0.2222222222222222,\"#7201a8\"],[0.3333333333333333,\"#9c179e\"],[0.4444444444444444,\"#bd3786\"],[0.5555555555555556,\"#d8576b\"],[0.6666666666666666,\"#ed7953\"],[0.7777777777777778,\"#fb9f3a\"],[0.8888888888888888,\"#fdca26\"],[1.0,\"#f0f921\"]]}],\"heatmap\":[{\"type\":\"heatmap\",\"colorbar\":{\"outlinewidth\":0,\"ticks\":\"\"},\"colorscale\":[[0.0,\"#0d0887\"],[0.1111111111111111,\"#46039f\"],[0.2222222222222222,\"#7201a8\"],[0.3333333333333333,\"#9c179e\"],[0.4444444444444444,\"#bd3786\"],[0.5555555555555556,\"#d8576b\"],[0.6666666666666666,\"#ed7953\"],[0.7777777777777778,\"#fb9f3a\"],[0.8888888888888888,\"#fdca26\"],[1.0,\"#f0f921\"]]}],\"heatmapgl\":[{\"type\":\"heatmapgl\",\"colorbar\":{\"outlinewidth\":0,\"ticks\":\"\"},\"colorscale\":[[0.0,\"#0d0887\"],[0.1111111111111111,\"#46039f\"],[0.2222222222222222,\"#7201a8\"],[0.3333333333333333,\"#9c179e\"],[0.4444444444444444,\"#bd3786\"],[0.5555555555555556,\"#d8576b\"],[0.6666666666666666,\"#ed7953\"],[0.7777777777777778,\"#fb9f3a\"],[0.8888888888888888,\"#fdca26\"],[1.0,\"#f0f921\"]]}],\"contourcarpet\":[{\"type\":\"contourcarpet\",\"colorbar\":{\"outlinewidth\":0,\"ticks\":\"\"}}],\"contour\":[{\"type\":\"contour\",\"colorbar\":{\"outlinewidth\":0,\"ticks\":\"\"},\"colorscale\":[[0.0,\"#0d0887\"],[0.1111111111111111,\"#46039f\"],[0.2222222222222222,\"#7201a8\"],[0.3333333333333333,\"#9c179e\"],[0.4444444444444444,\"#bd3786\"],[0.5555555555555556,\"#d8576b\"],[0.6666666666666666,\"#ed7953\"],[0.7777777777777778,\"#fb9f3a\"],[0.8888888888888888,\"#fdca26\"],[1.0,\"#f0f921\"]]}],\"surface\":[{\"type\":\"surface\",\"colorbar\":{\"outlinewidth\":0,\"ticks\":\"\"},\"colorscale\":[[0.0,\"#0d0887\"],[0.1111111111111111,\"#46039f\"],[0.2222222222222222,\"#7201a8\"],[0.3333333333333333,\"#9c179e\"],[0.4444444444444444,\"#bd3786\"],[0.5555555555555556,\"#d8576b\"],[0.6666666666666666,\"#ed7953\"],[0.7777777777777778,\"#fb9f3a\"],[0.8888888888888888,\"#fdca26\"],[1.0,\"#f0f921\"]]}],\"mesh3d\":[{\"type\":\"mesh3d\",\"colorbar\":{\"outlinewidth\":0,\"ticks\":\"\"}}],\"scatter\":[{\"fillpattern\":{\"fillmode\":\"overlay\",\"size\":10,\"solidity\":0.2},\"type\":\"scatter\"}],\"parcoords\":[{\"type\":\"parcoords\",\"line\":{\"colorbar\":{\"outlinewidth\":0,\"ticks\":\"\"}}}],\"scatterpolargl\":[{\"type\":\"scatterpolargl\",\"marker\":{\"colorbar\":{\"outlinewidth\":0,\"ticks\":\"\"}}}],\"bar\":[{\"error_x\":{\"color\":\"#2a3f5f\"},\"error_y\":{\"color\":\"#2a3f5f\"},\"marker\":{\"line\":{\"color\":\"#E5ECF6\",\"width\":0.5},\"pattern\":{\"fillmode\":\"overlay\",\"size\":10,\"solidity\":0.2}},\"type\":\"bar\"}],\"scattergeo\":[{\"type\":\"scattergeo\",\"marker\":{\"colorbar\":{\"outlinewidth\":0,\"ticks\":\"\"}}}],\"scatterpolar\":[{\"type\":\"scatterpolar\",\"marker\":{\"colorbar\":{\"outlinewidth\":0,\"ticks\":\"\"}}}],\"histogram\":[{\"marker\":{\"pattern\":{\"fillmode\":\"overlay\",\"size\":10,\"solidity\":0.2}},\"type\":\"histogram\"}],\"scattergl\":[{\"type\":\"scattergl\",\"marker\":{\"colorbar\":{\"outlinewidth\":0,\"ticks\":\"\"}}}],\"scatter3d\":[{\"type\":\"scatter3d\",\"line\":{\"colorbar\":{\"outlinewidth\":0,\"ticks\":\"\"}},\"marker\":{\"colorbar\":{\"outlinewidth\":0,\"ticks\":\"\"}}}],\"scattermapbox\":[{\"type\":\"scattermapbox\",\"marker\":{\"colorbar\":{\"outlinewidth\":0,\"ticks\":\"\"}}}],\"scatterternary\":[{\"type\":\"scatterternary\",\"marker\":{\"colorbar\":{\"outlinewidth\":0,\"ticks\":\"\"}}}],\"scattercarpet\":[{\"type\":\"scattercarpet\",\"marker\":{\"colorbar\":{\"outlinewidth\":0,\"ticks\":\"\"}}}],\"carpet\":[{\"aaxis\":{\"endlinecolor\":\"#2a3f5f\",\"gridcolor\":\"white\",\"linecolor\":\"white\",\"minorgridcolor\":\"white\",\"startlinecolor\":\"#2a3f5f\"},\"baxis\":{\"endlinecolor\":\"#2a3f5f\",\"gridcolor\":\"white\",\"linecolor\":\"white\",\"minorgridcolor\":\"white\",\"startlinecolor\":\"#2a3f5f\"},\"type\":\"carpet\"}],\"table\":[{\"cells\":{\"fill\":{\"color\":\"#EBF0F8\"},\"line\":{\"color\":\"white\"}},\"header\":{\"fill\":{\"color\":\"#C8D4E3\"},\"line\":{\"color\":\"white\"}},\"type\":\"table\"}],\"barpolar\":[{\"marker\":{\"line\":{\"color\":\"#E5ECF6\",\"width\":0.5},\"pattern\":{\"fillmode\":\"overlay\",\"size\":10,\"solidity\":0.2}},\"type\":\"barpolar\"}],\"pie\":[{\"automargin\":true,\"type\":\"pie\"}]},\"layout\":{\"autotypenumbers\":\"strict\",\"colorway\":[\"#636efa\",\"#EF553B\",\"#00cc96\",\"#ab63fa\",\"#FFA15A\",\"#19d3f3\",\"#FF6692\",\"#B6E880\",\"#FF97FF\",\"#FECB52\"],\"font\":{\"color\":\"#2a3f5f\"},\"hovermode\":\"closest\",\"hoverlabel\":{\"align\":\"left\"},\"paper_bgcolor\":\"white\",\"plot_bgcolor\":\"#E5ECF6\",\"polar\":{\"bgcolor\":\"#E5ECF6\",\"angularaxis\":{\"gridcolor\":\"white\",\"linecolor\":\"white\",\"ticks\":\"\"},\"radialaxis\":{\"gridcolor\":\"white\",\"linecolor\":\"white\",\"ticks\":\"\"}},\"ternary\":{\"bgcolor\":\"#E5ECF6\",\"aaxis\":{\"gridcolor\":\"white\",\"linecolor\":\"white\",\"ticks\":\"\"},\"baxis\":{\"gridcolor\":\"white\",\"linecolor\":\"white\",\"ticks\":\"\"},\"caxis\":{\"gridcolor\":\"white\",\"linecolor\":\"white\",\"ticks\":\"\"}},\"coloraxis\":{\"colorbar\":{\"outlinewidth\":0,\"ticks\":\"\"}},\"colorscale\":{\"sequential\":[[0.0,\"#0d0887\"],[0.1111111111111111,\"#46039f\"],[0.2222222222222222,\"#7201a8\"],[0.3333333333333333,\"#9c179e\"],[0.4444444444444444,\"#bd3786\"],[0.5555555555555556,\"#d8576b\"],[0.6666666666666666,\"#ed7953\"],[0.7777777777777778,\"#fb9f3a\"],[0.8888888888888888,\"#fdca26\"],[1.0,\"#f0f921\"]],\"sequentialminus\":[[0.0,\"#0d0887\"],[0.1111111111111111,\"#46039f\"],[0.2222222222222222,\"#7201a8\"],[0.3333333333333333,\"#9c179e\"],[0.4444444444444444,\"#bd3786\"],[0.5555555555555556,\"#d8576b\"],[0.6666666666666666,\"#ed7953\"],[0.7777777777777778,\"#fb9f3a\"],[0.8888888888888888,\"#fdca26\"],[1.0,\"#f0f921\"]],\"diverging\":[[0,\"#8e0152\"],[0.1,\"#c51b7d\"],[0.2,\"#de77ae\"],[0.3,\"#f1b6da\"],[0.4,\"#fde0ef\"],[0.5,\"#f7f7f7\"],[0.6,\"#e6f5d0\"],[0.7,\"#b8e186\"],[0.8,\"#7fbc41\"],[0.9,\"#4d9221\"],[1,\"#276419\"]]},\"xaxis\":{\"gridcolor\":\"white\",\"linecolor\":\"white\",\"ticks\":\"\",\"title\":{\"standoff\":15},\"zerolinecolor\":\"white\",\"automargin\":true,\"zerolinewidth\":2},\"yaxis\":{\"gridcolor\":\"white\",\"linecolor\":\"white\",\"ticks\":\"\",\"title\":{\"standoff\":15},\"zerolinecolor\":\"white\",\"automargin\":true,\"zerolinewidth\":2},\"scene\":{\"xaxis\":{\"backgroundcolor\":\"#E5ECF6\",\"gridcolor\":\"white\",\"linecolor\":\"white\",\"showbackground\":true,\"ticks\":\"\",\"zerolinecolor\":\"white\",\"gridwidth\":2},\"yaxis\":{\"backgroundcolor\":\"#E5ECF6\",\"gridcolor\":\"white\",\"linecolor\":\"white\",\"showbackground\":true,\"ticks\":\"\",\"zerolinecolor\":\"white\",\"gridwidth\":2},\"zaxis\":{\"backgroundcolor\":\"#E5ECF6\",\"gridcolor\":\"white\",\"linecolor\":\"white\",\"showbackground\":true,\"ticks\":\"\",\"zerolinecolor\":\"white\",\"gridwidth\":2}},\"shapedefaults\":{\"line\":{\"color\":\"#2a3f5f\"}},\"annotationdefaults\":{\"arrowcolor\":\"#2a3f5f\",\"arrowhead\":0,\"arrowwidth\":1},\"geo\":{\"bgcolor\":\"white\",\"landcolor\":\"#E5ECF6\",\"subunitcolor\":\"white\",\"showland\":true,\"showlakes\":true,\"lakecolor\":\"white\"},\"title\":{\"x\":0.05},\"mapbox\":{\"style\":\"light\"}}},\"xaxis\":{\"anchor\":\"y\",\"domain\":[0.0,1.0],\"title\":{\"text\":\"Estado civil\"}},\"yaxis\":{\"anchor\":\"x\",\"domain\":[0.0,1.0],\"title\":{\"text\":\"Frecuencia\"}},\"legend\":{\"title\":{\"text\":\"variable\"},\"tracegroupgap\":0},\"title\":{\"text\":\"Frecuencia de estado civil\"},\"barmode\":\"relative\"},                        {\"responsive\": true}                    ).then(function(){\n",
              "                            \n",
              "var gd = document.getElementById('e89d87b5-c2d1-4c38-ac32-aad0f0ee62a2');\n",
              "var x = new MutationObserver(function (mutations, observer) {{\n",
              "        var display = window.getComputedStyle(gd).display;\n",
              "        if (!display || display === 'none') {{\n",
              "            console.log([gd, 'removed!']);\n",
              "            Plotly.purge(gd);\n",
              "            observer.disconnect();\n",
              "        }}\n",
              "}});\n",
              "\n",
              "// Listen for the removal of the full notebook cells\n",
              "var notebookContainer = gd.closest('#notebook-container');\n",
              "if (notebookContainer) {{\n",
              "    x.observe(notebookContainer, {childList: true});\n",
              "}}\n",
              "\n",
              "// Listen for the clearing of the current output cell\n",
              "var outputEl = gd.closest('.output');\n",
              "if (outputEl) {{\n",
              "    x.observe(outputEl, {childList: true});\n",
              "}}\n",
              "\n",
              "                        })                };                            </script>        </div>\n",
              "</body>\n",
              "</html>"
            ]
          },
          "metadata": {}
        }
      ]
    },
    {
      "cell_type": "code",
      "source": [
        "px.scatter(datos,x=\"Income\",y=\"MntWines\", color=\"Marital_Status\" )"
      ],
      "metadata": {
        "colab": {
          "base_uri": "https://localhost:8080/",
          "height": 542
        },
        "id": "yuCeyNEDulA4",
        "outputId": "622b42ab-1c6b-4bd8-dc78-ab23c16ce40a"
      },
      "execution_count": null,
      "outputs": [
        {
          "output_type": "display_data",
          "data": {
            "text/html": [
              "<html>\n",
              "<head><meta charset=\"utf-8\" /></head>\n",
              "<body>\n",
              "    <div>            <script src=\"https://cdnjs.cloudflare.com/ajax/libs/mathjax/2.7.5/MathJax.js?config=TeX-AMS-MML_SVG\"></script><script type=\"text/javascript\">if (window.MathJax && window.MathJax.Hub && window.MathJax.Hub.Config) {window.MathJax.Hub.Config({SVG: {font: \"STIX-Web\"}});}</script>                <script type=\"text/javascript\">window.PlotlyConfig = {MathJaxConfig: 'local'};</script>\n",
              "        <script charset=\"utf-8\" src=\"https://cdn.plot.ly/plotly-2.24.1.min.js\"></script>                <div id=\"e790f2ac-19a3-4525-8083-ec221d95c107\" class=\"plotly-graph-div\" style=\"height:525px; width:100%;\"></div>            <script type=\"text/javascript\">                                    window.PLOTLYENV=window.PLOTLYENV || {};                                    if (document.getElementById(\"e790f2ac-19a3-4525-8083-ec221d95c107\")) {                    Plotly.newPlot(                        \"e790f2ac-19a3-4525-8083-ec221d95c107\",                        [{\"hovertemplate\":\"Marital_Status=Single\\u003cbr\\u003eIncome=%{x}\\u003cbr\\u003eMntWines=%{y}\\u003cextra\\u003e\\u003c\\u002fextra\\u003e\",\"legendgroup\":\"Single\",\"marker\":{\"color\":\"#636efa\",\"symbol\":\"circle\"},\"mode\":\"markers\",\"name\":\"Single\",\"showlegend\":true,\"x\":[58138.0,46344.0,82800.0,33812.0,18589.0,49389.0,79941.0,35790.0,27938.0,75777.0,61823.0,88194.0,75825.0,29760.0,50388.0,42394.0,47823.0,34554.0,38557.0,68126.0,86037.0,50785.0,32557.0,101970.0,79607.0,92859.0,68352.0,49967.0,60199.0,80317.0,30523.0,66951.0,52074.0,32303.0,46854.0,75922.0,40637.0,18890.0,52195.0,37070.0,15033.0,79761.0,7500.0,60182.0,22804.0,31160.0,29938.0,30899.0,45989.0,18701.0,40737.0,69267.0,31788.0,60714.0,69867.0,68627.0,39747.0,77457.0,70893.0,66503.0,40464.0,29999.0,24072.0,33996.0,68655.0,69759.0,60000.0,38643.0,54803.0,52614.0,29548.0,63810.0,38578.0,46098.0,22585.0,30279.0,30822.0,36143.0,10245.0,74293.0,23442.0,42373.0,55521.0,27213.0,23616.0,46923.0,91065.0,84865.0,30015.0,30279.0,81246.0,57959.0,36230.0,89572.0,66582.0,20518.0,41644.0,32233.0,58308.0,81217.0,60152.0,81169.0,26095.0,73454.0,61839.0,72679.0,28567.0,22944.0,42710.0,39548.0,21474.0,60504.0,54880.0,81741.0,66565.0,47691.0,38593.0,39684.0,69882.0,30081.0,72906.0,21888.0,26877.0,48240.0,35791.0,31632.0,36975.0,84196.0,28769.0,32218.0,83917.0,84574.0,45906.0,98777.0,46734.0,21063.0,59247.0,52614.0,70337.0,65295.0,86857.0,61209.0,34824.0,26518.0,45938.0,90247.0,55250.0,33249.0,45160.0,64108.0,48767.0,71163.0,33697.0,79146.0,31626.0,75127.0,42720.0,40760.0,51124.0,72258.0,71466.0,20587.0,16813.0,46524.0,45183.0,82716.0,72504.0,21359.0,73170.0,22507.0,76412.0,57091.0,48789.0,49494.0,45889.0,56628.0,34176.0,61618.0,55284.0,49980.0,49166.0,60474.0,49514.0,43456.0,19485.0,62450.0,42395.0,86424.0,24762.0,86857.0,46231.0,68092.0,26868.0,55260.0,85072.0,86429.0,78420.0,95529.0,42607.0,74637.0,72354.0,39858.0,74116.0,74293.0,46107.0,64950.0,75127.0,55239.0,64831.0,14906.0,42767.0,53700.0,52597.0,79689.0,64449.0,34824.0,95169.0,36130.0,36736.0,30168.0,20180.0,28647.0,15038.0,91700.0,28071.0,46423.0,8028.0,33168.0,70596.0,72228.0,42000.0,83528.0,50014.0,66294.0,75345.0,24163.0,71691.0,39190.0,38578.0,61825.0,80910.0,76045.0,81698.0,54466.0,98777.0,16269.0,70566.0,48526.0,86358.0,16581.0,25930.0,72903.0,33419.0,26576.0,23091.0,81657.0,90638.0,15056.0,26954.0,22327.0,62000.0,62307.0,42160.0,61559.0,34377.0,8940.0,61284.0,44213.0,25707.0,76624.0,7500.0,47139.0,85485.0,64191.0,38808.0,22804.0,42997.0,48918.0,7500.0,64857.0,27238.0,37774.0,6560.0,90842.0,39660.0,24367.0,33249.0,70515.0,69627.0,62159.0,80695.0,33316.0,75154.0,47025.0,57338.0,35791.0,48904.0,56243.0,41658.0,36864.0,34412.0,57537.0,65704.0,63810.0,38741.0,31907.0,34853.0,73892.0,40304.0,93790.0,34704.0,64857.0,41020.0,60474.0,70379.0,49667.0,46098.0,51766.0,27242.0,87188.0,37697.0,3502.0,74004.0,46098.0,23331.0,9255.0,59235.0,51411.0,30983.0,47958.0,63972.0,82800.0,90638.0,60482.0,52569.0,48432.0,36108.0,51250.0,68655.0,64509.0,33955.0,57100.0,50664.0,58684.0,82014.0,35544.0,72066.0,50729.0,43602.0,33996.0,41473.0,37929.0,15862.0,58350.0,81217.0,49090.0,24336.0,18358.0,18746.0,60230.0,90273.0,38513.0,16653.0,23529.0,75342.0,79146.0,45576.0,31859.0,16014.0,39763.0,36802.0,70596.0,29760.0,20194.0,42473.0,46904.0,48918.0,37697.0,62535.0,36273.0,37070.0,7144.0,18701.0,63159.0,46757.0,72282.0,33316.0,29236.0,25008.0,83257.0,82733.0,58217.0,61825.0,34738.0,44503.0,60200.0,23830.0,62772.0,30298.0,52413.0,69719.0,90933.0,113734.0,22148.0,67384.0,57107.0,36038.0,20180.0,31878.0,91249.0,77598.0,80982.0,64849.0,54998.0,23763.0,36065.0,51141.0,80872.0,61798.0,46998.0,96843.0,40887.0,39062.0,38236.0,31385.0,53201.0,91712.0,94472.0,67506.0,24206.0,33279.0,46423.0,39146.0,68281.0,60689.0,49767.0,83273.0,43020.0,76467.0,55801.0,36927.0,23478.0,42000.0,30828.0,54252.0,82332.0,72217.0,72309.0,20587.0,65333.0,78499.0,59686.0,15253.0,31560.0,91172.0,41967.0,69263.0,26487.0,89616.0,8820.0,43322.0,16185.0,57731.0,35893.0,80617.0,75777.0,57642.0,57967.0,11012.0,44802.0,26816.0],\"xaxis\":\"x\",\"y\":[635,11,1006,4,6,40,123,12,13,712,523,688,1032,64,292,15,53,41,76,1332,490,64,34,722,450,962,614,212,8,536,5,277,59,35,96,265,22,6,12,231,0,415,5,8,14,16,3,24,138,12,11,778,16,216,196,395,80,675,768,91,424,68,9,40,456,452,1048,22,404,789,7,977,38,57,3,10,3,12,4,375,2,67,416,19,4,85,822,1248,25,10,398,430,14,606,789,4,20,138,691,493,325,1288,11,982,1000,619,11,19,252,15,6,458,308,249,747,14,51,19,292,36,400,88,101,389,27,17,10,215,41,10,514,387,305,1000,100,1,327,789,187,365,899,466,4,20,273,1184,664,6,8,948,28,283,4,245,39,203,392,70,26,522,412,2,4,31,219,606,604,12,184,68,840,464,351,191,31,479,5,605,547,104,224,265,88,275,6,515,48,387,6,899,189,852,0,825,494,464,604,770,156,960,315,15,871,375,31,819,203,371,480,7,20,263,492,311,218,4,1285,157,10,154,18,19,4,576,39,68,73,80,347,631,124,530,234,251,918,4,336,68,38,162,160,760,709,12,1000,19,381,23,957,1,6,1067,56,10,35,364,1156,6,4,5,899,87,48,279,62,1,618,95,1,411,10,46,630,420,125,14,4,52,6,556,37,173,67,774,139,2,6,420,231,182,557,79,543,254,143,27,283,347,8,204,52,191,279,977,7,33,9,703,37,1302,29,556,112,265,553,1181,57,60,3,910,34,2,784,57,104,9,448,14,51,268,928,1006,1156,255,85,322,141,342,456,836,100,158,313,479,980,30,1003,239,19,40,21,202,1,493,493,494,1,6,2,520,704,172,5,9,204,245,56,3,3,80,16,347,64,0,93,153,52,34,163,29,231,81,12,965,777,503,79,37,2,536,712,68,162,3,31,502,1,581,6,185,273,1020,6,15,957,159,23,18,23,1324,1193,505,652,154,22,18,144,483,338,172,448,50,23,58,3,280,1276,1017,90,7,10,68,94,995,240,202,433,45,676,367,51,28,124,16,178,830,816,960,2,654,912,89,1,62,162,23,492,2,671,12,56,5,266,158,594,712,580,229,24,853,5],\"yaxis\":\"y\",\"type\":\"scattergl\"},{\"hovertemplate\":\"Marital_Status=Together\\u003cbr\\u003eIncome=%{x}\\u003cbr\\u003eMntWines=%{y}\\u003cextra\\u003e\\u003c\\u002fextra\\u003e\",\"legendgroup\":\"Together\",\"marker\":{\"color\":\"#EF553B\",\"symbol\":\"circle\"},\"mode\":\"markers\",\"name\":\"Together\",\"showlegend\":true,\"x\":[71613.0,26646.0,62513.0,30351.0,5648.0,37760.0,40689.0,38620.0,40548.0,21994.0,41728.0,82384.0,66653.0,70666.0,32474.0,69096.0,74854.0,26326.0,56046.0,38620.0,54178.0,85693.0,24594.0,77298.0,57288.0,30753.0,21918.0,56129.0,71488.0,77376.0,62981.0,65104.0,41883.0,38547.0,46344.0,61010.0,69372.0,55375.0,43482.0,26091.0,33456.0,53537.0,38285.0,24882.0,66973.0,102160.0,29604.0,46097.0,77972.0,46014.0,69508.0,45204.0,77622.0,42011.0,51369.0,34320.0,38590.0,23661.0,64961.0,65176.0,26490.0,75702.0,63342.0,43776.0,22070.0,61905.0,66313.0,77882.0,51369.0,37760.0,65640.0,75278.0,50898.0,32414.0,38361.0,16626.0,29672.0,55951.0,42386.0,58821.0,23976.0,42670.0,28839.0,22010.0,83003.0,83532.0,59292.0,27190.0,46681.0,72025.0,66426.0,43795.0,63381.0,38823.0,90300.0,62499.0,68682.0,15345.0,14515.0,75276.0,30507.0,30351.0,75072.0,19789.0,80134.0,18492.0,10404.0,67309.0,50943.0,66664.0,75261.0,49269.0,56937.0,83151.0,65104.0,78952.0,76005.0,78642.0,67911.0,27203.0,48330.0,50943.0,39665.0,89120.0,44124.0,71367.0,77863.0,57954.0,47352.0,44931.0,57247.0,25315.0,54058.0,43462.0,87771.0,71499.0,52157.0,29298.0,38200.0,64413.0,47472.0,54603.0,40689.0,47821.0,39453.0,26850.0,53863.0,24221.0,33178.0,17459.0,31089.0,62807.0,49618.0,162397.0,70971.0,65488.0,63381.0,76140.0,77632.0,105471.0,66886.0,29103.0,50616.0,61278.0,26490.0,73059.0,56253.0,14661.0,45068.0,41039.0,38946.0,65777.0,77845.0,69476.0,42315.0,13084.0,78468.0,66375.0,58398.0,50272.0,25851.0,89891.0,53593.0,70545.0,62882.0,34941.0,38702.0,83844.0,83443.0,51518.0,75507.0,63855.0,62220.0,67430.0,6835.0,41452.0,74250.0,36283.0,31590.0,17144.0,62847.0,73926.0,91820.0,65968.0,87771.0,16529.0,56575.0,25130.0,34026.0,81205.0,30843.0,37758.0,23228.0,44602.0,38683.0,57906.0,53172.0,30545.0,70123.0,21675.0,61346.0,80812.0,17117.0,82072.0,51195.0,64090.0,66825.0,57100.0,58917.0,47889.0,75114.0,73113.0,46015.0,83033.0,24401.0,79632.0,32892.0,71796.0,56067.0,94384.0,39771.0,27922.0,52190.0,46106.0,41021.0,54753.0,44010.0,40706.0,80573.0,82576.0,53103.0,42021.0,75437.0,26091.0,22434.0,83844.0,77568.0,49187.0,34053.0,54165.0,28440.0,64504.0,33564.0,68316.0,74538.0,68695.0,37334.0,76081.0,34728.0,35196.0,28764.0,67605.0,65196.0,32892.0,70713.0,59925.0,46610.0,88347.0,26907.0,40479.0,84460.0,43776.0,71367.0,27590.0,53187.0,71819.0,22634.0,46931.0,85606.0,49669.0,56129.0,21255.0,42162.0,54450.0,68142.0,83145.0,56715.0,54450.0,80685.0,35322.0,23724.0,48070.0,31497.0,66636.0,40451.0,36317.0,42213.0,65748.0,77044.0,74918.0,33629.0,68682.0,38197.0,28427.0,37395.0,55249.0,84906.0,66000.0,27683.0,40521.0,20427.0,76653.0,73450.0,19656.0,78687.0,39767.0,60033.0,34043.0,57811.0,157733.0,94384.0,60894.0,50200.0,59868.0,45143.0,74805.0,47009.0,37235.0,46692.0,77382.0,71604.0,71853.0,50127.0,62061.0,76542.0,18227.0,58554.0,52203.0,50523.0,57420.0,54342.0,26907.0,44964.0,75507.0,22682.0,38887.0,47352.0,22634.0,51315.0,34578.0,54132.0,20491.0,33402.0,21645.0,82657.0,70038.0,69401.0,46053.0,32727.0,68695.0,26290.0,57957.0,46015.0,16531.0,83844.0,67419.0,39898.0,62807.0,19414.0,75484.0,79419.0,64014.0,49854.0,87679.0,57867.0,53374.0,71706.0,53253.0,46772.0,53977.0,20981.0,69930.0,28087.0,19740.0,53083.0,31928.0,74881.0,42386.0,76081.0,47175.0,75315.0,38201.0,45203.0,81574.0,34633.0,78093.0,45903.0,40442.0,31497.0,13724.0,45143.0,17144.0,44512.0,28359.0,51717.0,66664.0,54414.0,19444.0,36301.0,73059.0,42731.0,22775.0,46681.0,30560.0,35924.0,56386.0,24594.0,75774.0,157146.0,36634.0,50334.0,34916.0,86610.0,20193.0,70440.0,38232.0,56534.0,42033.0,55012.0,9722.0,58656.0,52117.0,41154.0,35196.0,44392.0,42586.0,74881.0,46910.0,82427.0,55761.0,37292.0,70321.0,28389.0,63342.0,59481.0,71853.0,85431.0,42586.0,39435.0,71232.0,34600.0,36075.0,60839.0,77298.0,34026.0,82122.0,34074.0,63404.0,75774.0,78416.0,75702.0,59385.0,53977.0,37758.0,63207.0,21840.0,58582.0,32583.0,62568.0,52513.0,78394.0,22669.0,44911.0,48186.0,41580.0,32313.0,68148.0,65735.0,22280.0,64260.0,21024.0,54006.0,32889.0,30538.0,82326.0,69702.0,76532.0,88420.0,24882.0,59292.0,33235.0,92556.0,80573.0,34230.0,34984.0,28320.0,39898.0,72335.0,29478.0,74485.0,64474.0,77226.0,85738.0,34600.0,21994.0,13672.0,56559.0,65814.0,96876.0,27943.0,30261.0,28587.0,29672.0,49912.0,7500.0,55914.0,60905.0,61416.0,48794.0,38361.0,70038.0,42554.0,34350.0,54591.0,22390.0,71322.0,49912.0,80144.0,67911.0,44953.0,34587.0,43018.0,66476.0,69805.0,37509.0,25176.0,50116.0,84906.0,65220.0,33590.0,29732.0,41275.0,63516.0,30560.0,34176.0,62994.0,47320.0,60934.0,38946.0,65487.0,55593.0,32144.0,14918.0,88325.0,36807.0,28427.0,22775.0,40101.0,7500.0,58554.0,666666.0,64014.0,69245.0],\"xaxis\":\"x\",\"y\":[426,11,520,14,28,84,270,112,110,9,13,984,452,398,10,247,856,1,577,112,135,386,1,425,527,12,1,320,162,492,796,738,32,6,233,888,997,42,18,15,7,81,2,1,466,763,7,72,613,410,824,30,520,131,297,4,3,18,382,960,45,650,918,177,10,167,625,68,297,84,204,304,285,20,39,8,9,1241,65,513,14,154,24,11,856,755,378,1,269,833,1043,314,571,70,594,140,919,5,6,610,65,14,583,2,966,2,2,515,31,398,1239,639,746,407,738,1170,983,1396,529,13,28,31,127,1168,284,227,881,456,172,78,99,1,198,90,1492,465,189,6,12,200,56,145,270,9,46,31,399,8,12,6,31,526,80,85,1001,603,571,586,1200,1009,315,16,30,111,45,410,509,4,14,34,116,565,760,260,67,2,434,712,299,99,9,412,349,138,509,39,13,901,518,350,709,359,799,595,107,13,680,6,6,18,521,627,410,376,1492,3,421,2,18,724,24,27,13,167,46,243,121,4,1308,4,562,769,12,889,230,316,243,181,151,29,571,741,38,812,73,471,26,354,517,1111,6,11,42,30,14,197,186,59,829,1206,729,393,795,15,4,901,1230,81,63,127,38,986,61,806,380,458,26,292,14,75,8,336,743,26,736,473,288,1050,9,5,152,8,227,6,211,1224,2,41,717,166,320,29,46,454,897,777,258,454,241,28,5,373,108,291,35,87,309,172,625,972,132,919,23,18,18,97,997,244,152,12,5,736,1142,25,817,113,62,20,545,39,1111,606,266,771,202,209,171,20,170,491,345,358,274,641,794,1,368,488,51,280,84,9,19,709,10,25,172,2,68,7,30,5,26,14,966,587,399,56,167,458,15,290,38,2,901,846,69,526,2,378,751,406,123,1259,344,896,931,216,350,620,2,252,53,7,215,33,505,65,292,167,459,233,35,1252,8,368,33,45,108,2,202,18,23,6,98,398,109,16,11,410,159,5,269,9,8,230,1,340,1,213,284,51,446,8,690,43,691,11,582,6,962,112,44,75,87,194,505,48,482,136,275,303,1,918,178,358,376,194,71,653,199,46,600,425,18,734,135,734,340,453,1073,135,620,27,438,17,402,5,362,367,298,16,159,97,56,86,389,239,2,539,36,174,28,284,938,664,355,957,1,378,45,493,829,15,8,19,69,1285,8,499,381,631,913,199,9,6,226,561,908,12,8,22,9,520,5,384,208,848,25,39,587,29,16,376,0,121,520,240,529,728,7,35,742,750,37,4,54,997,890,4,25,24,141,9,11,224,200,224,116,240,293,41,3,519,4,18,5,171,2,368,9,406,428],\"yaxis\":\"y\",\"type\":\"scattergl\"},{\"hovertemplate\":\"Marital_Status=Married\\u003cbr\\u003eIncome=%{x}\\u003cbr\\u003eMntWines=%{y}\\u003cextra\\u003e\\u003c\\u002fextra\\u003e\",\"legendgroup\":\"Married\",\"marker\":{\"color\":\"#00cc96\",\"symbol\":\"circle\"},\"mode\":\"markers\",\"name\":\"Married\",\"showlegend\":true,\"x\":[58293.0,33454.0,7500.0,17323.0,41850.0,76995.0,37040.0,2447.0,58607.0,65324.0,53359.0,38360.0,84618.0,68657.0,67353.0,23718.0,80011.0,20559.0,7500.0,7500.0,72550.0,79143.0,66373.0,55954.0,25721.0,66991.0,65031.0,60631.0,28332.0,75251.0,26304.0,23559.0,29440.0,36138.0,79593.0,23626.0,30096.0,78497.0,50150.0,65846.0,87195.0,49096.0,52413.0,89058.0,43974.0,90765.0,36550.0,19510.0,54348.0,62998.0,73448.0,41551.0,33762.0,86111.0,59809.0,23957.0,35688.0,49605.0,59354.0,65747.0,70356.0,23228.0,157243.0,28718.0,50447.0,80427.0,83837.0,38853.0,78497.0,51650.0,16248.0,66835.0,30477.0,28249.0,25271.0,61286.0,74068.0,45759.0,38872.0,51148.0,31353.0,69661.0,80067.0,86718.0,44794.0,44377.0,70951.0,41443.0,83790.0,72460.0,30732.0,79930.0,62745.0,22212.0,73687.0,61074.0,31686.0,80134.0,75027.0,67546.0,44159.0,37717.0,38179.0,80124.0,38097.0,72940.0,29315.0,24480.0,44319.0,30631.0,82497.0,46377.0,80950.0,64100.0,22574.0,54198.0,40321.0,30833.0,64795.0,34421.0,62187.0,27255.0,54432.0,66334.0,35178.0,30675.0,55212.0,44300.0,33181.0,71113.0,71952.0,72099.0,50737.0,68462.0,65073.0,78618.0,28442.0,37717.0,51479.0,79530.0,35684.0,48178.0,33581.0,19986.0,35688.0,51012.0,70777.0,43824.0,48006.0,50437.0,53858.0,66465.0,75865.0,49505.0,37401.0,30096.0,82584.0,93027.0,48686.0,92910.0,75433.0,61314.0,42387.0,75236.0,32011.0,7500.0,28691.0,56223.0,18100.0,20130.0,24027.0,55707.0,56796.0,70829.0,65991.0,38988.0,42207.0,50300.0,60597.0,80124.0,33183.0,53790.0,61456.0,37406.0,38415.0,62503.0,55842.0,62010.0,41124.0,38961.0,43057.0,60093.0,14045.0,65275.0,24279.0,64355.0,65665.0,34935.0,48920.0,36443.0,80184.0,42691.0,70503.0,25545.0,32880.0,50353.0,49154.0,65316.0,84169.0,24683.0,47850.0,19514.0,27159.0,22419.0,81698.0,79908.0,15315.0,33039.0,62466.0,44989.0,38443.0,36959.0,61996.0,51287.0,13260.0,45207.0,27450.0,61794.0,92163.0,59973.0,42169.0,26224.0,61467.0,30801.0,81168.0,18978.0,22574.0,45837.0,30522.0,54456.0,72635.0,13624.0,69084.0,62466.0,56181.0,73691.0,46463.0,78710.0,67445.0,19986.0,25965.0,18690.0,29187.0,54690.0,59304.0,77353.0,26751.0,81300.0,36145.0,160803.0,61923.0,71427.0,71952.0,35178.0,25252.0,76618.0,74806.0,59111.0,18988.0,72190.0,7500.0,44794.0,80395.0,56962.0,66373.0,72025.0,67432.0,17487.0,82224.0,17003.0,63564.0,80952.0,58512.0,40662.0,38829.0,35523.0,78285.0,48726.0,74985.0,46891.0,62058.0,72063.0,78939.0,33622.0,30467.0,20425.0,43783.0,82017.0,51267.0,70421.0,19329.0,61872.0,34838.0,48192.0,49681.0,56850.0,55267.0,59666.0,26872.0,52750.0,30772.0,65685.0,25804.0,22063.0,22419.0,93404.0,35441.0,71391.0,40049.0,19419.0,82504.0,15072.0,65324.0,82347.0,46374.0,38576.0,55357.0,85710.0,7500.0,39922.0,35797.0,51111.0,42243.0,31814.0,76630.0,37087.0,81320.0,45921.0,35641.0,62820.0,84169.0,34469.0,77583.0,68397.0,25443.0,67536.0,51563.0,57937.0,16927.0,59754.0,59041.0,40233.0,50183.0,92955.0,33471.0,34596.0,84219.0,15716.0,83715.0,56962.0,35704.0,80763.0,65352.0,82170.0,75759.0,24884.0,52845.0,56337.0,36930.0,65569.0,19514.0,38196.0,59412.0,70924.0,32300.0,34961.0,17345.0,56320.0,31056.0,79593.0,37126.0,47703.0,61180.0,38998.0,33585.0,77037.0,44529.0,70924.0,69098.0,27100.0,42557.0,53312.0,62845.0,65526.0,16860.0,67023.0,39722.0,87171.0,41014.0,36715.0,79456.0,54233.0,85844.0,57236.0,56775.0,54210.0,38508.0,30023.0,50870.0,15315.0,65463.0,66480.0,33569.0,36262.0,47025.0,31605.0,46734.0,67381.0,42693.0,36778.0,49678.0,37155.0,57744.0,7500.0,54197.0,46049.0,79410.0,57304.0,44375.0,59594.0,40344.0,62710.0,48985.0,77142.0,14421.0,20130.0,74214.0,66726.0,47353.0,33444.0,54386.0,43140.0,44393.0,45894.0,43641.0,46891.0,70091.0,78075.0,54809.0,58113.0,51412.0,50965.0,84618.0,18351.0,56721.0,26228.0,40211.0,75032.0,22518.0,54730.0,38452.0,64722.0,28691.0,59062.0,65106.0,69969.0,67433.0,77766.0,74716.0,55158.0,62972.0,74190.0,39356.0,31454.0,53378.0,45579.0,55956.0,57183.0,66303.0,37368.0,40800.0,46149.0,37633.0,26997.0,57091.0,46831.0,83151.0,52531.0,15759.0,43050.0,78569.0,23148.0,71626.0,81051.0,65169.0,65695.0,59060.0,46094.0,40321.0,81843.0,18393.0,72828.0,24711.0,45503.0,27244.0,48752.0,71434.0,88097.0,51948.0,35876.0,43263.0,62845.0,18929.0,26887.0,50150.0,69139.0,69109.0,38136.0,17256.0,37971.0,67267.0,56242.0,21355.0,20895.0,92344.0,53761.0,29791.0,63915.0,51039.0,60544.0,65685.0,37716.0,44511.0,36947.0,67087.0,57045.0,69389.0,80134.0,43142.0,80589.0,36026.0,24639.0,18690.0,28164.0,34596.0,43269.0,27100.0,92533.0,31086.0,60544.0,42523.0,39922.0,36408.0,51876.0,78041.0,52852.0,77343.0,38410.0,28072.0,50725.0,41145.0,23162.0,34380.0,94871.0,65148.0,59892.0,57072.0,19107.0,76998.0,60585.0,35765.0,65492.0,68487.0,42014.0,54108.0,63206.0,57136.0,78931.0,84219.0,73538.0,79529.0,55759.0,33039.0,37787.0,37401.0,58597.0,57036.0,69283.0,23331.0,71969.0,65819.0,30390.0,37284.0,76800.0,63943.0,67445.0,37054.0,39922.0,49681.0,24645.0,44322.0,55517.0,75283.0,38998.0,27161.0,42014.0,34935.0,61482.0,34968.0,75794.0,74268.0,76445.0,36663.0,53843.0,90226.0,27116.0,54072.0,71855.0,60432.0,65526.0,12393.0,31353.0,55434.0,69139.0,52973.0,18793.0,54549.0,52854.0,59821.0,69755.0,44078.0,58494.0,22448.0,62670.0,63246.0,36732.0,69084.0,77766.0,80141.0,72635.0,69016.0,27573.0,49544.0,33228.0,22554.0,23536.0,49413.0,42231.0,18169.0,18222.0,86580.0,61064.0,38452.0,38175.0,64813.0,54222.0,83512.0,77520.0,80398.0,22108.0,55424.0,17688.0,92491.0,71107.0,18690.0,77437.0,54984.0,42403.0,81795.0,66835.0,80360.0,44989.0,41120.0,38725.0,77981.0,62905.0,72117.0,21955.0,67131.0,28249.0,47808.0,51012.0,42664.0,28973.0,65370.0,64590.0,49094.0,28520.0,44689.0,90369.0,79734.0,50387.0,63967.0,25293.0,80739.0,54693.0,54809.0,80336.0,47743.0,62972.0,86836.0,4023.0,30093.0,57705.0,72159.0,70116.0,69063.0,70886.0,69109.0,72905.0,70643.0,30396.0,44155.0,42081.0,67546.0,31158.0,45759.0,73395.0,45688.0,62820.0,60491.0,35701.0,31535.0,77870.0,18929.0,70932.0,22701.0,55212.0,70617.0,62694.0,61917.0,67472.0,21059.0,29543.0,75903.0,34242.0,25410.0,73356.0,72570.0,34529.0,63211.0,83891.0,56939.0,70053.0,44359.0,40794.0,54690.0,4428.0,32632.0,36781.0,24570.0,94642.0,58646.0,57113.0,51373.0,23477.0,58116.0,39791.0,96547.0,79205.0,32644.0,22979.0,30368.0,63684.0,34445.0,37284.0,36790.0,43815.0,48195.0,77027.0,71322.0,32765.0,67225.0,17649.0,40059.0,75330.0,38680.0,29009.0,45057.0,37150.0,53154.0,65308.0,81044.0,32871.0,59462.0,67445.0,42192.0,77610.0,31761.0,71866.0,25293.0,69520.0,27889.0,27803.0,51651.0,68487.0,56796.0,87000.0,79823.0,34109.0,48699.0,81929.0,76068.0,53204.0,14796.0,78128.0,14188.0,20425.0,58646.0,48150.0,45736.0,27733.0,43586.0,53230.0,61286.0,82333.0,156924.0,16005.0,58692.0,35788.0,23539.0,42769.0,49572.0,69209.0,17148.0,32146.0,58482.0,60896.0,90000.0,71965.0,65210.0,79174.0,52914.0,26067.0,44325.0,42523.0,53233.0,67716.0,76234.0,84117.0,25224.0,27469.0,82347.0,73803.0,50501.0,37085.0,73807.0,18929.0,61014.0,5305.0,58025.0,33562.0,63777.0,24434.0,34421.0,61223.0,52869.0],\"xaxis\":\"x\",\"y\":[173,76,6,3,53,1012,86,1,867,384,173,36,684,482,702,6,421,13,3,3,826,650,328,447,1,496,258,565,14,721,4,25,17,130,350,27,5,207,135,562,217,144,295,454,378,547,47,9,70,120,236,220,53,399,598,2,73,42,295,346,1349,53,20,12,85,1149,847,29,207,152,12,620,47,1,10,356,783,42,23,235,10,656,519,344,54,224,239,171,1076,377,155,792,562,5,559,789,11,1218,925,864,167,9,38,483,77,182,13,4,26,15,777,37,525,509,25,185,44,11,412,3,792,22,33,909,23,10,1103,30,9,495,656,546,78,561,629,736,19,9,247,333,10,159,11,3,73,102,554,96,23,370,407,1200,483,604,19,5,1076,1285,10,551,800,378,235,438,99,1,5,77,3,0,14,208,656,141,507,164,116,143,522,483,7,335,563,2,22,478,451,371,281,19,213,502,11,388,16,1047,225,34,238,65,1035,179,1379,32,8,141,206,112,1478,8,42,14,17,30,179,557,7,30,129,98,32,25,1050,117,9,203,37,264,817,130,19,4,410,8,410,2,25,215,179,352,390,10,1181,129,121,707,163,721,757,3,2,6,26,111,418,275,1,1004,56,55,92,212,656,23,1,749,670,524,6,597,7,54,445,292,328,967,432,0,307,2,769,778,895,40,76,11,647,138,587,43,301,180,794,39,1,4,327,184,183,479,24,330,28,1039,411,34,161,623,3,393,7,642,8,7,30,1279,25,336,91,2,362,8,384,556,408,34,374,600,0,29,27,22,48,35,255,194,183,102,63,398,1478,19,372,760,1,1253,1166,261,20,115,69,80,97,693,43,14,434,16,318,292,30,674,284,1023,1394,3,384,349,223,397,14,30,90,635,13,45,4,201,5,350,45,359,403,34,30,463,538,635,1315,12,192,241,1099,397,10,444,32,1001,7,172,565,652,938,105,614,70,120,11,53,7,391,199,16,88,508,74,110,815,8,29,229,23,350,5,162,342,658,356,213,457,210,441,19,476,0,0,863,349,184,8,277,134,24,27,57,43,964,572,63,221,140,544,684,1,157,2,51,952,11,318,56,303,5,46,790,882,615,1004,133,293,313,151,15,28,489,145,760,464,1090,3,24,254,13,7,462,22,968,283,1,30,558,4,546,1142,1074,371,35,12,44,779,7,1205,10,97,6,73,711,163,82,66,262,1099,32,6,135,86,823,8,6,5,134,689,5,18,992,158,14,622,100,201,642,97,513,88,329,296,422,1218,5,507,20,20,6,3,14,10,12,693,16,201,14,29,9,99,482,714,227,153,30,443,9,8,72,169,460,73,944,2,1449,267,22,247,758,244,539,750,306,331,434,811,423,675,30,40,19,490,1171,674,5,1000,267,10,11,173,423,757,12,29,411,5,46,483,733,34,7,244,34,48,158,754,199,739,18,378,1083,12,35,548,365,397,5,10,238,86,856,4,216,105,629,217,24,298,3,539,593,21,1181,1004,1184,390,726,50,308,22,27,6,205,24,9,12,532,387,56,70,293,199,1060,940,342,5,462,2,979,533,6,560,173,22,324,620,1493,98,24,31,138,166,707,5,465,1,123,102,21,206,71,920,376,11,18,292,572,369,387,15,674,686,63,209,198,313,179,5,2,383,322,707,666,407,823,407,1218,15,22,175,864,25,42,272,279,398,637,21,15,1017,32,200,2,1103,353,379,46,162,8,17,340,8,2,1050,274,68,145,217,256,512,20,261,111,16,63,29,28,879,62,182,83,38,228,85,448,504,239,16,35,575,228,11,3,14,106,820,753,13,315,15,110,555,11,6,37,167,129,713,450,22,724,757,40,1245,19,184,15,627,14,8,293,758,656,196,835,9,26,1486,1115,29,13,934,2,4,62,173,188,0,99,176,356,1311,2,1,301,23,4,71,35,496,9,26,576,1013,675,572,626,1074,254,22,516,14,28,530,519,611,4,9,556,833,297,39,366,32,269,12,270,21,457,3,3,709,84],\"yaxis\":\"y\",\"type\":\"scattergl\"},{\"hovertemplate\":\"Marital_Status=Divorced\\u003cbr\\u003eIncome=%{x}\\u003cbr\\u003eMntWines=%{y}\\u003cextra\\u003e\\u003c\\u002fextra\\u003e\",\"legendgroup\":\"Divorced\",\"marker\":{\"color\":\"#ab63fa\",\"symbol\":\"circle\"},\"mode\":\"markers\",\"name\":\"Divorced\",\"showlegend\":true,\"x\":[55635.0,63033.0,59354.0,10979.0,46610.0,48948.0,82582.0,70287.0,40246.0,81361.0,51813.0,30992.0,9548.0,36921.0,74165.0,62551.0,52332.0,36640.0,69142.0,63693.0,48721.0,64497.0,63887.0,51537.0,81975.0,102692.0,15287.0,69674.0,33378.0,63841.0,35416.0,35388.0,57912.0,35246.0,12571.0,47025.0,64325.0,14849.0,62204.0,75693.0,41411.0,82623.0,84835.0,31615.0,83664.0,31395.0,65808.0,67272.0,23295.0,42618.0,37760.0,78825.0,46310.0,55614.0,59432.0,55563.0,61250.0,30630.0,76982.0,48799.0,23910.0,26150.0,34487.0,46102.0,63120.0,62859.0,55282.0,49431.0,153924.0,68118.0,68743.0,66476.0,50611.0,78901.0,71022.0,41335.0,35682.0,43185.0,87305.0,58710.0,75012.0,35946.0,45072.0,89694.0,42564.0,40780.0,60161.0,78353.0,37859.0,55412.0,81702.0,42835.0,36627.0,48948.0,78331.0,21846.0,54137.0,60554.0,82025.0,68274.0,67893.0,44051.0,54237.0,70647.0,59052.0,4861.0,33462.0,63693.0,85683.0,64587.0,46086.0,32173.0,25959.0,35860.0,64176.0,22304.0,79803.0,83829.0,76773.0,52034.0,39552.0,63998.0,85696.0,10979.0,21282.0,28510.0,54959.0,78579.0,58401.0,63841.0,15287.0,77297.0,44421.0,41986.0,1730.0,68118.0,35860.0,90687.0,83829.0,23748.0,71847.0,49118.0,33986.0,44267.0,85696.0,53034.0,59601.0,41335.0,50611.0,46390.0,39996.0,26759.0,63841.0,36957.0,31163.0,70844.0,43300.0,49476.0,42873.0,32952.0,31163.0,51983.0,57530.0,31859.0,27215.0,70179.0,79865.0,82460.0,81361.0,35860.0,70638.0,41003.0,50002.0,64140.0,39228.0,57136.0,64892.0,78789.0,61787.0,62335.0,41437.0,37244.0,70044.0,58086.0,69901.0,13533.0,25509.0,72071.0,44635.0,57333.0,27071.0,74290.0,11448.0,26642.0,69932.0,49638.0,70300.0,50616.0,86979.0,61671.0,49160.0,29819.0,48877.0,55686.0,25509.0,72968.0,28420.0,41638.0,68805.0,71964.0,22263.0,23272.0,71128.0,70179.0,64713.0,53367.0,72967.0,25818.0,30992.0,62637.0,29435.0,19346.0,36997.0,41713.0,72071.0,65706.0,81380.0,40851.0,45146.0,41769.0,38054.0,56981.0],\"xaxis\":\"x\",\"y\":[235,194,233,8,96,437,510,295,2,163,51,17,0,17,1001,125,212,15,448,587,81,1170,897,787,983,168,1,554,33,635,248,6,801,36,3,16,731,21,317,797,37,204,189,2,866,23,155,357,0,76,26,483,185,504,317,29,382,27,464,174,16,5,19,14,965,1063,125,219,1,595,1132,372,459,321,909,112,23,537,345,440,294,8,144,1126,324,229,584,752,22,10,563,379,9,437,756,7,171,588,267,135,711,79,267,561,230,2,22,587,1296,66,244,18,4,15,1215,3,574,897,516,146,165,176,714,8,1,44,1148,816,10,635,1,408,110,27,1,595,15,982,897,6,737,620,16,183,714,160,691,112,459,95,11,25,635,100,2,129,91,386,209,38,2,631,50,3,30,532,71,255,163,15,1016,123,443,1459,7,267,527,667,621,243,29,18,1073,708,312,12,40,531,56,941,8,1121,0,13,412,18,1045,128,584,641,122,9,102,673,40,1092,4,315,182,587,17,19,958,532,180,229,158,5,17,104,70,2,43,77,531,918,741,23,33,302,23,908],\"yaxis\":\"y\",\"type\":\"scattergl\"},{\"hovertemplate\":\"Marital_Status=Widow\\u003cbr\\u003eIncome=%{x}\\u003cbr\\u003eMntWines=%{y}\\u003cextra\\u003e\\u003c\\u002fextra\\u003e\",\"legendgroup\":\"Widow\",\"marker\":{\"color\":\"#FFA15A\",\"symbol\":\"circle\"},\"mode\":\"markers\",\"name\":\"Widow\",\"showlegend\":true,\"x\":[42429.0,65486.0,67680.0,47916.0,44551.0,73455.0,79946.0,27038.0,30372.0,62187.0,27421.0,51529.0,70165.0,50520.0,31880.0,28457.0,53653.0,47682.0,43638.0,85620.0,79800.0,42429.0,45006.0,54162.0,72298.0,58330.0,66731.0,47570.0,58330.0,46984.0,80995.0,51390.0,45684.0,52278.0,46779.0,35340.0,78028.0,63285.0,57513.0,67369.0,59184.0,33438.0,40049.0,78427.0,64866.0,82032.0,67786.0,66033.0,47111.0,56551.0,34213.0,25358.0,73705.0,82571.0,51569.0,30372.0,54111.0,84953.0,60208.0,33051.0,52278.0,54356.0,70792.0,76842.0,56551.0,71670.0,72643.0,68117.0,76320.0,67046.0,22123.0,58275.0,40590.0,40590.0,74859.0,82032.0],\"xaxis\":\"x\",\"y\":[55,245,546,505,182,901,395,1,15,512,43,400,161,112,4,24,815,162,63,416,1060,55,162,5,625,445,371,67,445,19,860,205,5,953,12,27,158,508,735,1298,341,62,13,972,508,332,431,293,595,67,50,19,612,861,380,15,267,167,488,100,953,710,344,605,67,1462,526,618,526,544,3,189,154,154,570,332],\"yaxis\":\"y\",\"type\":\"scattergl\"},{\"hovertemplate\":\"Marital_Status=Alone\\u003cbr\\u003eIncome=%{x}\\u003cbr\\u003eMntWines=%{y}\\u003cextra\\u003e\\u003c\\u002fextra\\u003e\",\"legendgroup\":\"Alone\",\"marker\":{\"color\":\"#19d3f3\",\"symbol\":\"circle\"},\"mode\":\"markers\",\"name\":\"Alone\",\"showlegend\":true,\"x\":[61331.0,35860.0,34176.0],\"xaxis\":\"x\",\"y\":[534,15,5],\"yaxis\":\"y\",\"type\":\"scattergl\"},{\"hovertemplate\":\"Marital_Status=Absurd\\u003cbr\\u003eIncome=%{x}\\u003cbr\\u003eMntWines=%{y}\\u003cextra\\u003e\\u003c\\u002fextra\\u003e\",\"legendgroup\":\"Absurd\",\"marker\":{\"color\":\"#FF6692\",\"symbol\":\"circle\"},\"mode\":\"markers\",\"name\":\"Absurd\",\"showlegend\":true,\"x\":[79244.0,65487.0],\"xaxis\":\"x\",\"y\":[471,240],\"yaxis\":\"y\",\"type\":\"scattergl\"},{\"hovertemplate\":\"Marital_Status=YOLO\\u003cbr\\u003eIncome=%{x}\\u003cbr\\u003eMntWines=%{y}\\u003cextra\\u003e\\u003c\\u002fextra\\u003e\",\"legendgroup\":\"YOLO\",\"marker\":{\"color\":\"#B6E880\",\"symbol\":\"circle\"},\"mode\":\"markers\",\"name\":\"YOLO\",\"showlegend\":true,\"x\":[48432.0,48432.0],\"xaxis\":\"x\",\"y\":[322,322],\"yaxis\":\"y\",\"type\":\"scattergl\"}],                        {\"template\":{\"data\":{\"histogram2dcontour\":[{\"type\":\"histogram2dcontour\",\"colorbar\":{\"outlinewidth\":0,\"ticks\":\"\"},\"colorscale\":[[0.0,\"#0d0887\"],[0.1111111111111111,\"#46039f\"],[0.2222222222222222,\"#7201a8\"],[0.3333333333333333,\"#9c179e\"],[0.4444444444444444,\"#bd3786\"],[0.5555555555555556,\"#d8576b\"],[0.6666666666666666,\"#ed7953\"],[0.7777777777777778,\"#fb9f3a\"],[0.8888888888888888,\"#fdca26\"],[1.0,\"#f0f921\"]]}],\"choropleth\":[{\"type\":\"choropleth\",\"colorbar\":{\"outlinewidth\":0,\"ticks\":\"\"}}],\"histogram2d\":[{\"type\":\"histogram2d\",\"colorbar\":{\"outlinewidth\":0,\"ticks\":\"\"},\"colorscale\":[[0.0,\"#0d0887\"],[0.1111111111111111,\"#46039f\"],[0.2222222222222222,\"#7201a8\"],[0.3333333333333333,\"#9c179e\"],[0.4444444444444444,\"#bd3786\"],[0.5555555555555556,\"#d8576b\"],[0.6666666666666666,\"#ed7953\"],[0.7777777777777778,\"#fb9f3a\"],[0.8888888888888888,\"#fdca26\"],[1.0,\"#f0f921\"]]}],\"heatmap\":[{\"type\":\"heatmap\",\"colorbar\":{\"outlinewidth\":0,\"ticks\":\"\"},\"colorscale\":[[0.0,\"#0d0887\"],[0.1111111111111111,\"#46039f\"],[0.2222222222222222,\"#7201a8\"],[0.3333333333333333,\"#9c179e\"],[0.4444444444444444,\"#bd3786\"],[0.5555555555555556,\"#d8576b\"],[0.6666666666666666,\"#ed7953\"],[0.7777777777777778,\"#fb9f3a\"],[0.8888888888888888,\"#fdca26\"],[1.0,\"#f0f921\"]]}],\"heatmapgl\":[{\"type\":\"heatmapgl\",\"colorbar\":{\"outlinewidth\":0,\"ticks\":\"\"},\"colorscale\":[[0.0,\"#0d0887\"],[0.1111111111111111,\"#46039f\"],[0.2222222222222222,\"#7201a8\"],[0.3333333333333333,\"#9c179e\"],[0.4444444444444444,\"#bd3786\"],[0.5555555555555556,\"#d8576b\"],[0.6666666666666666,\"#ed7953\"],[0.7777777777777778,\"#fb9f3a\"],[0.8888888888888888,\"#fdca26\"],[1.0,\"#f0f921\"]]}],\"contourcarpet\":[{\"type\":\"contourcarpet\",\"colorbar\":{\"outlinewidth\":0,\"ticks\":\"\"}}],\"contour\":[{\"type\":\"contour\",\"colorbar\":{\"outlinewidth\":0,\"ticks\":\"\"},\"colorscale\":[[0.0,\"#0d0887\"],[0.1111111111111111,\"#46039f\"],[0.2222222222222222,\"#7201a8\"],[0.3333333333333333,\"#9c179e\"],[0.4444444444444444,\"#bd3786\"],[0.5555555555555556,\"#d8576b\"],[0.6666666666666666,\"#ed7953\"],[0.7777777777777778,\"#fb9f3a\"],[0.8888888888888888,\"#fdca26\"],[1.0,\"#f0f921\"]]}],\"surface\":[{\"type\":\"surface\",\"colorbar\":{\"outlinewidth\":0,\"ticks\":\"\"},\"colorscale\":[[0.0,\"#0d0887\"],[0.1111111111111111,\"#46039f\"],[0.2222222222222222,\"#7201a8\"],[0.3333333333333333,\"#9c179e\"],[0.4444444444444444,\"#bd3786\"],[0.5555555555555556,\"#d8576b\"],[0.6666666666666666,\"#ed7953\"],[0.7777777777777778,\"#fb9f3a\"],[0.8888888888888888,\"#fdca26\"],[1.0,\"#f0f921\"]]}],\"mesh3d\":[{\"type\":\"mesh3d\",\"colorbar\":{\"outlinewidth\":0,\"ticks\":\"\"}}],\"scatter\":[{\"fillpattern\":{\"fillmode\":\"overlay\",\"size\":10,\"solidity\":0.2},\"type\":\"scatter\"}],\"parcoords\":[{\"type\":\"parcoords\",\"line\":{\"colorbar\":{\"outlinewidth\":0,\"ticks\":\"\"}}}],\"scatterpolargl\":[{\"type\":\"scatterpolargl\",\"marker\":{\"colorbar\":{\"outlinewidth\":0,\"ticks\":\"\"}}}],\"bar\":[{\"error_x\":{\"color\":\"#2a3f5f\"},\"error_y\":{\"color\":\"#2a3f5f\"},\"marker\":{\"line\":{\"color\":\"#E5ECF6\",\"width\":0.5},\"pattern\":{\"fillmode\":\"overlay\",\"size\":10,\"solidity\":0.2}},\"type\":\"bar\"}],\"scattergeo\":[{\"type\":\"scattergeo\",\"marker\":{\"colorbar\":{\"outlinewidth\":0,\"ticks\":\"\"}}}],\"scatterpolar\":[{\"type\":\"scatterpolar\",\"marker\":{\"colorbar\":{\"outlinewidth\":0,\"ticks\":\"\"}}}],\"histogram\":[{\"marker\":{\"pattern\":{\"fillmode\":\"overlay\",\"size\":10,\"solidity\":0.2}},\"type\":\"histogram\"}],\"scattergl\":[{\"type\":\"scattergl\",\"marker\":{\"colorbar\":{\"outlinewidth\":0,\"ticks\":\"\"}}}],\"scatter3d\":[{\"type\":\"scatter3d\",\"line\":{\"colorbar\":{\"outlinewidth\":0,\"ticks\":\"\"}},\"marker\":{\"colorbar\":{\"outlinewidth\":0,\"ticks\":\"\"}}}],\"scattermapbox\":[{\"type\":\"scattermapbox\",\"marker\":{\"colorbar\":{\"outlinewidth\":0,\"ticks\":\"\"}}}],\"scatterternary\":[{\"type\":\"scatterternary\",\"marker\":{\"colorbar\":{\"outlinewidth\":0,\"ticks\":\"\"}}}],\"scattercarpet\":[{\"type\":\"scattercarpet\",\"marker\":{\"colorbar\":{\"outlinewidth\":0,\"ticks\":\"\"}}}],\"carpet\":[{\"aaxis\":{\"endlinecolor\":\"#2a3f5f\",\"gridcolor\":\"white\",\"linecolor\":\"white\",\"minorgridcolor\":\"white\",\"startlinecolor\":\"#2a3f5f\"},\"baxis\":{\"endlinecolor\":\"#2a3f5f\",\"gridcolor\":\"white\",\"linecolor\":\"white\",\"minorgridcolor\":\"white\",\"startlinecolor\":\"#2a3f5f\"},\"type\":\"carpet\"}],\"table\":[{\"cells\":{\"fill\":{\"color\":\"#EBF0F8\"},\"line\":{\"color\":\"white\"}},\"header\":{\"fill\":{\"color\":\"#C8D4E3\"},\"line\":{\"color\":\"white\"}},\"type\":\"table\"}],\"barpolar\":[{\"marker\":{\"line\":{\"color\":\"#E5ECF6\",\"width\":0.5},\"pattern\":{\"fillmode\":\"overlay\",\"size\":10,\"solidity\":0.2}},\"type\":\"barpolar\"}],\"pie\":[{\"automargin\":true,\"type\":\"pie\"}]},\"layout\":{\"autotypenumbers\":\"strict\",\"colorway\":[\"#636efa\",\"#EF553B\",\"#00cc96\",\"#ab63fa\",\"#FFA15A\",\"#19d3f3\",\"#FF6692\",\"#B6E880\",\"#FF97FF\",\"#FECB52\"],\"font\":{\"color\":\"#2a3f5f\"},\"hovermode\":\"closest\",\"hoverlabel\":{\"align\":\"left\"},\"paper_bgcolor\":\"white\",\"plot_bgcolor\":\"#E5ECF6\",\"polar\":{\"bgcolor\":\"#E5ECF6\",\"angularaxis\":{\"gridcolor\":\"white\",\"linecolor\":\"white\",\"ticks\":\"\"},\"radialaxis\":{\"gridcolor\":\"white\",\"linecolor\":\"white\",\"ticks\":\"\"}},\"ternary\":{\"bgcolor\":\"#E5ECF6\",\"aaxis\":{\"gridcolor\":\"white\",\"linecolor\":\"white\",\"ticks\":\"\"},\"baxis\":{\"gridcolor\":\"white\",\"linecolor\":\"white\",\"ticks\":\"\"},\"caxis\":{\"gridcolor\":\"white\",\"linecolor\":\"white\",\"ticks\":\"\"}},\"coloraxis\":{\"colorbar\":{\"outlinewidth\":0,\"ticks\":\"\"}},\"colorscale\":{\"sequential\":[[0.0,\"#0d0887\"],[0.1111111111111111,\"#46039f\"],[0.2222222222222222,\"#7201a8\"],[0.3333333333333333,\"#9c179e\"],[0.4444444444444444,\"#bd3786\"],[0.5555555555555556,\"#d8576b\"],[0.6666666666666666,\"#ed7953\"],[0.7777777777777778,\"#fb9f3a\"],[0.8888888888888888,\"#fdca26\"],[1.0,\"#f0f921\"]],\"sequentialminus\":[[0.0,\"#0d0887\"],[0.1111111111111111,\"#46039f\"],[0.2222222222222222,\"#7201a8\"],[0.3333333333333333,\"#9c179e\"],[0.4444444444444444,\"#bd3786\"],[0.5555555555555556,\"#d8576b\"],[0.6666666666666666,\"#ed7953\"],[0.7777777777777778,\"#fb9f3a\"],[0.8888888888888888,\"#fdca26\"],[1.0,\"#f0f921\"]],\"diverging\":[[0,\"#8e0152\"],[0.1,\"#c51b7d\"],[0.2,\"#de77ae\"],[0.3,\"#f1b6da\"],[0.4,\"#fde0ef\"],[0.5,\"#f7f7f7\"],[0.6,\"#e6f5d0\"],[0.7,\"#b8e186\"],[0.8,\"#7fbc41\"],[0.9,\"#4d9221\"],[1,\"#276419\"]]},\"xaxis\":{\"gridcolor\":\"white\",\"linecolor\":\"white\",\"ticks\":\"\",\"title\":{\"standoff\":15},\"zerolinecolor\":\"white\",\"automargin\":true,\"zerolinewidth\":2},\"yaxis\":{\"gridcolor\":\"white\",\"linecolor\":\"white\",\"ticks\":\"\",\"title\":{\"standoff\":15},\"zerolinecolor\":\"white\",\"automargin\":true,\"zerolinewidth\":2},\"scene\":{\"xaxis\":{\"backgroundcolor\":\"#E5ECF6\",\"gridcolor\":\"white\",\"linecolor\":\"white\",\"showbackground\":true,\"ticks\":\"\",\"zerolinecolor\":\"white\",\"gridwidth\":2},\"yaxis\":{\"backgroundcolor\":\"#E5ECF6\",\"gridcolor\":\"white\",\"linecolor\":\"white\",\"showbackground\":true,\"ticks\":\"\",\"zerolinecolor\":\"white\",\"gridwidth\":2},\"zaxis\":{\"backgroundcolor\":\"#E5ECF6\",\"gridcolor\":\"white\",\"linecolor\":\"white\",\"showbackground\":true,\"ticks\":\"\",\"zerolinecolor\":\"white\",\"gridwidth\":2}},\"shapedefaults\":{\"line\":{\"color\":\"#2a3f5f\"}},\"annotationdefaults\":{\"arrowcolor\":\"#2a3f5f\",\"arrowhead\":0,\"arrowwidth\":1},\"geo\":{\"bgcolor\":\"white\",\"landcolor\":\"#E5ECF6\",\"subunitcolor\":\"white\",\"showland\":true,\"showlakes\":true,\"lakecolor\":\"white\"},\"title\":{\"x\":0.05},\"mapbox\":{\"style\":\"light\"}}},\"xaxis\":{\"anchor\":\"y\",\"domain\":[0.0,1.0],\"title\":{\"text\":\"Income\"}},\"yaxis\":{\"anchor\":\"x\",\"domain\":[0.0,1.0],\"title\":{\"text\":\"MntWines\"}},\"legend\":{\"title\":{\"text\":\"Marital_Status\"},\"tracegroupgap\":0},\"margin\":{\"t\":60}},                        {\"responsive\": true}                    ).then(function(){\n",
              "                            \n",
              "var gd = document.getElementById('e790f2ac-19a3-4525-8083-ec221d95c107');\n",
              "var x = new MutationObserver(function (mutations, observer) {{\n",
              "        var display = window.getComputedStyle(gd).display;\n",
              "        if (!display || display === 'none') {{\n",
              "            console.log([gd, 'removed!']);\n",
              "            Plotly.purge(gd);\n",
              "            observer.disconnect();\n",
              "        }}\n",
              "}});\n",
              "\n",
              "// Listen for the removal of the full notebook cells\n",
              "var notebookContainer = gd.closest('#notebook-container');\n",
              "if (notebookContainer) {{\n",
              "    x.observe(notebookContainer, {childList: true});\n",
              "}}\n",
              "\n",
              "// Listen for the clearing of the current output cell\n",
              "var outputEl = gd.closest('.output');\n",
              "if (outputEl) {{\n",
              "    x.observe(outputEl, {childList: true});\n",
              "}}\n",
              "\n",
              "                        })                };                            </script>        </div>\n",
              "</body>\n",
              "</html>"
            ]
          },
          "metadata": {}
        }
      ]
    },
    {
      "cell_type": "code",
      "source": [
        "px.box(datos,y=\"Income\", color=\"Marital_Status\" )"
      ],
      "metadata": {
        "colab": {
          "base_uri": "https://localhost:8080/",
          "height": 542
        },
        "id": "iPCWIi6wu6gm",
        "outputId": "4404b3d6-19d2-4544-c16a-5070138419cc"
      },
      "execution_count": null,
      "outputs": [
        {
          "output_type": "display_data",
          "data": {
            "text/html": [
              "<html>\n",
              "<head><meta charset=\"utf-8\" /></head>\n",
              "<body>\n",
              "    <div>            <script src=\"https://cdnjs.cloudflare.com/ajax/libs/mathjax/2.7.5/MathJax.js?config=TeX-AMS-MML_SVG\"></script><script type=\"text/javascript\">if (window.MathJax && window.MathJax.Hub && window.MathJax.Hub.Config) {window.MathJax.Hub.Config({SVG: {font: \"STIX-Web\"}});}</script>                <script type=\"text/javascript\">window.PlotlyConfig = {MathJaxConfig: 'local'};</script>\n",
              "        <script charset=\"utf-8\" src=\"https://cdn.plot.ly/plotly-2.24.1.min.js\"></script>                <div id=\"1bb69473-fed0-4b17-8fa8-518032094874\" class=\"plotly-graph-div\" style=\"height:525px; width:100%;\"></div>            <script type=\"text/javascript\">                                    window.PLOTLYENV=window.PLOTLYENV || {};                                    if (document.getElementById(\"1bb69473-fed0-4b17-8fa8-518032094874\")) {                    Plotly.newPlot(                        \"1bb69473-fed0-4b17-8fa8-518032094874\",                        [{\"alignmentgroup\":\"True\",\"hovertemplate\":\"Marital_Status=Single\\u003cbr\\u003eIncome=%{y}\\u003cextra\\u003e\\u003c\\u002fextra\\u003e\",\"legendgroup\":\"Single\",\"marker\":{\"color\":\"#636efa\"},\"name\":\"Single\",\"notched\":false,\"offsetgroup\":\"Single\",\"orientation\":\"v\",\"showlegend\":true,\"x0\":\" \",\"xaxis\":\"x\",\"y\":[58138.0,46344.0,82800.0,33812.0,18589.0,49389.0,79941.0,35790.0,27938.0,75777.0,61823.0,88194.0,75825.0,29760.0,50388.0,42394.0,47823.0,34554.0,38557.0,68126.0,86037.0,50785.0,32557.0,101970.0,79607.0,92859.0,68352.0,49967.0,60199.0,80317.0,30523.0,66951.0,52074.0,32303.0,46854.0,75922.0,40637.0,18890.0,52195.0,37070.0,15033.0,79761.0,7500.0,60182.0,22804.0,31160.0,29938.0,30899.0,45989.0,18701.0,40737.0,69267.0,31788.0,60714.0,69867.0,68627.0,39747.0,77457.0,70893.0,66503.0,40464.0,29999.0,24072.0,33996.0,68655.0,69759.0,60000.0,38643.0,54803.0,52614.0,29548.0,63810.0,38578.0,46098.0,22585.0,30279.0,30822.0,36143.0,10245.0,74293.0,23442.0,42373.0,55521.0,27213.0,23616.0,46923.0,91065.0,84865.0,30015.0,30279.0,81246.0,57959.0,36230.0,89572.0,66582.0,20518.0,41644.0,32233.0,58308.0,81217.0,60152.0,81169.0,26095.0,73454.0,61839.0,72679.0,28567.0,22944.0,42710.0,39548.0,21474.0,60504.0,54880.0,81741.0,66565.0,47691.0,38593.0,39684.0,69882.0,30081.0,72906.0,21888.0,26877.0,48240.0,35791.0,31632.0,36975.0,84196.0,28769.0,32218.0,83917.0,84574.0,45906.0,98777.0,46734.0,21063.0,59247.0,52614.0,70337.0,65295.0,86857.0,61209.0,34824.0,26518.0,45938.0,90247.0,55250.0,33249.0,45160.0,64108.0,48767.0,71163.0,33697.0,79146.0,31626.0,75127.0,42720.0,40760.0,51124.0,72258.0,71466.0,20587.0,16813.0,46524.0,45183.0,82716.0,72504.0,21359.0,73170.0,22507.0,76412.0,57091.0,48789.0,49494.0,45889.0,56628.0,34176.0,61618.0,55284.0,49980.0,49166.0,60474.0,49514.0,43456.0,19485.0,62450.0,42395.0,86424.0,24762.0,86857.0,46231.0,68092.0,26868.0,55260.0,85072.0,86429.0,78420.0,95529.0,42607.0,74637.0,72354.0,39858.0,74116.0,74293.0,46107.0,64950.0,75127.0,55239.0,64831.0,14906.0,42767.0,53700.0,52597.0,79689.0,64449.0,34824.0,95169.0,36130.0,36736.0,30168.0,20180.0,28647.0,15038.0,91700.0,28071.0,46423.0,8028.0,33168.0,70596.0,72228.0,42000.0,83528.0,50014.0,66294.0,75345.0,24163.0,71691.0,39190.0,38578.0,61825.0,80910.0,76045.0,81698.0,54466.0,98777.0,16269.0,70566.0,48526.0,86358.0,16581.0,25930.0,72903.0,33419.0,26576.0,23091.0,81657.0,90638.0,15056.0,26954.0,22327.0,62000.0,62307.0,42160.0,61559.0,34377.0,8940.0,61284.0,44213.0,25707.0,76624.0,7500.0,47139.0,85485.0,64191.0,38808.0,22804.0,42997.0,48918.0,7500.0,64857.0,27238.0,37774.0,6560.0,90842.0,39660.0,24367.0,33249.0,70515.0,69627.0,62159.0,80695.0,33316.0,75154.0,47025.0,57338.0,35791.0,48904.0,56243.0,41658.0,36864.0,34412.0,57537.0,65704.0,63810.0,38741.0,31907.0,34853.0,73892.0,40304.0,93790.0,34704.0,64857.0,41020.0,60474.0,70379.0,49667.0,46098.0,51766.0,27242.0,87188.0,37697.0,3502.0,74004.0,46098.0,23331.0,9255.0,59235.0,51411.0,30983.0,47958.0,63972.0,82800.0,90638.0,60482.0,52569.0,48432.0,36108.0,51250.0,68655.0,64509.0,33955.0,57100.0,50664.0,58684.0,82014.0,35544.0,72066.0,50729.0,43602.0,33996.0,41473.0,37929.0,15862.0,58350.0,81217.0,49090.0,24336.0,18358.0,18746.0,60230.0,90273.0,38513.0,16653.0,23529.0,75342.0,79146.0,45576.0,31859.0,16014.0,39763.0,36802.0,70596.0,29760.0,20194.0,42473.0,46904.0,48918.0,37697.0,62535.0,36273.0,37070.0,7144.0,18701.0,63159.0,46757.0,72282.0,33316.0,29236.0,25008.0,83257.0,82733.0,58217.0,61825.0,34738.0,44503.0,60200.0,23830.0,62772.0,30298.0,52413.0,69719.0,90933.0,113734.0,22148.0,67384.0,57107.0,36038.0,20180.0,31878.0,91249.0,77598.0,80982.0,64849.0,54998.0,23763.0,36065.0,51141.0,80872.0,61798.0,46998.0,96843.0,40887.0,39062.0,38236.0,31385.0,53201.0,91712.0,94472.0,67506.0,24206.0,33279.0,46423.0,39146.0,68281.0,60689.0,49767.0,83273.0,43020.0,76467.0,55801.0,36927.0,23478.0,42000.0,30828.0,54252.0,82332.0,72217.0,72309.0,20587.0,65333.0,78499.0,59686.0,15253.0,31560.0,91172.0,41967.0,69263.0,26487.0,89616.0,8820.0,43322.0,16185.0,57731.0,35893.0,80617.0,75777.0,57642.0,57967.0,11012.0,44802.0,26816.0],\"y0\":\" \",\"yaxis\":\"y\",\"type\":\"box\"},{\"alignmentgroup\":\"True\",\"hovertemplate\":\"Marital_Status=Together\\u003cbr\\u003eIncome=%{y}\\u003cextra\\u003e\\u003c\\u002fextra\\u003e\",\"legendgroup\":\"Together\",\"marker\":{\"color\":\"#EF553B\"},\"name\":\"Together\",\"notched\":false,\"offsetgroup\":\"Together\",\"orientation\":\"v\",\"showlegend\":true,\"x0\":\" \",\"xaxis\":\"x\",\"y\":[71613.0,26646.0,62513.0,30351.0,5648.0,37760.0,40689.0,38620.0,40548.0,21994.0,41728.0,82384.0,66653.0,70666.0,32474.0,69096.0,74854.0,26326.0,56046.0,38620.0,54178.0,85693.0,24594.0,77298.0,57288.0,30753.0,21918.0,56129.0,71488.0,77376.0,62981.0,65104.0,41883.0,38547.0,46344.0,61010.0,69372.0,55375.0,43482.0,26091.0,33456.0,53537.0,38285.0,24882.0,66973.0,102160.0,29604.0,46097.0,77972.0,46014.0,69508.0,45204.0,77622.0,42011.0,51369.0,34320.0,38590.0,23661.0,64961.0,65176.0,26490.0,75702.0,63342.0,43776.0,22070.0,61905.0,66313.0,77882.0,51369.0,37760.0,65640.0,75278.0,50898.0,32414.0,38361.0,16626.0,29672.0,55951.0,42386.0,58821.0,23976.0,42670.0,28839.0,22010.0,83003.0,83532.0,59292.0,27190.0,46681.0,72025.0,66426.0,43795.0,63381.0,38823.0,90300.0,62499.0,68682.0,15345.0,14515.0,75276.0,30507.0,30351.0,75072.0,19789.0,80134.0,18492.0,10404.0,67309.0,50943.0,66664.0,75261.0,49269.0,56937.0,83151.0,65104.0,78952.0,76005.0,78642.0,67911.0,27203.0,48330.0,50943.0,39665.0,89120.0,44124.0,71367.0,77863.0,57954.0,47352.0,44931.0,57247.0,25315.0,54058.0,43462.0,87771.0,71499.0,52157.0,29298.0,38200.0,64413.0,47472.0,54603.0,40689.0,47821.0,39453.0,26850.0,53863.0,24221.0,33178.0,17459.0,31089.0,62807.0,49618.0,162397.0,70971.0,65488.0,63381.0,76140.0,77632.0,105471.0,66886.0,29103.0,50616.0,61278.0,26490.0,73059.0,56253.0,14661.0,45068.0,41039.0,38946.0,65777.0,77845.0,69476.0,42315.0,13084.0,78468.0,66375.0,58398.0,50272.0,25851.0,89891.0,53593.0,70545.0,62882.0,34941.0,38702.0,83844.0,83443.0,51518.0,75507.0,63855.0,62220.0,67430.0,6835.0,41452.0,74250.0,36283.0,31590.0,17144.0,62847.0,73926.0,91820.0,65968.0,87771.0,16529.0,56575.0,25130.0,34026.0,81205.0,30843.0,37758.0,23228.0,44602.0,38683.0,57906.0,53172.0,30545.0,70123.0,21675.0,61346.0,80812.0,17117.0,82072.0,51195.0,64090.0,66825.0,57100.0,58917.0,47889.0,75114.0,73113.0,46015.0,83033.0,24401.0,79632.0,32892.0,71796.0,56067.0,94384.0,39771.0,27922.0,52190.0,46106.0,41021.0,54753.0,44010.0,40706.0,80573.0,82576.0,53103.0,42021.0,75437.0,26091.0,22434.0,83844.0,77568.0,49187.0,34053.0,54165.0,28440.0,64504.0,33564.0,68316.0,74538.0,68695.0,37334.0,76081.0,34728.0,35196.0,28764.0,67605.0,65196.0,32892.0,70713.0,59925.0,46610.0,88347.0,26907.0,40479.0,84460.0,43776.0,71367.0,27590.0,53187.0,71819.0,22634.0,46931.0,85606.0,49669.0,56129.0,21255.0,42162.0,54450.0,68142.0,83145.0,56715.0,54450.0,80685.0,35322.0,23724.0,48070.0,31497.0,66636.0,40451.0,36317.0,42213.0,65748.0,77044.0,74918.0,33629.0,68682.0,38197.0,28427.0,37395.0,55249.0,84906.0,66000.0,27683.0,40521.0,20427.0,76653.0,73450.0,19656.0,78687.0,39767.0,60033.0,34043.0,57811.0,157733.0,94384.0,60894.0,50200.0,59868.0,45143.0,74805.0,47009.0,37235.0,46692.0,77382.0,71604.0,71853.0,50127.0,62061.0,76542.0,18227.0,58554.0,52203.0,50523.0,57420.0,54342.0,26907.0,44964.0,75507.0,22682.0,38887.0,47352.0,22634.0,51315.0,34578.0,54132.0,20491.0,33402.0,21645.0,82657.0,70038.0,69401.0,46053.0,32727.0,68695.0,26290.0,57957.0,46015.0,16531.0,83844.0,67419.0,39898.0,62807.0,19414.0,75484.0,79419.0,64014.0,49854.0,87679.0,57867.0,53374.0,71706.0,53253.0,46772.0,53977.0,20981.0,69930.0,28087.0,19740.0,53083.0,31928.0,74881.0,42386.0,76081.0,47175.0,75315.0,38201.0,45203.0,81574.0,34633.0,78093.0,45903.0,40442.0,31497.0,13724.0,45143.0,17144.0,44512.0,28359.0,51717.0,66664.0,54414.0,19444.0,36301.0,73059.0,42731.0,22775.0,46681.0,30560.0,35924.0,56386.0,24594.0,75774.0,157146.0,36634.0,50334.0,34916.0,86610.0,20193.0,70440.0,38232.0,56534.0,42033.0,55012.0,9722.0,58656.0,52117.0,41154.0,35196.0,44392.0,42586.0,74881.0,46910.0,82427.0,55761.0,37292.0,70321.0,28389.0,63342.0,59481.0,71853.0,85431.0,42586.0,39435.0,71232.0,34600.0,36075.0,60839.0,77298.0,34026.0,82122.0,34074.0,63404.0,75774.0,78416.0,75702.0,59385.0,53977.0,37758.0,63207.0,21840.0,58582.0,32583.0,62568.0,52513.0,78394.0,22669.0,44911.0,48186.0,41580.0,32313.0,68148.0,65735.0,22280.0,64260.0,21024.0,54006.0,32889.0,30538.0,82326.0,69702.0,76532.0,88420.0,24882.0,59292.0,33235.0,92556.0,80573.0,34230.0,34984.0,28320.0,39898.0,72335.0,29478.0,74485.0,64474.0,77226.0,85738.0,34600.0,21994.0,13672.0,56559.0,65814.0,96876.0,27943.0,30261.0,28587.0,29672.0,49912.0,7500.0,55914.0,60905.0,61416.0,48794.0,38361.0,70038.0,42554.0,34350.0,54591.0,22390.0,71322.0,49912.0,80144.0,67911.0,44953.0,34587.0,43018.0,66476.0,69805.0,37509.0,25176.0,50116.0,84906.0,65220.0,33590.0,29732.0,41275.0,63516.0,30560.0,34176.0,62994.0,47320.0,60934.0,38946.0,65487.0,55593.0,32144.0,14918.0,88325.0,36807.0,28427.0,22775.0,40101.0,7500.0,58554.0,666666.0,64014.0,69245.0],\"y0\":\" \",\"yaxis\":\"y\",\"type\":\"box\"},{\"alignmentgroup\":\"True\",\"hovertemplate\":\"Marital_Status=Married\\u003cbr\\u003eIncome=%{y}\\u003cextra\\u003e\\u003c\\u002fextra\\u003e\",\"legendgroup\":\"Married\",\"marker\":{\"color\":\"#00cc96\"},\"name\":\"Married\",\"notched\":false,\"offsetgroup\":\"Married\",\"orientation\":\"v\",\"showlegend\":true,\"x0\":\" \",\"xaxis\":\"x\",\"y\":[58293.0,33454.0,7500.0,17323.0,41850.0,76995.0,37040.0,2447.0,58607.0,65324.0,53359.0,38360.0,84618.0,68657.0,67353.0,23718.0,80011.0,20559.0,7500.0,7500.0,72550.0,79143.0,66373.0,55954.0,25721.0,66991.0,65031.0,60631.0,28332.0,75251.0,26304.0,23559.0,29440.0,36138.0,79593.0,23626.0,30096.0,78497.0,50150.0,65846.0,87195.0,49096.0,52413.0,89058.0,43974.0,90765.0,36550.0,19510.0,54348.0,62998.0,73448.0,41551.0,33762.0,86111.0,59809.0,23957.0,35688.0,49605.0,59354.0,65747.0,70356.0,23228.0,157243.0,28718.0,50447.0,80427.0,83837.0,38853.0,78497.0,51650.0,16248.0,66835.0,30477.0,28249.0,25271.0,61286.0,74068.0,45759.0,38872.0,51148.0,31353.0,69661.0,80067.0,86718.0,44794.0,44377.0,70951.0,41443.0,83790.0,72460.0,30732.0,79930.0,62745.0,22212.0,73687.0,61074.0,31686.0,80134.0,75027.0,67546.0,44159.0,37717.0,38179.0,80124.0,38097.0,72940.0,29315.0,24480.0,44319.0,30631.0,82497.0,46377.0,80950.0,64100.0,22574.0,54198.0,40321.0,30833.0,64795.0,34421.0,62187.0,27255.0,54432.0,66334.0,35178.0,30675.0,55212.0,44300.0,33181.0,71113.0,71952.0,72099.0,50737.0,68462.0,65073.0,78618.0,28442.0,37717.0,51479.0,79530.0,35684.0,48178.0,33581.0,19986.0,35688.0,51012.0,70777.0,43824.0,48006.0,50437.0,53858.0,66465.0,75865.0,49505.0,37401.0,30096.0,82584.0,93027.0,48686.0,92910.0,75433.0,61314.0,42387.0,75236.0,32011.0,7500.0,28691.0,56223.0,18100.0,20130.0,24027.0,55707.0,56796.0,70829.0,65991.0,38988.0,42207.0,50300.0,60597.0,80124.0,33183.0,53790.0,61456.0,37406.0,38415.0,62503.0,55842.0,62010.0,41124.0,38961.0,43057.0,60093.0,14045.0,65275.0,24279.0,64355.0,65665.0,34935.0,48920.0,36443.0,80184.0,42691.0,70503.0,25545.0,32880.0,50353.0,49154.0,65316.0,84169.0,24683.0,47850.0,19514.0,27159.0,22419.0,81698.0,79908.0,15315.0,33039.0,62466.0,44989.0,38443.0,36959.0,61996.0,51287.0,13260.0,45207.0,27450.0,61794.0,92163.0,59973.0,42169.0,26224.0,61467.0,30801.0,81168.0,18978.0,22574.0,45837.0,30522.0,54456.0,72635.0,13624.0,69084.0,62466.0,56181.0,73691.0,46463.0,78710.0,67445.0,19986.0,25965.0,18690.0,29187.0,54690.0,59304.0,77353.0,26751.0,81300.0,36145.0,160803.0,61923.0,71427.0,71952.0,35178.0,25252.0,76618.0,74806.0,59111.0,18988.0,72190.0,7500.0,44794.0,80395.0,56962.0,66373.0,72025.0,67432.0,17487.0,82224.0,17003.0,63564.0,80952.0,58512.0,40662.0,38829.0,35523.0,78285.0,48726.0,74985.0,46891.0,62058.0,72063.0,78939.0,33622.0,30467.0,20425.0,43783.0,82017.0,51267.0,70421.0,19329.0,61872.0,34838.0,48192.0,49681.0,56850.0,55267.0,59666.0,26872.0,52750.0,30772.0,65685.0,25804.0,22063.0,22419.0,93404.0,35441.0,71391.0,40049.0,19419.0,82504.0,15072.0,65324.0,82347.0,46374.0,38576.0,55357.0,85710.0,7500.0,39922.0,35797.0,51111.0,42243.0,31814.0,76630.0,37087.0,81320.0,45921.0,35641.0,62820.0,84169.0,34469.0,77583.0,68397.0,25443.0,67536.0,51563.0,57937.0,16927.0,59754.0,59041.0,40233.0,50183.0,92955.0,33471.0,34596.0,84219.0,15716.0,83715.0,56962.0,35704.0,80763.0,65352.0,82170.0,75759.0,24884.0,52845.0,56337.0,36930.0,65569.0,19514.0,38196.0,59412.0,70924.0,32300.0,34961.0,17345.0,56320.0,31056.0,79593.0,37126.0,47703.0,61180.0,38998.0,33585.0,77037.0,44529.0,70924.0,69098.0,27100.0,42557.0,53312.0,62845.0,65526.0,16860.0,67023.0,39722.0,87171.0,41014.0,36715.0,79456.0,54233.0,85844.0,57236.0,56775.0,54210.0,38508.0,30023.0,50870.0,15315.0,65463.0,66480.0,33569.0,36262.0,47025.0,31605.0,46734.0,67381.0,42693.0,36778.0,49678.0,37155.0,57744.0,7500.0,54197.0,46049.0,79410.0,57304.0,44375.0,59594.0,40344.0,62710.0,48985.0,77142.0,14421.0,20130.0,74214.0,66726.0,47353.0,33444.0,54386.0,43140.0,44393.0,45894.0,43641.0,46891.0,70091.0,78075.0,54809.0,58113.0,51412.0,50965.0,84618.0,18351.0,56721.0,26228.0,40211.0,75032.0,22518.0,54730.0,38452.0,64722.0,28691.0,59062.0,65106.0,69969.0,67433.0,77766.0,74716.0,55158.0,62972.0,74190.0,39356.0,31454.0,53378.0,45579.0,55956.0,57183.0,66303.0,37368.0,40800.0,46149.0,37633.0,26997.0,57091.0,46831.0,83151.0,52531.0,15759.0,43050.0,78569.0,23148.0,71626.0,81051.0,65169.0,65695.0,59060.0,46094.0,40321.0,81843.0,18393.0,72828.0,24711.0,45503.0,27244.0,48752.0,71434.0,88097.0,51948.0,35876.0,43263.0,62845.0,18929.0,26887.0,50150.0,69139.0,69109.0,38136.0,17256.0,37971.0,67267.0,56242.0,21355.0,20895.0,92344.0,53761.0,29791.0,63915.0,51039.0,60544.0,65685.0,37716.0,44511.0,36947.0,67087.0,57045.0,69389.0,80134.0,43142.0,80589.0,36026.0,24639.0,18690.0,28164.0,34596.0,43269.0,27100.0,92533.0,31086.0,60544.0,42523.0,39922.0,36408.0,51876.0,78041.0,52852.0,77343.0,38410.0,28072.0,50725.0,41145.0,23162.0,34380.0,94871.0,65148.0,59892.0,57072.0,19107.0,76998.0,60585.0,35765.0,65492.0,68487.0,42014.0,54108.0,63206.0,57136.0,78931.0,84219.0,73538.0,79529.0,55759.0,33039.0,37787.0,37401.0,58597.0,57036.0,69283.0,23331.0,71969.0,65819.0,30390.0,37284.0,76800.0,63943.0,67445.0,37054.0,39922.0,49681.0,24645.0,44322.0,55517.0,75283.0,38998.0,27161.0,42014.0,34935.0,61482.0,34968.0,75794.0,74268.0,76445.0,36663.0,53843.0,90226.0,27116.0,54072.0,71855.0,60432.0,65526.0,12393.0,31353.0,55434.0,69139.0,52973.0,18793.0,54549.0,52854.0,59821.0,69755.0,44078.0,58494.0,22448.0,62670.0,63246.0,36732.0,69084.0,77766.0,80141.0,72635.0,69016.0,27573.0,49544.0,33228.0,22554.0,23536.0,49413.0,42231.0,18169.0,18222.0,86580.0,61064.0,38452.0,38175.0,64813.0,54222.0,83512.0,77520.0,80398.0,22108.0,55424.0,17688.0,92491.0,71107.0,18690.0,77437.0,54984.0,42403.0,81795.0,66835.0,80360.0,44989.0,41120.0,38725.0,77981.0,62905.0,72117.0,21955.0,67131.0,28249.0,47808.0,51012.0,42664.0,28973.0,65370.0,64590.0,49094.0,28520.0,44689.0,90369.0,79734.0,50387.0,63967.0,25293.0,80739.0,54693.0,54809.0,80336.0,47743.0,62972.0,86836.0,4023.0,30093.0,57705.0,72159.0,70116.0,69063.0,70886.0,69109.0,72905.0,70643.0,30396.0,44155.0,42081.0,67546.0,31158.0,45759.0,73395.0,45688.0,62820.0,60491.0,35701.0,31535.0,77870.0,18929.0,70932.0,22701.0,55212.0,70617.0,62694.0,61917.0,67472.0,21059.0,29543.0,75903.0,34242.0,25410.0,73356.0,72570.0,34529.0,63211.0,83891.0,56939.0,70053.0,44359.0,40794.0,54690.0,4428.0,32632.0,36781.0,24570.0,94642.0,58646.0,57113.0,51373.0,23477.0,58116.0,39791.0,96547.0,79205.0,32644.0,22979.0,30368.0,63684.0,34445.0,37284.0,36790.0,43815.0,48195.0,77027.0,71322.0,32765.0,67225.0,17649.0,40059.0,75330.0,38680.0,29009.0,45057.0,37150.0,53154.0,65308.0,81044.0,32871.0,59462.0,67445.0,42192.0,77610.0,31761.0,71866.0,25293.0,69520.0,27889.0,27803.0,51651.0,68487.0,56796.0,87000.0,79823.0,34109.0,48699.0,81929.0,76068.0,53204.0,14796.0,78128.0,14188.0,20425.0,58646.0,48150.0,45736.0,27733.0,43586.0,53230.0,61286.0,82333.0,156924.0,16005.0,58692.0,35788.0,23539.0,42769.0,49572.0,69209.0,17148.0,32146.0,58482.0,60896.0,90000.0,71965.0,65210.0,79174.0,52914.0,26067.0,44325.0,42523.0,53233.0,67716.0,76234.0,84117.0,25224.0,27469.0,82347.0,73803.0,50501.0,37085.0,73807.0,18929.0,61014.0,5305.0,58025.0,33562.0,63777.0,24434.0,34421.0,61223.0,52869.0],\"y0\":\" \",\"yaxis\":\"y\",\"type\":\"box\"},{\"alignmentgroup\":\"True\",\"hovertemplate\":\"Marital_Status=Divorced\\u003cbr\\u003eIncome=%{y}\\u003cextra\\u003e\\u003c\\u002fextra\\u003e\",\"legendgroup\":\"Divorced\",\"marker\":{\"color\":\"#ab63fa\"},\"name\":\"Divorced\",\"notched\":false,\"offsetgroup\":\"Divorced\",\"orientation\":\"v\",\"showlegend\":true,\"x0\":\" \",\"xaxis\":\"x\",\"y\":[55635.0,63033.0,59354.0,10979.0,46610.0,48948.0,82582.0,70287.0,40246.0,81361.0,51813.0,30992.0,9548.0,36921.0,74165.0,62551.0,52332.0,36640.0,69142.0,63693.0,48721.0,64497.0,63887.0,51537.0,81975.0,102692.0,15287.0,69674.0,33378.0,63841.0,35416.0,35388.0,57912.0,35246.0,12571.0,47025.0,64325.0,14849.0,62204.0,75693.0,41411.0,82623.0,84835.0,31615.0,83664.0,31395.0,65808.0,67272.0,23295.0,42618.0,37760.0,78825.0,46310.0,55614.0,59432.0,55563.0,61250.0,30630.0,76982.0,48799.0,23910.0,26150.0,34487.0,46102.0,63120.0,62859.0,55282.0,49431.0,153924.0,68118.0,68743.0,66476.0,50611.0,78901.0,71022.0,41335.0,35682.0,43185.0,87305.0,58710.0,75012.0,35946.0,45072.0,89694.0,42564.0,40780.0,60161.0,78353.0,37859.0,55412.0,81702.0,42835.0,36627.0,48948.0,78331.0,21846.0,54137.0,60554.0,82025.0,68274.0,67893.0,44051.0,54237.0,70647.0,59052.0,4861.0,33462.0,63693.0,85683.0,64587.0,46086.0,32173.0,25959.0,35860.0,64176.0,22304.0,79803.0,83829.0,76773.0,52034.0,39552.0,63998.0,85696.0,10979.0,21282.0,28510.0,54959.0,78579.0,58401.0,63841.0,15287.0,77297.0,44421.0,41986.0,1730.0,68118.0,35860.0,90687.0,83829.0,23748.0,71847.0,49118.0,33986.0,44267.0,85696.0,53034.0,59601.0,41335.0,50611.0,46390.0,39996.0,26759.0,63841.0,36957.0,31163.0,70844.0,43300.0,49476.0,42873.0,32952.0,31163.0,51983.0,57530.0,31859.0,27215.0,70179.0,79865.0,82460.0,81361.0,35860.0,70638.0,41003.0,50002.0,64140.0,39228.0,57136.0,64892.0,78789.0,61787.0,62335.0,41437.0,37244.0,70044.0,58086.0,69901.0,13533.0,25509.0,72071.0,44635.0,57333.0,27071.0,74290.0,11448.0,26642.0,69932.0,49638.0,70300.0,50616.0,86979.0,61671.0,49160.0,29819.0,48877.0,55686.0,25509.0,72968.0,28420.0,41638.0,68805.0,71964.0,22263.0,23272.0,71128.0,70179.0,64713.0,53367.0,72967.0,25818.0,30992.0,62637.0,29435.0,19346.0,36997.0,41713.0,72071.0,65706.0,81380.0,40851.0,45146.0,41769.0,38054.0,56981.0],\"y0\":\" \",\"yaxis\":\"y\",\"type\":\"box\"},{\"alignmentgroup\":\"True\",\"hovertemplate\":\"Marital_Status=Widow\\u003cbr\\u003eIncome=%{y}\\u003cextra\\u003e\\u003c\\u002fextra\\u003e\",\"legendgroup\":\"Widow\",\"marker\":{\"color\":\"#FFA15A\"},\"name\":\"Widow\",\"notched\":false,\"offsetgroup\":\"Widow\",\"orientation\":\"v\",\"showlegend\":true,\"x0\":\" \",\"xaxis\":\"x\",\"y\":[42429.0,65486.0,67680.0,47916.0,44551.0,73455.0,79946.0,27038.0,30372.0,62187.0,27421.0,51529.0,70165.0,50520.0,31880.0,28457.0,53653.0,47682.0,43638.0,85620.0,79800.0,42429.0,45006.0,54162.0,72298.0,58330.0,66731.0,47570.0,58330.0,46984.0,80995.0,51390.0,45684.0,52278.0,46779.0,35340.0,78028.0,63285.0,57513.0,67369.0,59184.0,33438.0,40049.0,78427.0,64866.0,82032.0,67786.0,66033.0,47111.0,56551.0,34213.0,25358.0,73705.0,82571.0,51569.0,30372.0,54111.0,84953.0,60208.0,33051.0,52278.0,54356.0,70792.0,76842.0,56551.0,71670.0,72643.0,68117.0,76320.0,67046.0,22123.0,58275.0,40590.0,40590.0,74859.0,82032.0],\"y0\":\" \",\"yaxis\":\"y\",\"type\":\"box\"},{\"alignmentgroup\":\"True\",\"hovertemplate\":\"Marital_Status=Alone\\u003cbr\\u003eIncome=%{y}\\u003cextra\\u003e\\u003c\\u002fextra\\u003e\",\"legendgroup\":\"Alone\",\"marker\":{\"color\":\"#19d3f3\"},\"name\":\"Alone\",\"notched\":false,\"offsetgroup\":\"Alone\",\"orientation\":\"v\",\"showlegend\":true,\"x0\":\" \",\"xaxis\":\"x\",\"y\":[61331.0,35860.0,34176.0],\"y0\":\" \",\"yaxis\":\"y\",\"type\":\"box\"},{\"alignmentgroup\":\"True\",\"hovertemplate\":\"Marital_Status=Absurd\\u003cbr\\u003eIncome=%{y}\\u003cextra\\u003e\\u003c\\u002fextra\\u003e\",\"legendgroup\":\"Absurd\",\"marker\":{\"color\":\"#FF6692\"},\"name\":\"Absurd\",\"notched\":false,\"offsetgroup\":\"Absurd\",\"orientation\":\"v\",\"showlegend\":true,\"x0\":\" \",\"xaxis\":\"x\",\"y\":[79244.0,65487.0],\"y0\":\" \",\"yaxis\":\"y\",\"type\":\"box\"},{\"alignmentgroup\":\"True\",\"hovertemplate\":\"Marital_Status=YOLO\\u003cbr\\u003eIncome=%{y}\\u003cextra\\u003e\\u003c\\u002fextra\\u003e\",\"legendgroup\":\"YOLO\",\"marker\":{\"color\":\"#B6E880\"},\"name\":\"YOLO\",\"notched\":false,\"offsetgroup\":\"YOLO\",\"orientation\":\"v\",\"showlegend\":true,\"x0\":\" \",\"xaxis\":\"x\",\"y\":[48432.0,48432.0],\"y0\":\" \",\"yaxis\":\"y\",\"type\":\"box\"}],                        {\"template\":{\"data\":{\"histogram2dcontour\":[{\"type\":\"histogram2dcontour\",\"colorbar\":{\"outlinewidth\":0,\"ticks\":\"\"},\"colorscale\":[[0.0,\"#0d0887\"],[0.1111111111111111,\"#46039f\"],[0.2222222222222222,\"#7201a8\"],[0.3333333333333333,\"#9c179e\"],[0.4444444444444444,\"#bd3786\"],[0.5555555555555556,\"#d8576b\"],[0.6666666666666666,\"#ed7953\"],[0.7777777777777778,\"#fb9f3a\"],[0.8888888888888888,\"#fdca26\"],[1.0,\"#f0f921\"]]}],\"choropleth\":[{\"type\":\"choropleth\",\"colorbar\":{\"outlinewidth\":0,\"ticks\":\"\"}}],\"histogram2d\":[{\"type\":\"histogram2d\",\"colorbar\":{\"outlinewidth\":0,\"ticks\":\"\"},\"colorscale\":[[0.0,\"#0d0887\"],[0.1111111111111111,\"#46039f\"],[0.2222222222222222,\"#7201a8\"],[0.3333333333333333,\"#9c179e\"],[0.4444444444444444,\"#bd3786\"],[0.5555555555555556,\"#d8576b\"],[0.6666666666666666,\"#ed7953\"],[0.7777777777777778,\"#fb9f3a\"],[0.8888888888888888,\"#fdca26\"],[1.0,\"#f0f921\"]]}],\"heatmap\":[{\"type\":\"heatmap\",\"colorbar\":{\"outlinewidth\":0,\"ticks\":\"\"},\"colorscale\":[[0.0,\"#0d0887\"],[0.1111111111111111,\"#46039f\"],[0.2222222222222222,\"#7201a8\"],[0.3333333333333333,\"#9c179e\"],[0.4444444444444444,\"#bd3786\"],[0.5555555555555556,\"#d8576b\"],[0.6666666666666666,\"#ed7953\"],[0.7777777777777778,\"#fb9f3a\"],[0.8888888888888888,\"#fdca26\"],[1.0,\"#f0f921\"]]}],\"heatmapgl\":[{\"type\":\"heatmapgl\",\"colorbar\":{\"outlinewidth\":0,\"ticks\":\"\"},\"colorscale\":[[0.0,\"#0d0887\"],[0.1111111111111111,\"#46039f\"],[0.2222222222222222,\"#7201a8\"],[0.3333333333333333,\"#9c179e\"],[0.4444444444444444,\"#bd3786\"],[0.5555555555555556,\"#d8576b\"],[0.6666666666666666,\"#ed7953\"],[0.7777777777777778,\"#fb9f3a\"],[0.8888888888888888,\"#fdca26\"],[1.0,\"#f0f921\"]]}],\"contourcarpet\":[{\"type\":\"contourcarpet\",\"colorbar\":{\"outlinewidth\":0,\"ticks\":\"\"}}],\"contour\":[{\"type\":\"contour\",\"colorbar\":{\"outlinewidth\":0,\"ticks\":\"\"},\"colorscale\":[[0.0,\"#0d0887\"],[0.1111111111111111,\"#46039f\"],[0.2222222222222222,\"#7201a8\"],[0.3333333333333333,\"#9c179e\"],[0.4444444444444444,\"#bd3786\"],[0.5555555555555556,\"#d8576b\"],[0.6666666666666666,\"#ed7953\"],[0.7777777777777778,\"#fb9f3a\"],[0.8888888888888888,\"#fdca26\"],[1.0,\"#f0f921\"]]}],\"surface\":[{\"type\":\"surface\",\"colorbar\":{\"outlinewidth\":0,\"ticks\":\"\"},\"colorscale\":[[0.0,\"#0d0887\"],[0.1111111111111111,\"#46039f\"],[0.2222222222222222,\"#7201a8\"],[0.3333333333333333,\"#9c179e\"],[0.4444444444444444,\"#bd3786\"],[0.5555555555555556,\"#d8576b\"],[0.6666666666666666,\"#ed7953\"],[0.7777777777777778,\"#fb9f3a\"],[0.8888888888888888,\"#fdca26\"],[1.0,\"#f0f921\"]]}],\"mesh3d\":[{\"type\":\"mesh3d\",\"colorbar\":{\"outlinewidth\":0,\"ticks\":\"\"}}],\"scatter\":[{\"fillpattern\":{\"fillmode\":\"overlay\",\"size\":10,\"solidity\":0.2},\"type\":\"scatter\"}],\"parcoords\":[{\"type\":\"parcoords\",\"line\":{\"colorbar\":{\"outlinewidth\":0,\"ticks\":\"\"}}}],\"scatterpolargl\":[{\"type\":\"scatterpolargl\",\"marker\":{\"colorbar\":{\"outlinewidth\":0,\"ticks\":\"\"}}}],\"bar\":[{\"error_x\":{\"color\":\"#2a3f5f\"},\"error_y\":{\"color\":\"#2a3f5f\"},\"marker\":{\"line\":{\"color\":\"#E5ECF6\",\"width\":0.5},\"pattern\":{\"fillmode\":\"overlay\",\"size\":10,\"solidity\":0.2}},\"type\":\"bar\"}],\"scattergeo\":[{\"type\":\"scattergeo\",\"marker\":{\"colorbar\":{\"outlinewidth\":0,\"ticks\":\"\"}}}],\"scatterpolar\":[{\"type\":\"scatterpolar\",\"marker\":{\"colorbar\":{\"outlinewidth\":0,\"ticks\":\"\"}}}],\"histogram\":[{\"marker\":{\"pattern\":{\"fillmode\":\"overlay\",\"size\":10,\"solidity\":0.2}},\"type\":\"histogram\"}],\"scattergl\":[{\"type\":\"scattergl\",\"marker\":{\"colorbar\":{\"outlinewidth\":0,\"ticks\":\"\"}}}],\"scatter3d\":[{\"type\":\"scatter3d\",\"line\":{\"colorbar\":{\"outlinewidth\":0,\"ticks\":\"\"}},\"marker\":{\"colorbar\":{\"outlinewidth\":0,\"ticks\":\"\"}}}],\"scattermapbox\":[{\"type\":\"scattermapbox\",\"marker\":{\"colorbar\":{\"outlinewidth\":0,\"ticks\":\"\"}}}],\"scatterternary\":[{\"type\":\"scatterternary\",\"marker\":{\"colorbar\":{\"outlinewidth\":0,\"ticks\":\"\"}}}],\"scattercarpet\":[{\"type\":\"scattercarpet\",\"marker\":{\"colorbar\":{\"outlinewidth\":0,\"ticks\":\"\"}}}],\"carpet\":[{\"aaxis\":{\"endlinecolor\":\"#2a3f5f\",\"gridcolor\":\"white\",\"linecolor\":\"white\",\"minorgridcolor\":\"white\",\"startlinecolor\":\"#2a3f5f\"},\"baxis\":{\"endlinecolor\":\"#2a3f5f\",\"gridcolor\":\"white\",\"linecolor\":\"white\",\"minorgridcolor\":\"white\",\"startlinecolor\":\"#2a3f5f\"},\"type\":\"carpet\"}],\"table\":[{\"cells\":{\"fill\":{\"color\":\"#EBF0F8\"},\"line\":{\"color\":\"white\"}},\"header\":{\"fill\":{\"color\":\"#C8D4E3\"},\"line\":{\"color\":\"white\"}},\"type\":\"table\"}],\"barpolar\":[{\"marker\":{\"line\":{\"color\":\"#E5ECF6\",\"width\":0.5},\"pattern\":{\"fillmode\":\"overlay\",\"size\":10,\"solidity\":0.2}},\"type\":\"barpolar\"}],\"pie\":[{\"automargin\":true,\"type\":\"pie\"}]},\"layout\":{\"autotypenumbers\":\"strict\",\"colorway\":[\"#636efa\",\"#EF553B\",\"#00cc96\",\"#ab63fa\",\"#FFA15A\",\"#19d3f3\",\"#FF6692\",\"#B6E880\",\"#FF97FF\",\"#FECB52\"],\"font\":{\"color\":\"#2a3f5f\"},\"hovermode\":\"closest\",\"hoverlabel\":{\"align\":\"left\"},\"paper_bgcolor\":\"white\",\"plot_bgcolor\":\"#E5ECF6\",\"polar\":{\"bgcolor\":\"#E5ECF6\",\"angularaxis\":{\"gridcolor\":\"white\",\"linecolor\":\"white\",\"ticks\":\"\"},\"radialaxis\":{\"gridcolor\":\"white\",\"linecolor\":\"white\",\"ticks\":\"\"}},\"ternary\":{\"bgcolor\":\"#E5ECF6\",\"aaxis\":{\"gridcolor\":\"white\",\"linecolor\":\"white\",\"ticks\":\"\"},\"baxis\":{\"gridcolor\":\"white\",\"linecolor\":\"white\",\"ticks\":\"\"},\"caxis\":{\"gridcolor\":\"white\",\"linecolor\":\"white\",\"ticks\":\"\"}},\"coloraxis\":{\"colorbar\":{\"outlinewidth\":0,\"ticks\":\"\"}},\"colorscale\":{\"sequential\":[[0.0,\"#0d0887\"],[0.1111111111111111,\"#46039f\"],[0.2222222222222222,\"#7201a8\"],[0.3333333333333333,\"#9c179e\"],[0.4444444444444444,\"#bd3786\"],[0.5555555555555556,\"#d8576b\"],[0.6666666666666666,\"#ed7953\"],[0.7777777777777778,\"#fb9f3a\"],[0.8888888888888888,\"#fdca26\"],[1.0,\"#f0f921\"]],\"sequentialminus\":[[0.0,\"#0d0887\"],[0.1111111111111111,\"#46039f\"],[0.2222222222222222,\"#7201a8\"],[0.3333333333333333,\"#9c179e\"],[0.4444444444444444,\"#bd3786\"],[0.5555555555555556,\"#d8576b\"],[0.6666666666666666,\"#ed7953\"],[0.7777777777777778,\"#fb9f3a\"],[0.8888888888888888,\"#fdca26\"],[1.0,\"#f0f921\"]],\"diverging\":[[0,\"#8e0152\"],[0.1,\"#c51b7d\"],[0.2,\"#de77ae\"],[0.3,\"#f1b6da\"],[0.4,\"#fde0ef\"],[0.5,\"#f7f7f7\"],[0.6,\"#e6f5d0\"],[0.7,\"#b8e186\"],[0.8,\"#7fbc41\"],[0.9,\"#4d9221\"],[1,\"#276419\"]]},\"xaxis\":{\"gridcolor\":\"white\",\"linecolor\":\"white\",\"ticks\":\"\",\"title\":{\"standoff\":15},\"zerolinecolor\":\"white\",\"automargin\":true,\"zerolinewidth\":2},\"yaxis\":{\"gridcolor\":\"white\",\"linecolor\":\"white\",\"ticks\":\"\",\"title\":{\"standoff\":15},\"zerolinecolor\":\"white\",\"automargin\":true,\"zerolinewidth\":2},\"scene\":{\"xaxis\":{\"backgroundcolor\":\"#E5ECF6\",\"gridcolor\":\"white\",\"linecolor\":\"white\",\"showbackground\":true,\"ticks\":\"\",\"zerolinecolor\":\"white\",\"gridwidth\":2},\"yaxis\":{\"backgroundcolor\":\"#E5ECF6\",\"gridcolor\":\"white\",\"linecolor\":\"white\",\"showbackground\":true,\"ticks\":\"\",\"zerolinecolor\":\"white\",\"gridwidth\":2},\"zaxis\":{\"backgroundcolor\":\"#E5ECF6\",\"gridcolor\":\"white\",\"linecolor\":\"white\",\"showbackground\":true,\"ticks\":\"\",\"zerolinecolor\":\"white\",\"gridwidth\":2}},\"shapedefaults\":{\"line\":{\"color\":\"#2a3f5f\"}},\"annotationdefaults\":{\"arrowcolor\":\"#2a3f5f\",\"arrowhead\":0,\"arrowwidth\":1},\"geo\":{\"bgcolor\":\"white\",\"landcolor\":\"#E5ECF6\",\"subunitcolor\":\"white\",\"showland\":true,\"showlakes\":true,\"lakecolor\":\"white\"},\"title\":{\"x\":0.05},\"mapbox\":{\"style\":\"light\"}}},\"xaxis\":{\"anchor\":\"y\",\"domain\":[0.0,1.0]},\"yaxis\":{\"anchor\":\"x\",\"domain\":[0.0,1.0],\"title\":{\"text\":\"Income\"}},\"legend\":{\"title\":{\"text\":\"Marital_Status\"},\"tracegroupgap\":0},\"margin\":{\"t\":60},\"boxmode\":\"group\"},                        {\"responsive\": true}                    ).then(function(){\n",
              "                            \n",
              "var gd = document.getElementById('1bb69473-fed0-4b17-8fa8-518032094874');\n",
              "var x = new MutationObserver(function (mutations, observer) {{\n",
              "        var display = window.getComputedStyle(gd).display;\n",
              "        if (!display || display === 'none') {{\n",
              "            console.log([gd, 'removed!']);\n",
              "            Plotly.purge(gd);\n",
              "            observer.disconnect();\n",
              "        }}\n",
              "}});\n",
              "\n",
              "// Listen for the removal of the full notebook cells\n",
              "var notebookContainer = gd.closest('#notebook-container');\n",
              "if (notebookContainer) {{\n",
              "    x.observe(notebookContainer, {childList: true});\n",
              "}}\n",
              "\n",
              "// Listen for the clearing of the current output cell\n",
              "var outputEl = gd.closest('.output');\n",
              "if (outputEl) {{\n",
              "    x.observe(outputEl, {childList: true});\n",
              "}}\n",
              "\n",
              "                        })                };                            </script>        </div>\n",
              "</body>\n",
              "</html>"
            ]
          },
          "metadata": {}
        }
      ]
    },
    {
      "cell_type": "code",
      "source": [
        "px.bar(tabla_frecuencia_relacion.reset_index(), x='Marital_Status', y='proportion', color='Education', barmode='group')"
      ],
      "metadata": {
        "colab": {
          "base_uri": "https://localhost:8080/",
          "height": 542
        },
        "id": "xkVt3UxIu_-1",
        "outputId": "26b85873-1bae-40cb-e3e4-b85965902986"
      },
      "execution_count": null,
      "outputs": [
        {
          "output_type": "display_data",
          "data": {
            "text/html": [
              "<html>\n",
              "<head><meta charset=\"utf-8\" /></head>\n",
              "<body>\n",
              "    <div>            <script src=\"https://cdnjs.cloudflare.com/ajax/libs/mathjax/2.7.5/MathJax.js?config=TeX-AMS-MML_SVG\"></script><script type=\"text/javascript\">if (window.MathJax && window.MathJax.Hub && window.MathJax.Hub.Config) {window.MathJax.Hub.Config({SVG: {font: \"STIX-Web\"}});}</script>                <script type=\"text/javascript\">window.PlotlyConfig = {MathJaxConfig: 'local'};</script>\n",
              "        <script charset=\"utf-8\" src=\"https://cdn.plot.ly/plotly-2.24.1.min.js\"></script>                <div id=\"fd79315f-9d6c-4921-96c7-c24891c037d5\" class=\"plotly-graph-div\" style=\"height:525px; width:100%;\"></div>            <script type=\"text/javascript\">                                    window.PLOTLYENV=window.PLOTLYENV || {};                                    if (document.getElementById(\"fd79315f-9d6c-4921-96c7-c24891c037d5\")) {                    Plotly.newPlot(                        \"fd79315f-9d6c-4921-96c7-c24891c037d5\",                        [{\"alignmentgroup\":\"True\",\"hovertemplate\":\"Education=Master\\u003cbr\\u003eMarital_Status=%{x}\\u003cbr\\u003eproportion=%{y}\\u003cextra\\u003e\\u003c\\u002fextra\\u003e\",\"legendgroup\":\"Master\",\"marker\":{\"color\":\"#636efa\",\"pattern\":{\"shape\":\"\"}},\"name\":\"Master\",\"offsetgroup\":\"Master\",\"orientation\":\"v\",\"showlegend\":true,\"textposition\":\"auto\",\"x\":[\"Absurd\",\"Alone\",\"Divorced\",\"Married\",\"Single\",\"Together\",\"Widow\"],\"xaxis\":\"x\",\"y\":[0.5,0.3333333333333333,0.15948275862068967,0.16102683780630106,0.1592356687898089,0.17801047120418848,0.14473684210526316],\"yaxis\":\"y\",\"type\":\"bar\"},{\"alignmentgroup\":\"True\",\"hovertemplate\":\"Education=Graduation\\u003cbr\\u003eMarital_Status=%{x}\\u003cbr\\u003eproportion=%{y}\\u003cextra\\u003e\\u003c\\u002fextra\\u003e\",\"legendgroup\":\"Graduation\",\"marker\":{\"color\":\"#EF553B\",\"pattern\":{\"shape\":\"\"}},\"name\":\"Graduation\",\"offsetgroup\":\"Graduation\",\"orientation\":\"v\",\"showlegend\":true,\"textposition\":\"auto\",\"x\":[\"Absurd\",\"Alone\",\"Divorced\",\"Married\",\"Single\",\"Together\",\"Widow\"],\"xaxis\":\"x\",\"y\":[0.5,0.3333333333333333,0.5129310344827587,0.5005834305717619,0.5222929936305732,0.4973821989528796,0.4605263157894737],\"yaxis\":\"y\",\"type\":\"bar\"},{\"alignmentgroup\":\"True\",\"hovertemplate\":\"Education=PhD\\u003cbr\\u003eMarital_Status=%{x}\\u003cbr\\u003eproportion=%{y}\\u003cextra\\u003e\\u003c\\u002fextra\\u003e\",\"legendgroup\":\"PhD\",\"marker\":{\"color\":\"#00cc96\",\"pattern\":{\"shape\":\"\"}},\"name\":\"PhD\",\"offsetgroup\":\"PhD\",\"orientation\":\"v\",\"showlegend\":true,\"textposition\":\"auto\",\"x\":[\"Alone\",\"Divorced\",\"Married\",\"Single\",\"Together\",\"Widow\",\"YOLO\"],\"xaxis\":\"x\",\"y\":[0.3333333333333333,0.22413793103448276,0.22170361726954493,0.20382165605095542,0.2024432809773124,0.3157894736842105,1.0],\"yaxis\":\"y\",\"type\":\"bar\"},{\"alignmentgroup\":\"True\",\"hovertemplate\":\"Education=2n Cycle\\u003cbr\\u003eMarital_Status=%{x}\\u003cbr\\u003eproportion=%{y}\\u003cextra\\u003e\\u003c\\u002fextra\\u003e\",\"legendgroup\":\"2n Cycle\",\"marker\":{\"color\":\"#ab63fa\",\"pattern\":{\"shape\":\"\"}},\"name\":\"2n Cycle\",\"offsetgroup\":\"2n Cycle\",\"orientation\":\"v\",\"showlegend\":true,\"textposition\":\"auto\",\"x\":[\"Divorced\",\"Married\",\"Single\",\"Together\",\"Widow\"],\"xaxis\":\"x\",\"y\":[0.09913793103448276,0.09334889148191365,0.07643312101910828,0.09773123909249563,0.06578947368421052],\"yaxis\":\"y\",\"type\":\"bar\"},{\"alignmentgroup\":\"True\",\"hovertemplate\":\"Education=Basic\\u003cbr\\u003eMarital_Status=%{x}\\u003cbr\\u003eproportion=%{y}\\u003cextra\\u003e\\u003c\\u002fextra\\u003e\",\"legendgroup\":\"Basic\",\"marker\":{\"color\":\"#FFA15A\",\"pattern\":{\"shape\":\"\"}},\"name\":\"Basic\",\"offsetgroup\":\"Basic\",\"orientation\":\"v\",\"showlegend\":true,\"textposition\":\"auto\",\"x\":[\"Divorced\",\"Married\",\"Single\",\"Together\",\"Widow\"],\"xaxis\":\"x\",\"y\":[0.004310344827586207,0.023337222870478413,0.03821656050955414,0.02443280977312391,0.013157894736842105],\"yaxis\":\"y\",\"type\":\"bar\"}],                        {\"template\":{\"data\":{\"histogram2dcontour\":[{\"type\":\"histogram2dcontour\",\"colorbar\":{\"outlinewidth\":0,\"ticks\":\"\"},\"colorscale\":[[0.0,\"#0d0887\"],[0.1111111111111111,\"#46039f\"],[0.2222222222222222,\"#7201a8\"],[0.3333333333333333,\"#9c179e\"],[0.4444444444444444,\"#bd3786\"],[0.5555555555555556,\"#d8576b\"],[0.6666666666666666,\"#ed7953\"],[0.7777777777777778,\"#fb9f3a\"],[0.8888888888888888,\"#fdca26\"],[1.0,\"#f0f921\"]]}],\"choropleth\":[{\"type\":\"choropleth\",\"colorbar\":{\"outlinewidth\":0,\"ticks\":\"\"}}],\"histogram2d\":[{\"type\":\"histogram2d\",\"colorbar\":{\"outlinewidth\":0,\"ticks\":\"\"},\"colorscale\":[[0.0,\"#0d0887\"],[0.1111111111111111,\"#46039f\"],[0.2222222222222222,\"#7201a8\"],[0.3333333333333333,\"#9c179e\"],[0.4444444444444444,\"#bd3786\"],[0.5555555555555556,\"#d8576b\"],[0.6666666666666666,\"#ed7953\"],[0.7777777777777778,\"#fb9f3a\"],[0.8888888888888888,\"#fdca26\"],[1.0,\"#f0f921\"]]}],\"heatmap\":[{\"type\":\"heatmap\",\"colorbar\":{\"outlinewidth\":0,\"ticks\":\"\"},\"colorscale\":[[0.0,\"#0d0887\"],[0.1111111111111111,\"#46039f\"],[0.2222222222222222,\"#7201a8\"],[0.3333333333333333,\"#9c179e\"],[0.4444444444444444,\"#bd3786\"],[0.5555555555555556,\"#d8576b\"],[0.6666666666666666,\"#ed7953\"],[0.7777777777777778,\"#fb9f3a\"],[0.8888888888888888,\"#fdca26\"],[1.0,\"#f0f921\"]]}],\"heatmapgl\":[{\"type\":\"heatmapgl\",\"colorbar\":{\"outlinewidth\":0,\"ticks\":\"\"},\"colorscale\":[[0.0,\"#0d0887\"],[0.1111111111111111,\"#46039f\"],[0.2222222222222222,\"#7201a8\"],[0.3333333333333333,\"#9c179e\"],[0.4444444444444444,\"#bd3786\"],[0.5555555555555556,\"#d8576b\"],[0.6666666666666666,\"#ed7953\"],[0.7777777777777778,\"#fb9f3a\"],[0.8888888888888888,\"#fdca26\"],[1.0,\"#f0f921\"]]}],\"contourcarpet\":[{\"type\":\"contourcarpet\",\"colorbar\":{\"outlinewidth\":0,\"ticks\":\"\"}}],\"contour\":[{\"type\":\"contour\",\"colorbar\":{\"outlinewidth\":0,\"ticks\":\"\"},\"colorscale\":[[0.0,\"#0d0887\"],[0.1111111111111111,\"#46039f\"],[0.2222222222222222,\"#7201a8\"],[0.3333333333333333,\"#9c179e\"],[0.4444444444444444,\"#bd3786\"],[0.5555555555555556,\"#d8576b\"],[0.6666666666666666,\"#ed7953\"],[0.7777777777777778,\"#fb9f3a\"],[0.8888888888888888,\"#fdca26\"],[1.0,\"#f0f921\"]]}],\"surface\":[{\"type\":\"surface\",\"colorbar\":{\"outlinewidth\":0,\"ticks\":\"\"},\"colorscale\":[[0.0,\"#0d0887\"],[0.1111111111111111,\"#46039f\"],[0.2222222222222222,\"#7201a8\"],[0.3333333333333333,\"#9c179e\"],[0.4444444444444444,\"#bd3786\"],[0.5555555555555556,\"#d8576b\"],[0.6666666666666666,\"#ed7953\"],[0.7777777777777778,\"#fb9f3a\"],[0.8888888888888888,\"#fdca26\"],[1.0,\"#f0f921\"]]}],\"mesh3d\":[{\"type\":\"mesh3d\",\"colorbar\":{\"outlinewidth\":0,\"ticks\":\"\"}}],\"scatter\":[{\"fillpattern\":{\"fillmode\":\"overlay\",\"size\":10,\"solidity\":0.2},\"type\":\"scatter\"}],\"parcoords\":[{\"type\":\"parcoords\",\"line\":{\"colorbar\":{\"outlinewidth\":0,\"ticks\":\"\"}}}],\"scatterpolargl\":[{\"type\":\"scatterpolargl\",\"marker\":{\"colorbar\":{\"outlinewidth\":0,\"ticks\":\"\"}}}],\"bar\":[{\"error_x\":{\"color\":\"#2a3f5f\"},\"error_y\":{\"color\":\"#2a3f5f\"},\"marker\":{\"line\":{\"color\":\"#E5ECF6\",\"width\":0.5},\"pattern\":{\"fillmode\":\"overlay\",\"size\":10,\"solidity\":0.2}},\"type\":\"bar\"}],\"scattergeo\":[{\"type\":\"scattergeo\",\"marker\":{\"colorbar\":{\"outlinewidth\":0,\"ticks\":\"\"}}}],\"scatterpolar\":[{\"type\":\"scatterpolar\",\"marker\":{\"colorbar\":{\"outlinewidth\":0,\"ticks\":\"\"}}}],\"histogram\":[{\"marker\":{\"pattern\":{\"fillmode\":\"overlay\",\"size\":10,\"solidity\":0.2}},\"type\":\"histogram\"}],\"scattergl\":[{\"type\":\"scattergl\",\"marker\":{\"colorbar\":{\"outlinewidth\":0,\"ticks\":\"\"}}}],\"scatter3d\":[{\"type\":\"scatter3d\",\"line\":{\"colorbar\":{\"outlinewidth\":0,\"ticks\":\"\"}},\"marker\":{\"colorbar\":{\"outlinewidth\":0,\"ticks\":\"\"}}}],\"scattermapbox\":[{\"type\":\"scattermapbox\",\"marker\":{\"colorbar\":{\"outlinewidth\":0,\"ticks\":\"\"}}}],\"scatterternary\":[{\"type\":\"scatterternary\",\"marker\":{\"colorbar\":{\"outlinewidth\":0,\"ticks\":\"\"}}}],\"scattercarpet\":[{\"type\":\"scattercarpet\",\"marker\":{\"colorbar\":{\"outlinewidth\":0,\"ticks\":\"\"}}}],\"carpet\":[{\"aaxis\":{\"endlinecolor\":\"#2a3f5f\",\"gridcolor\":\"white\",\"linecolor\":\"white\",\"minorgridcolor\":\"white\",\"startlinecolor\":\"#2a3f5f\"},\"baxis\":{\"endlinecolor\":\"#2a3f5f\",\"gridcolor\":\"white\",\"linecolor\":\"white\",\"minorgridcolor\":\"white\",\"startlinecolor\":\"#2a3f5f\"},\"type\":\"carpet\"}],\"table\":[{\"cells\":{\"fill\":{\"color\":\"#EBF0F8\"},\"line\":{\"color\":\"white\"}},\"header\":{\"fill\":{\"color\":\"#C8D4E3\"},\"line\":{\"color\":\"white\"}},\"type\":\"table\"}],\"barpolar\":[{\"marker\":{\"line\":{\"color\":\"#E5ECF6\",\"width\":0.5},\"pattern\":{\"fillmode\":\"overlay\",\"size\":10,\"solidity\":0.2}},\"type\":\"barpolar\"}],\"pie\":[{\"automargin\":true,\"type\":\"pie\"}]},\"layout\":{\"autotypenumbers\":\"strict\",\"colorway\":[\"#636efa\",\"#EF553B\",\"#00cc96\",\"#ab63fa\",\"#FFA15A\",\"#19d3f3\",\"#FF6692\",\"#B6E880\",\"#FF97FF\",\"#FECB52\"],\"font\":{\"color\":\"#2a3f5f\"},\"hovermode\":\"closest\",\"hoverlabel\":{\"align\":\"left\"},\"paper_bgcolor\":\"white\",\"plot_bgcolor\":\"#E5ECF6\",\"polar\":{\"bgcolor\":\"#E5ECF6\",\"angularaxis\":{\"gridcolor\":\"white\",\"linecolor\":\"white\",\"ticks\":\"\"},\"radialaxis\":{\"gridcolor\":\"white\",\"linecolor\":\"white\",\"ticks\":\"\"}},\"ternary\":{\"bgcolor\":\"#E5ECF6\",\"aaxis\":{\"gridcolor\":\"white\",\"linecolor\":\"white\",\"ticks\":\"\"},\"baxis\":{\"gridcolor\":\"white\",\"linecolor\":\"white\",\"ticks\":\"\"},\"caxis\":{\"gridcolor\":\"white\",\"linecolor\":\"white\",\"ticks\":\"\"}},\"coloraxis\":{\"colorbar\":{\"outlinewidth\":0,\"ticks\":\"\"}},\"colorscale\":{\"sequential\":[[0.0,\"#0d0887\"],[0.1111111111111111,\"#46039f\"],[0.2222222222222222,\"#7201a8\"],[0.3333333333333333,\"#9c179e\"],[0.4444444444444444,\"#bd3786\"],[0.5555555555555556,\"#d8576b\"],[0.6666666666666666,\"#ed7953\"],[0.7777777777777778,\"#fb9f3a\"],[0.8888888888888888,\"#fdca26\"],[1.0,\"#f0f921\"]],\"sequentialminus\":[[0.0,\"#0d0887\"],[0.1111111111111111,\"#46039f\"],[0.2222222222222222,\"#7201a8\"],[0.3333333333333333,\"#9c179e\"],[0.4444444444444444,\"#bd3786\"],[0.5555555555555556,\"#d8576b\"],[0.6666666666666666,\"#ed7953\"],[0.7777777777777778,\"#fb9f3a\"],[0.8888888888888888,\"#fdca26\"],[1.0,\"#f0f921\"]],\"diverging\":[[0,\"#8e0152\"],[0.1,\"#c51b7d\"],[0.2,\"#de77ae\"],[0.3,\"#f1b6da\"],[0.4,\"#fde0ef\"],[0.5,\"#f7f7f7\"],[0.6,\"#e6f5d0\"],[0.7,\"#b8e186\"],[0.8,\"#7fbc41\"],[0.9,\"#4d9221\"],[1,\"#276419\"]]},\"xaxis\":{\"gridcolor\":\"white\",\"linecolor\":\"white\",\"ticks\":\"\",\"title\":{\"standoff\":15},\"zerolinecolor\":\"white\",\"automargin\":true,\"zerolinewidth\":2},\"yaxis\":{\"gridcolor\":\"white\",\"linecolor\":\"white\",\"ticks\":\"\",\"title\":{\"standoff\":15},\"zerolinecolor\":\"white\",\"automargin\":true,\"zerolinewidth\":2},\"scene\":{\"xaxis\":{\"backgroundcolor\":\"#E5ECF6\",\"gridcolor\":\"white\",\"linecolor\":\"white\",\"showbackground\":true,\"ticks\":\"\",\"zerolinecolor\":\"white\",\"gridwidth\":2},\"yaxis\":{\"backgroundcolor\":\"#E5ECF6\",\"gridcolor\":\"white\",\"linecolor\":\"white\",\"showbackground\":true,\"ticks\":\"\",\"zerolinecolor\":\"white\",\"gridwidth\":2},\"zaxis\":{\"backgroundcolor\":\"#E5ECF6\",\"gridcolor\":\"white\",\"linecolor\":\"white\",\"showbackground\":true,\"ticks\":\"\",\"zerolinecolor\":\"white\",\"gridwidth\":2}},\"shapedefaults\":{\"line\":{\"color\":\"#2a3f5f\"}},\"annotationdefaults\":{\"arrowcolor\":\"#2a3f5f\",\"arrowhead\":0,\"arrowwidth\":1},\"geo\":{\"bgcolor\":\"white\",\"landcolor\":\"#E5ECF6\",\"subunitcolor\":\"white\",\"showland\":true,\"showlakes\":true,\"lakecolor\":\"white\"},\"title\":{\"x\":0.05},\"mapbox\":{\"style\":\"light\"}}},\"xaxis\":{\"anchor\":\"y\",\"domain\":[0.0,1.0],\"title\":{\"text\":\"Marital_Status\"}},\"yaxis\":{\"anchor\":\"x\",\"domain\":[0.0,1.0],\"title\":{\"text\":\"proportion\"}},\"legend\":{\"title\":{\"text\":\"Education\"},\"tracegroupgap\":0},\"margin\":{\"t\":60},\"barmode\":\"group\"},                        {\"responsive\": true}                    ).then(function(){\n",
              "                            \n",
              "var gd = document.getElementById('fd79315f-9d6c-4921-96c7-c24891c037d5');\n",
              "var x = new MutationObserver(function (mutations, observer) {{\n",
              "        var display = window.getComputedStyle(gd).display;\n",
              "        if (!display || display === 'none') {{\n",
              "            console.log([gd, 'removed!']);\n",
              "            Plotly.purge(gd);\n",
              "            observer.disconnect();\n",
              "        }}\n",
              "}});\n",
              "\n",
              "// Listen for the removal of the full notebook cells\n",
              "var notebookContainer = gd.closest('#notebook-container');\n",
              "if (notebookContainer) {{\n",
              "    x.observe(notebookContainer, {childList: true});\n",
              "}}\n",
              "\n",
              "// Listen for the clearing of the current output cell\n",
              "var outputEl = gd.closest('.output');\n",
              "if (outputEl) {{\n",
              "    x.observe(outputEl, {childList: true});\n",
              "}}\n",
              "\n",
              "                        })                };                            </script>        </div>\n",
              "</body>\n",
              "</html>"
            ]
          },
          "metadata": {}
        }
      ]
    }
  ]
}